{
 "cells": [
  {
   "cell_type": "code",
   "execution_count": 7,
   "id": "ab790f33",
   "metadata": {},
   "outputs": [],
   "source": [
    "xyz = \"Python is easy\""
   ]
  },
  {
   "cell_type": "code",
   "execution_count": 8,
   "id": "fd204ee8",
   "metadata": {},
   "outputs": [
    {
     "name": "stdout",
     "output_type": "stream",
     "text": [
      "character present\n"
     ]
    }
   ],
   "source": [
    "if \" \" in xyz:\n",
    "    print(\"character present\")\n",
    "else:\n",
    "    print(\"character not present\")"
   ]
  },
  {
   "cell_type": "code",
   "execution_count": 9,
   "id": "b63354d4",
   "metadata": {},
   "outputs": [],
   "source": [
    "basin = \"KG Basin\"\n",
    "pressure = 5000"
   ]
  },
  {
   "cell_type": "code",
   "execution_count": 10,
   "id": "b502ffb4",
   "metadata": {},
   "outputs": [
    {
     "name": "stdout",
     "output_type": "stream",
     "text": [
      "anything\n"
     ]
    }
   ],
   "source": [
    "if basin == \"KG Basin\" and pressure == 5000:\n",
    "    print(\"anything\")\n",
    "else: \n",
    "    print(\"nothing\")"
   ]
  },
  {
   "cell_type": "code",
   "execution_count": 11,
   "id": "9163a400",
   "metadata": {},
   "outputs": [
    {
     "name": "stdout",
     "output_type": "stream",
     "text": [
      "anything\n"
     ]
    }
   ],
   "source": [
    "if basin == \"KG Basin\" or pressure == 5000:\n",
    "    print(\"anything\")\n",
    "else: \n",
    "    print(\"nothing\")"
   ]
  },
  {
   "cell_type": "code",
   "execution_count": 12,
   "id": "12e1750b",
   "metadata": {},
   "outputs": [
    {
     "name": "stdout",
     "output_type": "stream",
     "text": [
      "What is the drill bit BOP in ft/hr?\n",
      "Not defined\n"
     ]
    }
   ],
   "source": [
    "#finding empty or not\n",
    "drill_rate = input(\"What is the drill bit BOP in ft/hr?\")\n",
    "\n",
    "if drill_rate:\n",
    "    print(f\"Drill bit rate is {drill_rate}\")\n",
    "else:\n",
    "    print(\"Not defined\")"
   ]
  },
  {
   "cell_type": "code",
   "execution_count": 13,
   "id": "55f06f7e",
   "metadata": {},
   "outputs": [
    {
     "name": "stdout",
     "output_type": "stream",
     "text": [
      "What is the drill bit BOP in ft/hr?85\n",
      "Drill bit rate is 85\n"
     ]
    }
   ],
   "source": [
    "drill_rate = input(\"What is the drill bit BOP in ft/hr?\")\n",
    "\n",
    "if drill_rate:\n",
    "    print(f\"Drill bit rate is {drill_rate}\")\n",
    "else:\n",
    "    print(\"Not defined\")"
   ]
  },
  {
   "cell_type": "code",
   "execution_count": null,
   "id": "748c641f",
   "metadata": {},
   "outputs": [],
   "source": []
  }
 ],
 "metadata": {
  "kernelspec": {
   "display_name": "Python 3 (ipykernel)",
   "language": "python",
   "name": "python3"
  },
  "language_info": {
   "codemirror_mode": {
    "name": "ipython",
    "version": 3
   },
   "file_extension": ".py",
   "mimetype": "text/x-python",
   "name": "python",
   "nbconvert_exporter": "python",
   "pygments_lexer": "ipython3",
   "version": "3.9.6"
  }
 },
 "nbformat": 4,
 "nbformat_minor": 5
}
