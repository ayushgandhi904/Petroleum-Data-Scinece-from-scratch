{
 "cells": [
  {
   "cell_type": "code",
   "execution_count": 1,
   "id": "ffdb4db7",
   "metadata": {},
   "outputs": [
    {
     "name": "stdout",
     "output_type": "stream",
     "text": [
      "83 is one of my favourite movie\n"
     ]
    }
   ],
   "source": [
    "favs = [\"83\", \"Gabbar\", \"MS Dhoni\", \"Dilwale\"]\n",
    "\n",
    "if \"83\" in favs:\n",
    "    print(\"83 is one of my favourite movie\")\n",
    "else:\n",
    "    print(\"83 not in the list\")"
   ]
  },
  {
   "cell_type": "code",
   "execution_count": null,
   "id": "40659ebe",
   "metadata": {},
   "outputs": [],
   "source": [
    "favs = [\"83\", \"Gabbar\", \"MS Dhoni\", \"Dilwale\"]\n",
    "\n",
    "if \"83\" in favs:\n",
    "    print(\"83 is one of my favourite movie\")\n",
    "else:\n",
    "    print(\"83 not in the list\")"
   ]
  }
 ],
 "metadata": {
  "kernelspec": {
   "display_name": "Python 3 (ipykernel)",
   "language": "python",
   "name": "python3"
  },
  "language_info": {
   "codemirror_mode": {
    "name": "ipython",
    "version": 3
   },
   "file_extension": ".py",
   "mimetype": "text/x-python",
   "name": "python",
   "nbconvert_exporter": "python",
   "pygments_lexer": "ipython3",
   "version": "3.9.6"
  }
 },
 "nbformat": 4,
 "nbformat_minor": 5
}
