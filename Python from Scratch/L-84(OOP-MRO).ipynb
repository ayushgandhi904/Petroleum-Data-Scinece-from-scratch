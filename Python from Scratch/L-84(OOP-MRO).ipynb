{
 "cells": [
  {
   "cell_type": "code",
   "execution_count": 1,
   "id": "45d20ccd",
   "metadata": {},
   "outputs": [],
   "source": [
    "class Reservoir:\n",
    "    def __init__(self, per, por, location):\n",
    "        self.per = per\n",
    "        self.por = por\n",
    "        self.location = location\n",
    "        \n",
    "    def describe(self):\n",
    "        return (f\"The reseroir porosity is {self.por} and reservoir permeability is {self.per}\")\n",
    "    def locations(self):\n",
    "        return (f\"The field is located in {self.location}\")"
   ]
  },
  {
   "cell_type": "code",
   "execution_count": 2,
   "id": "1d4732d7",
   "metadata": {},
   "outputs": [],
   "source": [
    "class Any(Reservoir):\n",
    "    def __init__(self, per, por, location, pi, pb):\n",
    "        super().__init__(per, por, location)\n",
    "        self.pi = pi\n",
    "        self.pb = pb\n",
    "    def pres(self):\n",
    "        return (f\"initial bubble point is {self.pi} and final bubble point is {self.pb}\")"
   ]
  },
  {
   "cell_type": "code",
   "execution_count": 3,
   "id": "c26b9cc4",
   "metadata": {},
   "outputs": [],
   "source": [
    "class Res(Any):\n",
    "    def __init__(self, per, por, location, pi, pb, sw):\n",
    "        super().__init__(per, por, location, pi, pb)\n",
    "        self.sw = sw\n",
    "    def saw(self):\n",
    "        return (f\"water saturation is {self.sw}\")"
   ]
  },
  {
   "cell_type": "code",
   "execution_count": 4,
   "id": "02e7246f",
   "metadata": {},
   "outputs": [
    {
     "name": "stdout",
     "output_type": "stream",
     "text": [
      "Help on class Res in module __main__:\n",
      "\n",
      "class Res(Any)\n",
      " |  Res(per, por, location, pi, pb, sw)\n",
      " |  \n",
      " |  Method resolution order:\n",
      " |      Res\n",
      " |      Any\n",
      " |      Reservoir\n",
      " |      builtins.object\n",
      " |  \n",
      " |  Methods defined here:\n",
      " |  \n",
      " |  __init__(self, per, por, location, pi, pb, sw)\n",
      " |      Initialize self.  See help(type(self)) for accurate signature.\n",
      " |  \n",
      " |  saw(self)\n",
      " |  \n",
      " |  ----------------------------------------------------------------------\n",
      " |  Methods inherited from Any:\n",
      " |  \n",
      " |  pres(self)\n",
      " |  \n",
      " |  ----------------------------------------------------------------------\n",
      " |  Methods inherited from Reservoir:\n",
      " |  \n",
      " |  describe(self)\n",
      " |  \n",
      " |  locations(self)\n",
      " |  \n",
      " |  ----------------------------------------------------------------------\n",
      " |  Data descriptors inherited from Reservoir:\n",
      " |  \n",
      " |  __dict__\n",
      " |      dictionary for instance variables (if defined)\n",
      " |  \n",
      " |  __weakref__\n",
      " |      list of weak references to the object (if defined)\n",
      "\n"
     ]
    }
   ],
   "source": [
    "help(Res)"
   ]
  },
  {
   "cell_type": "code",
   "execution_count": null,
   "id": "77a62752",
   "metadata": {},
   "outputs": [],
   "source": []
  },
  {
   "cell_type": "code",
   "execution_count": null,
   "id": "569e1b86",
   "metadata": {},
   "outputs": [],
   "source": []
  }
 ],
 "metadata": {
  "kernelspec": {
   "display_name": "Python 3 (ipykernel)",
   "language": "python",
   "name": "python3"
  },
  "language_info": {
   "codemirror_mode": {
    "name": "ipython",
    "version": 3
   },
   "file_extension": ".py",
   "mimetype": "text/x-python",
   "name": "python",
   "nbconvert_exporter": "python",
   "pygments_lexer": "ipython3",
   "version": "3.9.6"
  }
 },
 "nbformat": 4,
 "nbformat_minor": 5
}
