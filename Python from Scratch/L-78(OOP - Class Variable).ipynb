{
 "cells": [
  {
   "cell_type": "code",
   "execution_count": 9,
   "id": "3815bcf5",
   "metadata": {},
   "outputs": [],
   "source": [
    "class Circle:\n",
    "    \n",
    "    def __init__(self, pi, r):\n",
    "        self.pi = pi\n",
    "        self.r = r\n",
    "    def area(self):\n",
    "        return (self.pi*(self.r)**2)\n",
    "    def circum(self):\n",
    "        return(2*self.pi*(self.r)**2)"
   ]
  },
  {
   "cell_type": "code",
   "execution_count": 10,
   "id": "44f55048",
   "metadata": {},
   "outputs": [],
   "source": [
    "c_1 = Circle(3.14, 24)\n",
    "c_2 = Circle(22/7, 24)"
   ]
  },
  {
   "cell_type": "code",
   "execution_count": 11,
   "id": "584ae5e8",
   "metadata": {},
   "outputs": [
    {
     "data": {
      "text/plain": [
       "1808.64"
      ]
     },
     "execution_count": 11,
     "metadata": {},
     "output_type": "execute_result"
    }
   ],
   "source": [
    "Circle.area(c_1)"
   ]
  },
  {
   "cell_type": "code",
   "execution_count": 15,
   "id": "18caf513",
   "metadata": {},
   "outputs": [],
   "source": [
    "class Circle_1:\n",
    "    pi = 3.14\n",
    "    \n",
    "    def __init__(self, r):\n",
    "        self.r = r\n",
    "    def area(self):\n",
    "        return (Circle_1.pi*(self.r)**2)\n",
    "    def circum(self):\n",
    "        return(2*Circle_1.pi*(self.r)**2)"
   ]
  },
  {
   "cell_type": "code",
   "execution_count": 20,
   "id": "4d0f341b",
   "metadata": {},
   "outputs": [],
   "source": [
    "x = Circle_1(24)"
   ]
  },
  {
   "cell_type": "code",
   "execution_count": 21,
   "id": "42e37577",
   "metadata": {},
   "outputs": [],
   "source": [
    "y = Circle_1.area(x)"
   ]
  },
  {
   "cell_type": "code",
   "execution_count": 22,
   "id": "e0bfbfee",
   "metadata": {},
   "outputs": [
    {
     "data": {
      "text/plain": [
       "1808.64"
      ]
     },
     "execution_count": 22,
     "metadata": {},
     "output_type": "execute_result"
    }
   ],
   "source": [
    "y"
   ]
  },
  {
   "cell_type": "code",
   "execution_count": 23,
   "id": "3da09c4a",
   "metadata": {},
   "outputs": [],
   "source": [
    "class Well:\n",
    "    \n",
    "    mw = 12\n",
    "    \n",
    "    def __init__(self, comp, zones, depth):\n",
    "        \n",
    "        self.comp = comp\n",
    "        self.zones = zones\n",
    "        self.depth = depth\n",
    "        \n",
    "    def pres(self):\n",
    "        \n",
    "        return(0.052*(Well.mw)*(self.depth))\n",
    "        "
   ]
  },
  {
   "cell_type": "code",
   "execution_count": 24,
   "id": "4e72933f",
   "metadata": {},
   "outputs": [],
   "source": [
    "a = Well(\"open\", 2, 2388)"
   ]
  },
  {
   "cell_type": "code",
   "execution_count": 25,
   "id": "ba76a799",
   "metadata": {},
   "outputs": [
    {
     "data": {
      "text/plain": [
       "1490.112"
      ]
     },
     "execution_count": 25,
     "metadata": {},
     "output_type": "execute_result"
    }
   ],
   "source": [
    "a.pres()"
   ]
  },
  {
   "cell_type": "code",
   "execution_count": 28,
   "id": "cdc17e33",
   "metadata": {},
   "outputs": [
    {
     "data": {
      "text/plain": [
       "{'comp': 'open', 'zones': 2, 'depth': 2388}"
      ]
     },
     "execution_count": 28,
     "metadata": {},
     "output_type": "execute_result"
    }
   ],
   "source": [
    "#to know the dictonary \n",
    "a.__dict__"
   ]
  },
  {
   "cell_type": "code",
   "execution_count": null,
   "id": "5baf355f",
   "metadata": {},
   "outputs": [],
   "source": []
  }
 ],
 "metadata": {
  "kernelspec": {
   "display_name": "Python 3 (ipykernel)",
   "language": "python",
   "name": "python3"
  },
  "language_info": {
   "codemirror_mode": {
    "name": "ipython",
    "version": 3
   },
   "file_extension": ".py",
   "mimetype": "text/x-python",
   "name": "python",
   "nbconvert_exporter": "python",
   "pygments_lexer": "ipython3",
   "version": "3.9.6"
  }
 },
 "nbformat": 4,
 "nbformat_minor": 5
}
