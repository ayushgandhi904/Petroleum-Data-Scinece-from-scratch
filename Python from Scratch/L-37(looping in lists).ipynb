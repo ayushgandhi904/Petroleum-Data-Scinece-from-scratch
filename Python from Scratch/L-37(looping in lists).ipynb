{
 "cells": [
  {
   "cell_type": "code",
   "execution_count": 1,
   "id": "5a8fa40b",
   "metadata": {},
   "outputs": [],
   "source": [
    "phi = [0.2, 0.5, 0.2, 0.3, 0.8, 0.3, 0.1, 0.33]"
   ]
  },
  {
   "cell_type": "code",
   "execution_count": 4,
   "id": "f26bcca2",
   "metadata": {},
   "outputs": [
    {
     "name": "stdout",
     "output_type": "stream",
     "text": [
      "0.2\n",
      "0.5\n",
      "0.2\n",
      "0.3\n",
      "0.8\n",
      "0.3\n",
      "0.1\n",
      "0.33\n"
     ]
    }
   ],
   "source": [
    "#while\n",
    "\n",
    "i = 0\n",
    "\n",
    "while i < len(phi):\n",
    "    print(phi[i])\n",
    "    i += 1"
   ]
  },
  {
   "cell_type": "code",
   "execution_count": 6,
   "id": "458c6515",
   "metadata": {},
   "outputs": [
    {
     "name": "stdout",
     "output_type": "stream",
     "text": [
      "0.2\n",
      "0.5\n",
      "0.2\n",
      "0.3\n",
      "0.8\n",
      "0.3\n",
      "0.1\n",
      "0.33\n"
     ]
    }
   ],
   "source": [
    "#for \n",
    "\n",
    "for i in phi:\n",
    "    print(i)"
   ]
  },
  {
   "cell_type": "code",
   "execution_count": 8,
   "id": "c728872c",
   "metadata": {},
   "outputs": [],
   "source": [
    "res_1 = [0.2, 25, 40]\n",
    "res_2 = [0.3, 35, 50]\n",
    "res_3 = [0.3, 10, 25]"
   ]
  },
  {
   "cell_type": "code",
   "execution_count": 13,
   "id": "30320102",
   "metadata": {},
   "outputs": [],
   "source": [
    "info = [[0.2, 25, 40], [0.3, 35, 50], [0.3, 10, 25] ]"
   ]
  },
  {
   "cell_type": "code",
   "execution_count": 14,
   "id": "893786db",
   "metadata": {},
   "outputs": [
    {
     "data": {
      "text/plain": [
       "3"
      ]
     },
     "execution_count": 14,
     "metadata": {},
     "output_type": "execute_result"
    }
   ],
   "source": [
    "len(info)"
   ]
  },
  {
   "cell_type": "code",
   "execution_count": 15,
   "id": "1552d861",
   "metadata": {},
   "outputs": [
    {
     "data": {
      "text/plain": [
       "[0.2, 25, 40]"
      ]
     },
     "execution_count": 15,
     "metadata": {},
     "output_type": "execute_result"
    }
   ],
   "source": [
    "info[0]"
   ]
  },
  {
   "cell_type": "code",
   "execution_count": 16,
   "id": "b71edc22",
   "metadata": {},
   "outputs": [
    {
     "data": {
      "text/plain": [
       "25"
      ]
     },
     "execution_count": 16,
     "metadata": {},
     "output_type": "execute_result"
    }
   ],
   "source": [
    "info[0][1]"
   ]
  },
  {
   "cell_type": "code",
   "execution_count": 17,
   "id": "7c354caf",
   "metadata": {},
   "outputs": [
    {
     "name": "stdout",
     "output_type": "stream",
     "text": [
      "[0.2, 25, 40]\n",
      "[0.3, 35, 50]\n",
      "[0.3, 10, 25]\n"
     ]
    }
   ],
   "source": [
    "info = [[0.2, 25, 40], [0.3, 35, 50], [0.3, 10, 25] ]\n",
    "\n",
    "for i in info:\n",
    "    print(i)"
   ]
  },
  {
   "cell_type": "code",
   "execution_count": 18,
   "id": "a529a94f",
   "metadata": {},
   "outputs": [
    {
     "name": "stdout",
     "output_type": "stream",
     "text": [
      "0.2\n",
      "25\n",
      "40\n",
      "0.3\n",
      "35\n",
      "50\n",
      "0.3\n",
      "10\n",
      "25\n"
     ]
    }
   ],
   "source": [
    "for i in info:\n",
    "    for j in i:\n",
    "        print(j)"
   ]
  },
  {
   "cell_type": "code",
   "execution_count": 20,
   "id": "a8c6724d",
   "metadata": {},
   "outputs": [],
   "source": [
    "a = list(range(0,101))"
   ]
  },
  {
   "cell_type": "code",
   "execution_count": null,
   "id": "c03bf03b",
   "metadata": {},
   "outputs": [],
   "source": [
    "even = list(r)"
   ]
  }
 ],
 "metadata": {
  "kernelspec": {
   "display_name": "Python 3 (ipykernel)",
   "language": "python",
   "name": "python3"
  },
  "language_info": {
   "codemirror_mode": {
    "name": "ipython",
    "version": 3
   },
   "file_extension": ".py",
   "mimetype": "text/x-python",
   "name": "python",
   "nbconvert_exporter": "python",
   "pygments_lexer": "ipython3",
   "version": "3.9.6"
  }
 },
 "nbformat": 4,
 "nbformat_minor": 5
}
