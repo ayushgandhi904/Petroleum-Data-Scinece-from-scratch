{
 "cells": [
  {
   "cell_type": "code",
   "execution_count": 1,
   "id": "0f8b2766",
   "metadata": {},
   "outputs": [],
   "source": [
    "stages_well1 = {\"appraisal\", \"exploration\"}"
   ]
  },
  {
   "cell_type": "code",
   "execution_count": 2,
   "id": "9bf7d51e",
   "metadata": {},
   "outputs": [],
   "source": [
    "stages_well1.add(\"development\")"
   ]
  },
  {
   "cell_type": "code",
   "execution_count": 3,
   "id": "c4f56812",
   "metadata": {},
   "outputs": [
    {
     "data": {
      "text/plain": [
       "{'appraisal', 'development', 'exploration'}"
      ]
     },
     "execution_count": 3,
     "metadata": {},
     "output_type": "execute_result"
    }
   ],
   "source": [
    "stages_well1"
   ]
  },
  {
   "cell_type": "code",
   "execution_count": 4,
   "id": "c042ff10",
   "metadata": {},
   "outputs": [],
   "source": [
    "a = {1, 2, 5}"
   ]
  },
  {
   "cell_type": "code",
   "execution_count": 7,
   "id": "a1921533",
   "metadata": {},
   "outputs": [],
   "source": [
    "#single element can only be added in sets\n",
    "a.add(3)"
   ]
  },
  {
   "cell_type": "code",
   "execution_count": 9,
   "id": "615e46b2",
   "metadata": {},
   "outputs": [],
   "source": [
    "#to add multiple elments, we used sets\n",
    "a.update([3, 4])\n"
   ]
  },
  {
   "cell_type": "code",
   "execution_count": 10,
   "id": "e2229b3e",
   "metadata": {},
   "outputs": [
    {
     "data": {
      "text/plain": [
       "{1, 2, 3, 4, 5}"
      ]
     },
     "execution_count": 10,
     "metadata": {},
     "output_type": "execute_result"
    }
   ],
   "source": [
    "a"
   ]
  },
  {
   "cell_type": "code",
   "execution_count": 13,
   "id": "055a3a2c",
   "metadata": {},
   "outputs": [],
   "source": [
    "#update mehtod used to literate \n",
    "a.update((\"abc\"))"
   ]
  },
  {
   "cell_type": "code",
   "execution_count": 14,
   "id": "35ab3b54",
   "metadata": {},
   "outputs": [
    {
     "data": {
      "text/plain": [
       "{1, 2, 3, 4, 5, 'a', 'b', 'c'}"
      ]
     },
     "execution_count": 14,
     "metadata": {},
     "output_type": "execute_result"
    }
   ],
   "source": [
    "a"
   ]
  },
  {
   "cell_type": "code",
   "execution_count": 15,
   "id": "4463200c",
   "metadata": {},
   "outputs": [],
   "source": [
    "phi = {0.2, \"a\", 0.5, \"b\", 0.22, 0.15}"
   ]
  },
  {
   "cell_type": "code",
   "execution_count": 17,
   "id": "7b470e71",
   "metadata": {},
   "outputs": [],
   "source": [
    "phi.remove(0.5)"
   ]
  },
  {
   "cell_type": "code",
   "execution_count": 18,
   "id": "2133b242",
   "metadata": {},
   "outputs": [
    {
     "data": {
      "text/plain": [
       "0.2"
      ]
     },
     "execution_count": 18,
     "metadata": {},
     "output_type": "execute_result"
    }
   ],
   "source": [
    "phi.pop()"
   ]
  },
  {
   "cell_type": "code",
   "execution_count": 19,
   "id": "b6a3f1b9",
   "metadata": {},
   "outputs": [],
   "source": [
    "phi.add(\"c\")"
   ]
  },
  {
   "cell_type": "code",
   "execution_count": 20,
   "id": "db9f644d",
   "metadata": {},
   "outputs": [
    {
     "data": {
      "text/plain": [
       "{0.15, 0.22, 'a', 'b', 'c'}"
      ]
     },
     "execution_count": 20,
     "metadata": {},
     "output_type": "execute_result"
    }
   ],
   "source": [
    "phi"
   ]
  },
  {
   "cell_type": "code",
   "execution_count": 21,
   "id": "762ff99d",
   "metadata": {},
   "outputs": [],
   "source": [
    "phi.discard(\"c\")"
   ]
  },
  {
   "cell_type": "code",
   "execution_count": 22,
   "id": "1acc8e91",
   "metadata": {},
   "outputs": [
    {
     "data": {
      "text/plain": [
       "{0.15, 0.22, 'a', 'b'}"
      ]
     },
     "execution_count": 22,
     "metadata": {},
     "output_type": "execute_result"
    }
   ],
   "source": [
    "phi"
   ]
  },
  {
   "cell_type": "code",
   "execution_count": 23,
   "id": "9604faef",
   "metadata": {},
   "outputs": [],
   "source": [
    "#remove----> you need to have element, otherwise it will show error\n",
    "#discrad----> it is ok if element is not present in the set"
   ]
  },
  {
   "cell_type": "code",
   "execution_count": 24,
   "id": "7eedea8e",
   "metadata": {},
   "outputs": [],
   "source": [
    "phi.clear()"
   ]
  },
  {
   "cell_type": "code",
   "execution_count": 25,
   "id": "03ba5f1a",
   "metadata": {},
   "outputs": [
    {
     "data": {
      "text/plain": [
       "set()"
      ]
     },
     "execution_count": 25,
     "metadata": {},
     "output_type": "execute_result"
    }
   ],
   "source": [
    "phi"
   ]
  },
  {
   "cell_type": "code",
   "execution_count": 26,
   "id": "2d4d4388",
   "metadata": {},
   "outputs": [
    {
     "ename": "TypeError",
     "evalue": "set.copy() takes no arguments (1 given)",
     "output_type": "error",
     "traceback": [
      "\u001b[1;31m---------------------------------------------------------------------------\u001b[0m",
      "\u001b[1;31mTypeError\u001b[0m                                 Traceback (most recent call last)",
      "\u001b[1;32m~\\AppData\\Local\\Temp/ipykernel_2992/40821857.py\u001b[0m in \u001b[0;36m<module>\u001b[1;34m\u001b[0m\n\u001b[1;32m----> 1\u001b[1;33m \u001b[0mphi\u001b[0m\u001b[1;33m.\u001b[0m\u001b[0mcopy\u001b[0m\u001b[1;33m(\u001b[0m\u001b[0ma\u001b[0m\u001b[1;33m)\u001b[0m\u001b[1;33m\u001b[0m\u001b[1;33m\u001b[0m\u001b[0m\n\u001b[0m",
      "\u001b[1;31mTypeError\u001b[0m: set.copy() takes no arguments (1 given)"
     ]
    }
   ],
   "source": [
    "phi.copy(a)"
   ]
  },
  {
   "cell_type": "code",
   "execution_count": null,
   "id": "36d1674d",
   "metadata": {},
   "outputs": [],
   "source": []
  }
 ],
 "metadata": {
  "kernelspec": {
   "display_name": "Python 3 (ipykernel)",
   "language": "python",
   "name": "python3"
  },
  "language_info": {
   "codemirror_mode": {
    "name": "ipython",
    "version": 3
   },
   "file_extension": ".py",
   "mimetype": "text/x-python",
   "name": "python",
   "nbconvert_exporter": "python",
   "pygments_lexer": "ipython3",
   "version": "3.9.6"
  }
 },
 "nbformat": 4,
 "nbformat_minor": 5
}
