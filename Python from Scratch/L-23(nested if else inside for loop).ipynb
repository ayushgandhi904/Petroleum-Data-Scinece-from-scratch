{
 "cells": [
  {
   "cell_type": "code",
   "execution_count": 2,
   "id": "55819b82",
   "metadata": {},
   "outputs": [
    {
     "name": "stdout",
     "output_type": "stream",
     "text": [
      "10% water saturation is unbearable\n",
      "20% water saturation is unbearable\n",
      "30% water saturation is unbearable\n",
      "40% water saturation is unbearable\n",
      "50% water saturation is unbearable\n",
      "60% water saturation is bearable\n",
      "70% water saturation is bearable\n",
      "80% water saturation is bearable\n",
      "90% water saturation is bearable\n",
      "100% water saturation is bearable\n"
     ]
    }
   ],
   "source": [
    "sat_w = 10\n",
    "\n",
    "while sat_w <= 100:\n",
    "    if sat_w <= 50:\n",
    "        print(f\"{sat_w}% water saturation is unbearable\")\n",
    "    else:\n",
    "        print(f\"{sat_w}% water saturation is bearable\")\n",
    "    sat_w += 10"
   ]
  },
  {
   "cell_type": "code",
   "execution_count": 4,
   "id": "dbb86313",
   "metadata": {},
   "outputs": [
    {
     "name": "stdout",
     "output_type": "stream",
     "text": [
      "10 % is unbearable\n",
      "20 % is unbearable\n",
      "30 % is unbearable\n",
      "40 % is unbearable\n",
      "50 % is unbearable\n",
      "60% is bearable\n",
      "70% is bearable\n",
      "80% is bearable\n",
      "90% is bearable\n",
      "100% is bearable\n"
     ]
    }
   ],
   "source": [
    "sat_w = 10\n",
    "\n",
    "for i in range(sat_w, 101, 10):\n",
    "    if i <= 50:\n",
    "        print(f\"{i} % is unbearable\")\n",
    "    else:\n",
    "        print(f\"{i}% is bearable\")"
   ]
  },
  {
   "cell_type": "code",
   "execution_count": null,
   "id": "2a22eb32",
   "metadata": {},
   "outputs": [],
   "source": []
  }
 ],
 "metadata": {
  "kernelspec": {
   "display_name": "Python 3 (ipykernel)",
   "language": "python",
   "name": "python3"
  },
  "language_info": {
   "codemirror_mode": {
    "name": "ipython",
    "version": 3
   },
   "file_extension": ".py",
   "mimetype": "text/x-python",
   "name": "python",
   "nbconvert_exporter": "python",
   "pygments_lexer": "ipython3",
   "version": "3.9.6"
  }
 },
 "nbformat": 4,
 "nbformat_minor": 5
}
