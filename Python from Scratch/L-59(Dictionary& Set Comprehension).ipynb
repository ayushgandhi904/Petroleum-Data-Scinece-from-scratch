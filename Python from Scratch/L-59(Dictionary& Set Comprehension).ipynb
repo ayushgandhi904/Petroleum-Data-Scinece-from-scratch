{
 "cells": [
  {
   "cell_type": "code",
   "execution_count": 1,
   "id": "f6a9bb69",
   "metadata": {},
   "outputs": [],
   "source": [
    "sat_w = [0.1, 0.2, 0.3, 0.35, 0.34, 0.15]"
   ]
  },
  {
   "cell_type": "code",
   "execution_count": 2,
   "id": "d69543ab",
   "metadata": {},
   "outputs": [
    {
     "name": "stdout",
     "output_type": "stream",
     "text": [
      "[0.9, 0.8, 0.7, 0.65, 0.6599999999999999, 0.85]\n"
     ]
    }
   ],
   "source": [
    "sat_hc = [1-i for i in sat_w]\n",
    "print(sat_hc)"
   ]
  },
  {
   "cell_type": "code",
   "execution_count": 6,
   "id": "fcdc333f",
   "metadata": {},
   "outputs": [
    {
     "name": "stdout",
     "output_type": "stream",
     "text": [
      "{0.1: 0.9, 0.2: 0.8, 0.3: 0.7, 0.35: 0.65, 0.34: 0.6599999999999999, 0.15: 0.85}\n"
     ]
    }
   ],
   "source": [
    "sat_hc = {i:1-i for i in sat_w}\n",
    "print(sat_hc)"
   ]
  },
  {
   "cell_type": "code",
   "execution_count": 8,
   "id": "71a96922",
   "metadata": {},
   "outputs": [
    {
     "name": "stdout",
     "output_type": "stream",
     "text": [
      "{'HC saturation for 0.1,water saturation is ': 0.9, 'HC saturation for 0.2,water saturation is ': 0.8, 'HC saturation for 0.3,water saturation is ': 0.7, 'HC saturation for 0.35,water saturation is ': 0.65, 'HC saturation for 0.34,water saturation is ': 0.6599999999999999, 'HC saturation for 0.15,water saturation is ': 0.85}\n"
     ]
    }
   ],
   "source": [
    "sat_hc = {f\"HC saturation for {i},water saturation is \":1-i for i in sat_w}\n",
    "print(sat_hc)"
   ]
  },
  {
   "cell_type": "code",
   "execution_count": 11,
   "id": "dbe9bdde",
   "metadata": {},
   "outputs": [
    {
     "name": "stdout",
     "output_type": "stream",
     "text": [
      "{'fraction of 10is': 0.1, 'fraction of 20is': 0.2, 'fraction of 25is': 0.25, 'fraction of 30is': 0.3}\n"
     ]
    }
   ],
   "source": [
    "por = [10, 20, 25, 30]\n",
    "\n",
    "frac = {f\"fraction of {i}is\":i/100 for i in por}\n",
    "print(frac)"
   ]
  },
  {
   "cell_type": "code",
   "execution_count": 16,
   "id": "6c9b1c5e",
   "metadata": {},
   "outputs": [
    {
     "name": "stdout",
     "output_type": "stream",
     "text": [
      "Enter your name:hello\n",
      "{'h': 1, 'e': 1, 'l': 2, 'o': 1}\n"
     ]
    }
   ],
   "source": [
    "name = input(\"Enter your name:\")\n",
    "\n",
    "cou = {i:name.count(i) for i in name}\n",
    "print(cou)"
   ]
  },
  {
   "cell_type": "code",
   "execution_count": 17,
   "id": "4b414ac4",
   "metadata": {},
   "outputs": [],
   "source": [
    "per = [12, 28, 11, 13]"
   ]
  },
  {
   "cell_type": "code",
   "execution_count": 20,
   "id": "c087a4c2",
   "metadata": {},
   "outputs": [],
   "source": [
    "per_new = {i:\"even\" if i%2 ==0 else \"odd\" for i in per}"
   ]
  },
  {
   "cell_type": "code",
   "execution_count": 21,
   "id": "30d33052",
   "metadata": {},
   "outputs": [
    {
     "data": {
      "text/plain": [
       "{12: 'even', 28: 'even', 11: 'odd', 13: 'odd'}"
      ]
     },
     "execution_count": 21,
     "metadata": {},
     "output_type": "execute_result"
    }
   ],
   "source": [
    "per_new"
   ]
  },
  {
   "cell_type": "code",
   "execution_count": 22,
   "id": "45ca548d",
   "metadata": {},
   "outputs": [],
   "source": [
    "lis = [\"Petroleum\", \"from\", \"scratch\", '246', 246]"
   ]
  },
  {
   "cell_type": "code",
   "execution_count": 23,
   "id": "aa7669ea",
   "metadata": {},
   "outputs": [
    {
     "ename": "SyntaxError",
     "evalue": "invalid syntax (Temp/ipykernel_4776/2486648874.py, line 1)",
     "output_type": "error",
     "traceback": [
      "\u001b[1;36m  File \u001b[1;32m\"C:\\Users\\Dell\\AppData\\Local\\Temp/ipykernel_4776/2486648874.py\"\u001b[1;36m, line \u001b[1;32m1\u001b[0m\n\u001b[1;33m    lis_ = {i[::-1] if i== str for i in lis}\u001b[0m\n\u001b[1;37m                               ^\u001b[0m\n\u001b[1;31mSyntaxError\u001b[0m\u001b[1;31m:\u001b[0m invalid syntax\n"
     ]
    }
   ],
   "source": [
    "lis_ = {i[::-1] for i in lis}"
   ]
  },
  {
   "cell_type": "code",
   "execution_count": null,
   "id": "126db1c9",
   "metadata": {},
   "outputs": [],
   "source": []
  }
 ],
 "metadata": {
  "kernelspec": {
   "display_name": "Python 3 (ipykernel)",
   "language": "python",
   "name": "python3"
  },
  "language_info": {
   "codemirror_mode": {
    "name": "ipython",
    "version": 3
   },
   "file_extension": ".py",
   "mimetype": "text/x-python",
   "name": "python",
   "nbconvert_exporter": "python",
   "pygments_lexer": "ipython3",
   "version": "3.9.6"
  }
 },
 "nbformat": 4,
 "nbformat_minor": 5
}
