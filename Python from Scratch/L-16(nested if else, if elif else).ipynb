{
 "cells": [
  {
   "cell_type": "code",
   "execution_count": 1,
   "id": "1bc4a178",
   "metadata": {},
   "outputs": [
    {
     "name": "stdout",
     "output_type": "stream",
     "text": [
      "What is the API of crude oil8\n",
      "heavy crude oil\n"
     ]
    }
   ],
   "source": [
    "api = float(input(\"What is the API of crude oil\"))\n",
    "\n",
    "if api > 31.1:\n",
    "    print(\"Light crude oil\")\n",
    "else:\n",
    "    if 22.3 < api < 31.1:\n",
    "        print(\"medium crude oil\")\n",
    "    else:\n",
    "        print(\"heavy crude oil\")"
   ]
  },
  {
   "cell_type": "code",
   "execution_count": 3,
   "id": "2bf35ee6",
   "metadata": {},
   "outputs": [
    {
     "name": "stdout",
     "output_type": "stream",
     "text": [
      "What is the API of crude oil5\n",
      "extra heavy oil\n"
     ]
    }
   ],
   "source": [
    "api = float(input(\"What is the API of crude oil\"))\n",
    "\n",
    "if api > 31.1:\n",
    "    print(\"Light crude oil\")\n",
    "\n",
    "elif 22.3 < api < 31.1:\n",
    "    print(\"medium crude oil\")\n",
    "elif 10 < api < 22.3:\n",
    "    print(\"heavy crude oil\")\n",
    "else:\n",
    "    print(\"extra heavy oil\")"
   ]
  },
  {
   "cell_type": "code",
   "execution_count": null,
   "id": "fc26b848",
   "metadata": {},
   "outputs": [],
   "source": [
    "#assignment 7\n",
    "\n",
    "x = float(input(\"Enter the maximum porosity\"))\n",
    "\n",
    "if x == 0.476:\n",
    "    print(\"it is cubic\")\n",
    "if x == 0.395:\n",
    "    print(\"it is hexagonal\")\n",
    "if x == 0.26:\n",
    "    print(\"it is rhomodedral\")\n",
    "if x == 0.302:\n",
    "    print(\"it is tetragonal\")\n",
    "else:\n",
    "    print(\"\")\n",
    "    "
   ]
  }
 ],
 "metadata": {
  "kernelspec": {
   "display_name": "Python 3 (ipykernel)",
   "language": "python",
   "name": "python3"
  },
  "language_info": {
   "codemirror_mode": {
    "name": "ipython",
    "version": 3
   },
   "file_extension": ".py",
   "mimetype": "text/x-python",
   "name": "python",
   "nbconvert_exporter": "python",
   "pygments_lexer": "ipython3",
   "version": "3.9.6"
  }
 },
 "nbformat": 4,
 "nbformat_minor": 5
}
