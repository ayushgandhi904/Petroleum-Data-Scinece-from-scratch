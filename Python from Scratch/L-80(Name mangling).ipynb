{
 "cells": [
  {
   "cell_type": "code",
   "execution_count": 22,
   "id": "f2060420",
   "metadata": {},
   "outputs": [],
   "source": [
    "class Well:\n",
    "    mw = 12 #ppg\n",
    "    def __init__(self, com_type, zones, depth):\n",
    "        self.com_type = com_type\n",
    "        self.__zones = zones\n",
    "        self.depth = depth\n",
    "        \n",
    "    def pres(self):\n",
    "        return (0.052*(Well.mw)*(self.depth))"
   ]
  },
  {
   "cell_type": "code",
   "execution_count": 23,
   "id": "8d57117b",
   "metadata": {},
   "outputs": [],
   "source": [
    "x = Well(\"slotted\", 5, 2911)"
   ]
  },
  {
   "cell_type": "code",
   "execution_count": 20,
   "id": "6537a767",
   "metadata": {},
   "outputs": [
    {
     "data": {
      "text/plain": [
       "5"
      ]
     },
     "execution_count": 20,
     "metadata": {},
     "output_type": "execute_result"
    }
   ],
   "source": [
    "x._zones"
   ]
  },
  {
   "cell_type": "code",
   "execution_count": 24,
   "id": "fb212c55",
   "metadata": {},
   "outputs": [
    {
     "data": {
      "text/plain": [
       "{'com_type': 'slotted', '_Well__zones': 5, 'depth': 2911}"
      ]
     },
     "execution_count": 24,
     "metadata": {},
     "output_type": "execute_result"
    }
   ],
   "source": [
    "x.__dict__"
   ]
  },
  {
   "cell_type": "code",
   "execution_count": null,
   "id": "881a93a1",
   "metadata": {},
   "outputs": [],
   "source": []
  }
 ],
 "metadata": {
  "kernelspec": {
   "display_name": "Python 3 (ipykernel)",
   "language": "python",
   "name": "python3"
  },
  "language_info": {
   "codemirror_mode": {
    "name": "ipython",
    "version": 3
   },
   "file_extension": ".py",
   "mimetype": "text/x-python",
   "name": "python",
   "nbconvert_exporter": "python",
   "pygments_lexer": "ipython3",
   "version": "3.9.6"
  }
 },
 "nbformat": 4,
 "nbformat_minor": 5
}
