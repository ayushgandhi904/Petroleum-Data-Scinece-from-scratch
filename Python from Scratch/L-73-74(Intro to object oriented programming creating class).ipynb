{
 "cells": [
  {
   "cell_type": "code",
   "execution_count": 1,
   "id": "c420b801",
   "metadata": {},
   "outputs": [],
   "source": [
    "#always start class with capital letter\n",
    "#define special method\n",
    "#self in the representation object \n",
    "\n",
    "#create instacne variable "
   ]
  },
  {
   "cell_type": "code",
   "execution_count": 9,
   "id": "23607e94",
   "metadata": {},
   "outputs": [],
   "source": [
    "class Reservoir:\n",
    "    \n",
    "    def __init__(self, por, perm, dep):\n",
    "        print(\"this works\")\n",
    "        \n",
    "        self.porosity = por\n",
    "        self.pemeablity = perm\n",
    "        self.depth = dep"
   ]
  },
  {
   "cell_type": "code",
   "execution_count": 10,
   "id": "5db61214",
   "metadata": {},
   "outputs": [
    {
     "name": "stdout",
     "output_type": "stream",
     "text": [
      "this works\n"
     ]
    }
   ],
   "source": [
    "a = Reservoir(0.14, 35, 4000)"
   ]
  },
  {
   "cell_type": "code",
   "execution_count": 11,
   "id": "9b6ee453",
   "metadata": {},
   "outputs": [
    {
     "data": {
      "text/plain": [
       "__main__.Reservoir"
      ]
     },
     "execution_count": 11,
     "metadata": {},
     "output_type": "execute_result"
    }
   ],
   "source": [
    "type(a)"
   ]
  },
  {
   "cell_type": "code",
   "execution_count": 12,
   "id": "f17c8b7d",
   "metadata": {},
   "outputs": [
    {
     "name": "stdout",
     "output_type": "stream",
     "text": [
      "this works\n"
     ]
    }
   ],
   "source": [
    "b = Reservoir(0.27, 48, 25899)"
   ]
  },
  {
   "cell_type": "code",
   "execution_count": 13,
   "id": "379df996",
   "metadata": {},
   "outputs": [
    {
     "data": {
      "text/plain": [
       "0.14"
      ]
     },
     "execution_count": 13,
     "metadata": {},
     "output_type": "execute_result"
    }
   ],
   "source": [
    "a.porosity"
   ]
  },
  {
   "cell_type": "code",
   "execution_count": 14,
   "id": "52fc286d",
   "metadata": {},
   "outputs": [
    {
     "data": {
      "text/plain": [
       "25899"
      ]
     },
     "execution_count": 14,
     "metadata": {},
     "output_type": "execute_result"
    }
   ],
   "source": [
    "b.depth"
   ]
  },
  {
   "cell_type": "code",
   "execution_count": null,
   "id": "16add90c",
   "metadata": {},
   "outputs": [],
   "source": []
  }
 ],
 "metadata": {
  "kernelspec": {
   "display_name": "Python 3 (ipykernel)",
   "language": "python",
   "name": "python3"
  },
  "language_info": {
   "codemirror_mode": {
    "name": "ipython",
    "version": 3
   },
   "file_extension": ".py",
   "mimetype": "text/x-python",
   "name": "python",
   "nbconvert_exporter": "python",
   "pygments_lexer": "ipython3",
   "version": "3.9.6"
  }
 },
 "nbformat": 4,
 "nbformat_minor": 5
}
