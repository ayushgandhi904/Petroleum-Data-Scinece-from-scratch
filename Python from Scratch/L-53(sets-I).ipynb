{
 "cells": [
  {
   "cell_type": "code",
   "execution_count": 3,
   "id": "8c2606a3",
   "metadata": {},
   "outputs": [],
   "source": [
    "alpha = {\"a\", \"b\", \"c\", \"a\"}"
   ]
  },
  {
   "cell_type": "code",
   "execution_count": 5,
   "id": "1691ea01",
   "metadata": {},
   "outputs": [
    {
     "name": "stdout",
     "output_type": "stream",
     "text": [
      "{'a', 'c', 'b'}\n"
     ]
    }
   ],
   "source": [
    "print(alpha)"
   ]
  },
  {
   "cell_type": "code",
   "execution_count": 6,
   "id": "a1b21bce",
   "metadata": {},
   "outputs": [
    {
     "data": {
      "text/plain": [
       "set"
      ]
     },
     "execution_count": 6,
     "metadata": {},
     "output_type": "execute_result"
    }
   ],
   "source": [
    "type(alpha)"
   ]
  },
  {
   "cell_type": "code",
   "execution_count": 7,
   "id": "f759aec7",
   "metadata": {},
   "outputs": [],
   "source": [
    "#indexing is not support in sets"
   ]
  },
  {
   "cell_type": "code",
   "execution_count": 8,
   "id": "1dd46133",
   "metadata": {},
   "outputs": [],
   "source": [
    "lith = [\"Sst\", \"Shale\", \"Lst\", \"Shale\", \"CBM\", \"Lst\", \"Sst\", \"CBM\", \"Dolomite\", \"Sst\"]"
   ]
  },
  {
   "cell_type": "code",
   "execution_count": 9,
   "id": "dc1c364c",
   "metadata": {},
   "outputs": [],
   "source": [
    "lith_new = set(lith)"
   ]
  },
  {
   "cell_type": "code",
   "execution_count": 10,
   "id": "ed4e6494",
   "metadata": {},
   "outputs": [
    {
     "data": {
      "text/plain": [
       "{'CBM', 'Dolomite', 'Lst', 'Shale', 'Sst'}"
      ]
     },
     "execution_count": 10,
     "metadata": {},
     "output_type": "execute_result"
    }
   ],
   "source": [
    "lith_new"
   ]
  },
  {
   "cell_type": "code",
   "execution_count": 11,
   "id": "46398c24",
   "metadata": {},
   "outputs": [],
   "source": [
    "lith_new2 = list(lith_new)"
   ]
  },
  {
   "cell_type": "code",
   "execution_count": 12,
   "id": "4a6cff50",
   "metadata": {},
   "outputs": [
    {
     "data": {
      "text/plain": [
       "['CBM', 'Lst', 'Shale', 'Sst', 'Dolomite']"
      ]
     },
     "execution_count": 12,
     "metadata": {},
     "output_type": "execute_result"
    }
   ],
   "source": [
    "lith_new2"
   ]
  },
  {
   "cell_type": "code",
   "execution_count": 13,
   "id": "8b8c74f6",
   "metadata": {},
   "outputs": [],
   "source": [
    "a = {True, 'hello', 1.1}"
   ]
  },
  {
   "cell_type": "code",
   "execution_count": null,
   "id": "1bc8befe",
   "metadata": {},
   "outputs": [],
   "source": []
  }
 ],
 "metadata": {
  "kernelspec": {
   "display_name": "Python 3 (ipykernel)",
   "language": "python",
   "name": "python3"
  },
  "language_info": {
   "codemirror_mode": {
    "name": "ipython",
    "version": 3
   },
   "file_extension": ".py",
   "mimetype": "text/x-python",
   "name": "python",
   "nbconvert_exporter": "python",
   "pygments_lexer": "ipython3",
   "version": "3.9.6"
  }
 },
 "nbformat": 4,
 "nbformat_minor": 5
}
