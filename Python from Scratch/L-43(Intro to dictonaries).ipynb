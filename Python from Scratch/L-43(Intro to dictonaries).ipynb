{
 "cells": [
  {
   "cell_type": "code",
   "execution_count": 4,
   "id": "c0399986",
   "metadata": {},
   "outputs": [],
   "source": [
    "phi = {\"res_a\" : 0.14, \"res_b\" : 0.15, \"res_c\": 0.18}"
   ]
  },
  {
   "cell_type": "code",
   "execution_count": 5,
   "id": "fed5970a",
   "metadata": {},
   "outputs": [
    {
     "name": "stdout",
     "output_type": "stream",
     "text": [
      "{'res_a': 0.14, 'res_b': 0.15, 'res_c': 0.18}\n"
     ]
    }
   ],
   "source": [
    "print(phi)"
   ]
  },
  {
   "cell_type": "code",
   "execution_count": 7,
   "id": "4414879f",
   "metadata": {},
   "outputs": [],
   "source": [
    "#2nd way to create dictonary \n",
    "\n",
    "phi_new = dict(res_a = 0.14, res_b = 0.15, res_c = 0.18)"
   ]
  },
  {
   "cell_type": "code",
   "execution_count": 8,
   "id": "ea42f231",
   "metadata": {},
   "outputs": [
    {
     "name": "stdout",
     "output_type": "stream",
     "text": [
      "{'res_a': 0.14, 'res_b': 0.15, 'res_c': 0.18}\n"
     ]
    }
   ],
   "source": [
    "print(phi_new)"
   ]
  },
  {
   "cell_type": "code",
   "execution_count": 10,
   "id": "973814e3",
   "metadata": {},
   "outputs": [],
   "source": [
    "# 3rd method \n",
    "phi_n = dict([(\"res_a\", 0.14), (\"res_b\", 0.15), (\"res_c\", 0.18)])"
   ]
  },
  {
   "cell_type": "code",
   "execution_count": 11,
   "id": "f8d87aad",
   "metadata": {},
   "outputs": [
    {
     "name": "stdout",
     "output_type": "stream",
     "text": [
      "{'res_a': 0.14, 'res_b': 0.15, 'res_c': 0.18}\n"
     ]
    }
   ],
   "source": [
    "print(phi_n)"
   ]
  },
  {
   "cell_type": "code",
   "execution_count": null,
   "id": "694c729c",
   "metadata": {},
   "outputs": [],
   "source": []
  }
 ],
 "metadata": {
  "kernelspec": {
   "display_name": "Python 3 (ipykernel)",
   "language": "python",
   "name": "python3"
  },
  "language_info": {
   "codemirror_mode": {
    "name": "ipython",
    "version": 3
   },
   "file_extension": ".py",
   "mimetype": "text/x-python",
   "name": "python",
   "nbconvert_exporter": "python",
   "pygments_lexer": "ipython3",
   "version": "3.9.6"
  }
 },
 "nbformat": 4,
 "nbformat_minor": 5
}
