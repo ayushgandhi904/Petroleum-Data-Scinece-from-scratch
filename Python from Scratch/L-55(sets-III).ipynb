{
 "cells": [
  {
   "cell_type": "code",
   "execution_count": 1,
   "id": "edbad8ab",
   "metadata": {},
   "outputs": [],
   "source": [
    "a = {1, 3, 5, 9}\n",
    "b = {1, 5, 22, 87}"
   ]
  },
  {
   "cell_type": "code",
   "execution_count": 2,
   "id": "2b386772",
   "metadata": {},
   "outputs": [],
   "source": [
    "#union\n",
    "x = a|b"
   ]
  },
  {
   "cell_type": "code",
   "execution_count": 3,
   "id": "83fe2091",
   "metadata": {},
   "outputs": [
    {
     "data": {
      "text/plain": [
       "{1, 3, 5, 9, 22, 87}"
      ]
     },
     "execution_count": 3,
     "metadata": {},
     "output_type": "execute_result"
    }
   ],
   "source": [
    "x"
   ]
  },
  {
   "cell_type": "code",
   "execution_count": 4,
   "id": "73aae58f",
   "metadata": {},
   "outputs": [],
   "source": [
    "#intersection\n",
    "\n",
    "y = a&b"
   ]
  },
  {
   "cell_type": "code",
   "execution_count": 5,
   "id": "ebaaaa30",
   "metadata": {},
   "outputs": [
    {
     "data": {
      "text/plain": [
       "{1, 5}"
      ]
     },
     "execution_count": 5,
     "metadata": {},
     "output_type": "execute_result"
    }
   ],
   "source": [
    "y"
   ]
  },
  {
   "cell_type": "code",
   "execution_count": null,
   "id": "57fdd773",
   "metadata": {},
   "outputs": [],
   "source": [
    "well_1 = {\"Shale\", \"Sst\", \"Lst\"}\n",
    "well_2 = {\"Sst\", \"Dolomite\"}\n",
    "\n",
    "all = well_1 | well_2\n",
    "print(common)\n",
    "\n",
    "\n"
   ]
  }
 ],
 "metadata": {
  "kernelspec": {
   "display_name": "Python 3 (ipykernel)",
   "language": "python",
   "name": "python3"
  },
  "language_info": {
   "codemirror_mode": {
    "name": "ipython",
    "version": 3
   },
   "file_extension": ".py",
   "mimetype": "text/x-python",
   "name": "python",
   "nbconvert_exporter": "python",
   "pygments_lexer": "ipython3",
   "version": "3.9.6"
  }
 },
 "nbformat": 4,
 "nbformat_minor": 5
}
