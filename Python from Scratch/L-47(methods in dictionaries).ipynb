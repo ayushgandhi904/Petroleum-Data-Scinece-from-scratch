{
 "cells": [
  {
   "cell_type": "code",
   "execution_count": 2,
   "id": "cbd2eaf8",
   "metadata": {},
   "outputs": [],
   "source": [
    "#item method\n",
    "\n",
    "drilling_data = {\n",
    "    \"drill_data\" : \"PDC\", \n",
    "    \"KOP\" : 1000, \n",
    "    \"measurements\" : {\"TVD\" : 1500, \"MD\" :2100},\n",
    "    \"formations\" : [\"shale\", \"limestone\", \"sandstone\"]\n",
    "}"
   ]
  },
  {
   "cell_type": "code",
   "execution_count": 3,
   "id": "01d4ebf7",
   "metadata": {},
   "outputs": [
    {
     "data": {
      "text/plain": [
       "dict_items([('drill_data', 'PDC'), ('KOP', 1000), ('measurements', {'TVD': 1500, 'MD': 2100}), ('formations', ['shale', 'limestone', 'sandstone'])])"
      ]
     },
     "execution_count": 3,
     "metadata": {},
     "output_type": "execute_result"
    }
   ],
   "source": [
    "drilling_data.items()"
   ]
  },
  {
   "cell_type": "code",
   "execution_count": 4,
   "id": "6c544f8b",
   "metadata": {},
   "outputs": [
    {
     "name": "stdout",
     "output_type": "stream",
     "text": [
      "('drill_data', 'PDC')\n",
      "('KOP', 1000)\n",
      "('measurements', {'TVD': 1500, 'MD': 2100})\n",
      "('formations', ['shale', 'limestone', 'sandstone'])\n"
     ]
    }
   ],
   "source": [
    "for i in drilling_data.items():\n",
    "    print(i)"
   ]
  },
  {
   "cell_type": "code",
   "execution_count": 5,
   "id": "f4bce4bc",
   "metadata": {},
   "outputs": [
    {
     "data": {
      "text/plain": [
       "dict_items"
      ]
     },
     "execution_count": 5,
     "metadata": {},
     "output_type": "execute_result"
    }
   ],
   "source": [
    "type(drilling_data.items())"
   ]
  },
  {
   "cell_type": "code",
   "execution_count": 8,
   "id": "7842a98c",
   "metadata": {},
   "outputs": [
    {
     "name": "stdout",
     "output_type": "stream",
     "text": [
      "The key is drill_data and value is PDC\n",
      "The key is KOP and value is 1000\n",
      "The key is measurements and value is {'TVD': 1500, 'MD': 2100}\n",
      "The key is formations and value is ['shale', 'limestone', 'sandstone']\n"
     ]
    }
   ],
   "source": [
    "for i, j in drilling_data.items():\n",
    "    print(f\"The key is {i} and value is {j}\")"
   ]
  },
  {
   "cell_type": "code",
   "execution_count": 9,
   "id": "e2f4c485",
   "metadata": {},
   "outputs": [
    {
     "data": {
      "text/plain": [
       "['shale', 'limestone', 'sandstone']"
      ]
     },
     "execution_count": 9,
     "metadata": {},
     "output_type": "execute_result"
    }
   ],
   "source": [
    "#pop method\n",
    "\n",
    "drilling_data.pop(\"formations\")"
   ]
  },
  {
   "cell_type": "code",
   "execution_count": 10,
   "id": "83eca564",
   "metadata": {},
   "outputs": [
    {
     "data": {
      "text/plain": [
       "{'drill_data': 'PDC', 'KOP': 1000, 'measurements': {'TVD': 1500, 'MD': 2100}}"
      ]
     },
     "execution_count": 10,
     "metadata": {},
     "output_type": "execute_result"
    }
   ],
   "source": [
    "drilling_data"
   ]
  },
  {
   "cell_type": "code",
   "execution_count": 12,
   "id": "fa760078",
   "metadata": {},
   "outputs": [],
   "source": [
    "#pop method need to give list at the end"
   ]
  },
  {
   "cell_type": "code",
   "execution_count": 13,
   "id": "203f4291",
   "metadata": {},
   "outputs": [
    {
     "name": "stdout",
     "output_type": "stream",
     "text": [
      "{'drill_data': 'PDC', 'KOP': 1000, 'measurements': {'TVD': 1500, 'MD': 2100}}\n"
     ]
    }
   ],
   "source": [
    "print(drilling_data)"
   ]
  },
  {
   "cell_type": "code",
   "execution_count": 14,
   "id": "499ecbe2",
   "metadata": {},
   "outputs": [],
   "source": [
    "dril_data = {\n",
    "    'field' : \"Rajeshwari\",\n",
    "    'state' : \"Rajasthan\"\n",
    "}"
   ]
  },
  {
   "cell_type": "code",
   "execution_count": 15,
   "id": "3e7fba2c",
   "metadata": {},
   "outputs": [],
   "source": [
    "dril_data.update(drilling_data)"
   ]
  },
  {
   "cell_type": "code",
   "execution_count": 16,
   "id": "432361dd",
   "metadata": {},
   "outputs": [
    {
     "data": {
      "text/plain": [
       "{'field': 'Rajeshwari',\n",
       " 'state': 'Rajasthan',\n",
       " 'drill_data': 'PDC',\n",
       " 'KOP': 1000,\n",
       " 'measurements': {'TVD': 1500, 'MD': 2100}}"
      ]
     },
     "execution_count": 16,
     "metadata": {},
     "output_type": "execute_result"
    }
   ],
   "source": [
    "dril_data"
   ]
  },
  {
   "cell_type": "code",
   "execution_count": 17,
   "id": "ed5ddc8f",
   "metadata": {},
   "outputs": [
    {
     "data": {
      "text/plain": [
       "{'drill_data': 'PDC', 'KOP': 1000, 'measurements': {'TVD': 1500, 'MD': 2100}}"
      ]
     },
     "execution_count": 17,
     "metadata": {},
     "output_type": "execute_result"
    }
   ],
   "source": [
    "drilling_data"
   ]
  },
  {
   "cell_type": "code",
   "execution_count": 18,
   "id": "966ec08e",
   "metadata": {},
   "outputs": [],
   "source": [
    "drilling_data.update({})"
   ]
  },
  {
   "cell_type": "code",
   "execution_count": 19,
   "id": "c322a478",
   "metadata": {},
   "outputs": [
    {
     "data": {
      "text/plain": [
       "{'drill_data': 'PDC', 'KOP': 1000, 'measurements': {'TVD': 1500, 'MD': 2100}}"
      ]
     },
     "execution_count": 19,
     "metadata": {},
     "output_type": "execute_result"
    }
   ],
   "source": [
    "drilling_data"
   ]
  },
  {
   "cell_type": "code",
   "execution_count": null,
   "id": "134fa051",
   "metadata": {},
   "outputs": [],
   "source": []
  }
 ],
 "metadata": {
  "kernelspec": {
   "display_name": "Python 3 (ipykernel)",
   "language": "python",
   "name": "python3"
  },
  "language_info": {
   "codemirror_mode": {
    "name": "ipython",
    "version": 3
   },
   "file_extension": ".py",
   "mimetype": "text/x-python",
   "name": "python",
   "nbconvert_exporter": "python",
   "pygments_lexer": "ipython3",
   "version": "3.9.6"
  }
 },
 "nbformat": 4,
 "nbformat_minor": 5
}
