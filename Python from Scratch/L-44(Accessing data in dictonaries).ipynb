{
 "cells": [
  {
   "cell_type": "code",
   "execution_count": 1,
   "id": "dda5c2df",
   "metadata": {},
   "outputs": [],
   "source": [
    "phi = {\"res_a\" : 0.15, \"res_b\" : 0.16, \"res_c\" : 0.19}"
   ]
  },
  {
   "cell_type": "code",
   "execution_count": 2,
   "id": "54b5dbc9",
   "metadata": {},
   "outputs": [
    {
     "data": {
      "text/plain": [
       "0.15"
      ]
     },
     "execution_count": 2,
     "metadata": {},
     "output_type": "execute_result"
    }
   ],
   "source": [
    "phi[\"res_a\"]"
   ]
  },
  {
   "cell_type": "code",
   "execution_count": 3,
   "id": "6ba9f68a",
   "metadata": {},
   "outputs": [],
   "source": [
    "info = {\n",
    "    \"name\" : \"Ayush\",\n",
    "    \"college\" : \"PDPU\", \n",
    "    \"fav_movies\" : [\"YJHD\", \"DDLJ\", \"83\"],\n",
    "    \"hobbies\" : [\"Chess\", \"Sports\"]\n",
    "}"
   ]
  },
  {
   "cell_type": "code",
   "execution_count": 4,
   "id": "255f5036",
   "metadata": {},
   "outputs": [
    {
     "name": "stdout",
     "output_type": "stream",
     "text": [
      "{'name': 'Ayush', 'college': 'PDPU', 'fav_movies': ['YJHD', 'DDLJ', '83'], 'hobbies': ['Chess', 'Sports']}\n"
     ]
    }
   ],
   "source": [
    "print(info)"
   ]
  },
  {
   "cell_type": "code",
   "execution_count": 7,
   "id": "7d16b962",
   "metadata": {},
   "outputs": [
    {
     "data": {
      "text/plain": [
       "['YJHD', 'DDLJ', '83']"
      ]
     },
     "execution_count": 7,
     "metadata": {},
     "output_type": "execute_result"
    }
   ],
   "source": [
    "info[\"fav_movies\"]"
   ]
  },
  {
   "cell_type": "code",
   "execution_count": 8,
   "id": "c5ab8f37",
   "metadata": {},
   "outputs": [
    {
     "name": "stdout",
     "output_type": "stream",
     "text": [
      "83\n"
     ]
    }
   ],
   "source": [
    "print(info[\"fav_movies\"][2])"
   ]
  },
  {
   "cell_type": "code",
   "execution_count": 13,
   "id": "e360f739",
   "metadata": {},
   "outputs": [],
   "source": [
    "res_1 = {\"Reservoir_name\" : \"A\", \"State\" : \"Rajasthan\", \"avg_phi\" : 0.34, \"avg_perm\" : 35, \"pay\" : 40}\n",
    "res_2 = {\"Reservoir_name\" : \"B\", \"State\" : \"Maharastra\", \"avg_phi\" : 0.25, \"avg_perm\" : 28, \"pay\" : 15}\n",
    "res_3 = {\"Reservoir_name\" : \"C\", \"State\" : \"Assam\", \"avg_phi\" : 0.29, \"avg_perm\" : 50, \"pay\" : 25}"
   ]
  },
  {
   "cell_type": "code",
   "execution_count": 14,
   "id": "69d5a1bf",
   "metadata": {},
   "outputs": [],
   "source": [
    "reservoir = {\"res_1\":res_1, \"res_2\":res_2, \"res_3\":res_3}"
   ]
  },
  {
   "cell_type": "code",
   "execution_count": 15,
   "id": "d61de3f5",
   "metadata": {},
   "outputs": [
    {
     "data": {
      "text/plain": [
       "{'res_1': {'Reservoir_name': 'A',\n",
       "  'State': 'Rajasthan',\n",
       "  'avg_phi': 0.34,\n",
       "  'avg_perm': 35,\n",
       "  'pay': 40},\n",
       " 'res_2': {'Reservoir_name': 'B',\n",
       "  'State': 'Maharastra',\n",
       "  'avg_phi': 0.25,\n",
       "  'avg_perm': 28,\n",
       "  'pay': 15},\n",
       " 'res_3': {'Reservoir_name': 'C',\n",
       "  'State': 'Assam',\n",
       "  'avg_phi': 0.29,\n",
       "  'avg_perm': 50,\n",
       "  'pay': 25}}"
      ]
     },
     "execution_count": 15,
     "metadata": {},
     "output_type": "execute_result"
    }
   ],
   "source": [
    "reservoir"
   ]
  },
  {
   "cell_type": "code",
   "execution_count": 16,
   "id": "fa4df237",
   "metadata": {},
   "outputs": [
    {
     "data": {
      "text/plain": [
       "{'Reservoir_name': 'A',\n",
       " 'State': 'Rajasthan',\n",
       " 'avg_phi': 0.34,\n",
       " 'avg_perm': 35,\n",
       " 'pay': 40}"
      ]
     },
     "execution_count": 16,
     "metadata": {},
     "output_type": "execute_result"
    }
   ],
   "source": [
    "reservoir[\"res_1\"]"
   ]
  },
  {
   "cell_type": "code",
   "execution_count": null,
   "id": "ea6ba609",
   "metadata": {},
   "outputs": [],
   "source": []
  }
 ],
 "metadata": {
  "kernelspec": {
   "display_name": "Python 3 (ipykernel)",
   "language": "python",
   "name": "python3"
  },
  "language_info": {
   "codemirror_mode": {
    "name": "ipython",
    "version": 3
   },
   "file_extension": ".py",
   "mimetype": "text/x-python",
   "name": "python",
   "nbconvert_exporter": "python",
   "pygments_lexer": "ipython3",
   "version": "3.9.6"
  }
 },
 "nbformat": 4,
 "nbformat_minor": 5
}
