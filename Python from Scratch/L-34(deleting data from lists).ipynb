{
 "cells": [
  {
   "cell_type": "code",
   "execution_count": 1,
   "id": "89637cfc",
   "metadata": {},
   "outputs": [],
   "source": [
    "den_red = [\"Bentonite\", \"Diatonaceous Earth\", \"Barite\", \"Glisonite\", \"Porzolan\", \"Hametite\"]"
   ]
  },
  {
   "cell_type": "code",
   "execution_count": 2,
   "id": "b4f82995",
   "metadata": {},
   "outputs": [
    {
     "data": {
      "text/plain": [
       "'Hametite'"
      ]
     },
     "execution_count": 2,
     "metadata": {},
     "output_type": "execute_result"
    }
   ],
   "source": [
    "den_red.pop()"
   ]
  },
  {
   "cell_type": "code",
   "execution_count": 3,
   "id": "b082e484",
   "metadata": {},
   "outputs": [
    {
     "data": {
      "text/plain": [
       "['Bentonite', 'Diatonaceous Earth', 'Barite', 'Glisonite', 'Porzolan']"
      ]
     },
     "execution_count": 3,
     "metadata": {},
     "output_type": "execute_result"
    }
   ],
   "source": [
    "den_red"
   ]
  },
  {
   "cell_type": "code",
   "execution_count": 4,
   "id": "150d04e3",
   "metadata": {},
   "outputs": [
    {
     "data": {
      "text/plain": [
       "'Barite'"
      ]
     },
     "execution_count": 4,
     "metadata": {},
     "output_type": "execute_result"
    }
   ],
   "source": [
    "den_red.pop(2)"
   ]
  },
  {
   "cell_type": "code",
   "execution_count": 5,
   "id": "051b3333",
   "metadata": {},
   "outputs": [
    {
     "data": {
      "text/plain": [
       "['Bentonite', 'Diatonaceous Earth', 'Glisonite', 'Porzolan']"
      ]
     },
     "execution_count": 5,
     "metadata": {},
     "output_type": "execute_result"
    }
   ],
   "source": [
    "den_red"
   ]
  },
  {
   "cell_type": "code",
   "execution_count": 6,
   "id": "630ded15",
   "metadata": {},
   "outputs": [],
   "source": [
    "den_inc = [\"Barite\", \"Menetite\", \"Bentonite\", \"Ilenite\"]\n"
   ]
  },
  {
   "cell_type": "code",
   "execution_count": 7,
   "id": "c7c1412c",
   "metadata": {},
   "outputs": [],
   "source": [
    "del den_inc[2]"
   ]
  },
  {
   "cell_type": "code",
   "execution_count": 8,
   "id": "88b801e7",
   "metadata": {},
   "outputs": [
    {
     "name": "stdout",
     "output_type": "stream",
     "text": [
      "['Barite', 'Menetite', 'Ilenite']\n"
     ]
    }
   ],
   "source": [
    "print(den_inc)"
   ]
  },
  {
   "cell_type": "code",
   "execution_count": 9,
   "id": "be93fa8b",
   "metadata": {},
   "outputs": [],
   "source": [
    "trans_motion = [\"surge\", \"pitch\", \"sway\", \"roll\", \"heave\", \"yaw\"]"
   ]
  },
  {
   "cell_type": "code",
   "execution_count": 11,
   "id": "7cfd65d6",
   "metadata": {},
   "outputs": [],
   "source": [
    "trans_motion.remove(\"roll\")"
   ]
  },
  {
   "cell_type": "code",
   "execution_count": 13,
   "id": "ae413b2d",
   "metadata": {},
   "outputs": [
    {
     "data": {
      "text/plain": [
       "'yaw'"
      ]
     },
     "execution_count": 13,
     "metadata": {},
     "output_type": "execute_result"
    }
   ],
   "source": [
    "trans_motion.pop()"
   ]
  },
  {
   "cell_type": "code",
   "execution_count": 14,
   "id": "c5470e22",
   "metadata": {},
   "outputs": [
    {
     "data": {
      "text/plain": [
       "['surge', 'pitch', 'sway', 'heave']"
      ]
     },
     "execution_count": 14,
     "metadata": {},
     "output_type": "execute_result"
    }
   ],
   "source": [
    "trans_motion"
   ]
  },
  {
   "cell_type": "code",
   "execution_count": null,
   "id": "bed7eb16",
   "metadata": {},
   "outputs": [],
   "source": []
  }
 ],
 "metadata": {
  "kernelspec": {
   "display_name": "Python 3 (ipykernel)",
   "language": "python",
   "name": "python3"
  },
  "language_info": {
   "codemirror_mode": {
    "name": "ipython",
    "version": 3
   },
   "file_extension": ".py",
   "mimetype": "text/x-python",
   "name": "python",
   "nbconvert_exporter": "python",
   "pygments_lexer": "ipython3",
   "version": "3.9.6"
  }
 },
 "nbformat": 4,
 "nbformat_minor": 5
}
