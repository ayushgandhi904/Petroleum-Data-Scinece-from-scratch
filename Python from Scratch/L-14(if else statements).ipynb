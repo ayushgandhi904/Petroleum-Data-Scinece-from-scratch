{
 "cells": [
  {
   "cell_type": "code",
   "execution_count": 1,
   "id": "dcc1ebb3",
   "metadata": {},
   "outputs": [
    {
     "name": "stdout",
     "output_type": "stream",
     "text": [
      "True\n"
     ]
    }
   ],
   "source": [
    "a = 5\n",
    "b = 44\n",
    "c = 1\n",
    " \n",
    "print(a ==a)"
   ]
  },
  {
   "cell_type": "code",
   "execution_count": 2,
   "id": "0ca697d2",
   "metadata": {},
   "outputs": [
    {
     "name": "stdout",
     "output_type": "stream",
     "text": [
      "True\n"
     ]
    }
   ],
   "source": [
    "print(a != b)"
   ]
  },
  {
   "cell_type": "code",
   "execution_count": 3,
   "id": "ff03600d",
   "metadata": {},
   "outputs": [
    {
     "name": "stdout",
     "output_type": "stream",
     "text": [
      "True\n"
     ]
    }
   ],
   "source": [
    "print(a >= c)"
   ]
  },
  {
   "cell_type": "code",
   "execution_count": 8,
   "id": "17560db9",
   "metadata": {},
   "outputs": [
    {
     "name": "stdout",
     "output_type": "stream",
     "text": [
      "What is the actual reservoir pressure ?1000\n",
      "This is normal Pressure\n"
     ]
    }
   ],
   "source": [
    "exp_res_press = 3000\n",
    "\n",
    "act_res_press = int(input(\"What is the actual reservoir pressure ?\"))\n",
    "\n",
    "if act_res_press > exp_res_press:\n",
    "    print(\"Reservoir pressure is greater then expected\")\n",
    "    print(\"Abnormal Pressure\")\n",
    "else:\n",
    "    print(\"This is normal Pressure\")"
   ]
  },
  {
   "cell_type": "code",
   "execution_count": 7,
   "id": "1b705063",
   "metadata": {},
   "outputs": [],
   "source": [
    "#pass statement\n",
    "\n",
    "x = 56\n",
    "\n",
    "if x >56:\n",
    "    pass"
   ]
  },
  {
   "cell_type": "code",
   "execution_count": 9,
   "id": "2734422b",
   "metadata": {},
   "outputs": [
    {
     "name": "stdout",
     "output_type": "stream",
     "text": [
      "get off\n"
     ]
    }
   ],
   "source": [
    "var = 59 \n",
    "\n",
    "if var > 69:\n",
    "    print(\"you look nice\")\n",
    "else:\n",
    "    print(\"get off\")"
   ]
  },
  {
   "cell_type": "code",
   "execution_count": null,
   "id": "c5b1a350",
   "metadata": {},
   "outputs": [],
   "source": []
  }
 ],
 "metadata": {
  "kernelspec": {
   "display_name": "Python 3 (ipykernel)",
   "language": "python",
   "name": "python3"
  },
  "language_info": {
   "codemirror_mode": {
    "name": "ipython",
    "version": 3
   },
   "file_extension": ".py",
   "mimetype": "text/x-python",
   "name": "python",
   "nbconvert_exporter": "python",
   "pygments_lexer": "ipython3",
   "version": "3.9.6"
  }
 },
 "nbformat": 4,
 "nbformat_minor": 5
}
