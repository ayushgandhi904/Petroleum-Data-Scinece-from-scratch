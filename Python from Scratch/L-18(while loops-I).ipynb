{
 "cells": [
  {
   "cell_type": "code",
   "execution_count": 1,
   "id": "4f92aeee",
   "metadata": {},
   "outputs": [
    {
     "name": "stdout",
     "output_type": "stream",
     "text": [
      "python for petroleum\n"
     ]
    }
   ],
   "source": [
    "print (\"python for petroleum\")"
   ]
  },
  {
   "cell_type": "code",
   "execution_count": 3,
   "id": "13a189bb",
   "metadata": {},
   "outputs": [
    {
     "name": "stdout",
     "output_type": "stream",
     "text": [
      "Python from scrath\n",
      "Python from scrath\n",
      "Python from scrath\n",
      "Python from scrath\n",
      "Python from scrath\n",
      "Python from scrath\n",
      "Python from scrath\n",
      "Python from scrath\n",
      "Python from scrath\n",
      "Python from scrath\n"
     ]
    }
   ],
   "source": [
    "a = 1 #initiation\n",
    "\n",
    "while a<=10:\n",
    "    print(\"Python from scrath\")\n",
    "    a = a + 1"
   ]
  },
  {
   "cell_type": "code",
   "execution_count": 4,
   "id": "f6e59211",
   "metadata": {},
   "outputs": [
    {
     "name": "stdout",
     "output_type": "stream",
     "text": [
      "Python from scrath\n",
      "Python from scrath\n",
      "Python from scrath\n",
      "Python from scrath\n",
      "Python from scrath\n"
     ]
    }
   ],
   "source": [
    "c = 5\n",
    "while c>= 1:\n",
    "    print(\"Python from scrath\")\n",
    "    c -= 1"
   ]
  },
  {
   "cell_type": "code",
   "execution_count": 8,
   "id": "97dc9a93",
   "metadata": {},
   "outputs": [
    {
     "name": "stdout",
     "output_type": "stream",
     "text": [
      "2000 is not a normal pressure\n",
      "2100 is not a normal pressure\n",
      "2200 is not a normal pressure\n",
      "2300 is not a normal pressure\n",
      "2400 is not a normal pressure\n",
      "2500 is not a normal pressure\n",
      "2600 is not a normal pressure\n",
      "2700 is not a normal pressure\n",
      "2800 is not a normal pressure\n",
      "2900 is not a normal pressure\n",
      "3000 is not a normal pressure\n"
     ]
    }
   ],
   "source": [
    "press = 2000\n",
    "\n",
    "while press <= 3000:\n",
    "    print(f\"{press} is not a normal pressure\")\n",
    "    press += 100"
   ]
  },
  {
   "cell_type": "code",
   "execution_count": null,
   "id": "e8353303",
   "metadata": {},
   "outputs": [],
   "source": []
  }
 ],
 "metadata": {
  "kernelspec": {
   "display_name": "Python 3 (ipykernel)",
   "language": "python",
   "name": "python3"
  },
  "language_info": {
   "codemirror_mode": {
    "name": "ipython",
    "version": 3
   },
   "file_extension": ".py",
   "mimetype": "text/x-python",
   "name": "python",
   "nbconvert_exporter": "python",
   "pygments_lexer": "ipython3",
   "version": "3.9.6"
  }
 },
 "nbformat": 4,
 "nbformat_minor": 5
}
