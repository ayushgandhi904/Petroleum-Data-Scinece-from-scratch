{
 "cells": [
  {
   "cell_type": "code",
   "execution_count": 1,
   "id": "efe59c05",
   "metadata": {},
   "outputs": [
    {
     "name": "stdout",
     "output_type": "stream",
     "text": [
      "What do you do?I am a student\n"
     ]
    },
    {
     "data": {
      "text/plain": [
       "'I am a student'"
      ]
     },
     "execution_count": 1,
     "metadata": {},
     "output_type": "execute_result"
    }
   ],
   "source": [
    "input(\"What do you do?\")"
   ]
  },
  {
   "cell_type": "code",
   "execution_count": 2,
   "id": "b6a9f0cc",
   "metadata": {},
   "outputs": [
    {
     "name": "stdout",
     "output_type": "stream",
     "text": [
      "What is your name?Ayush\n"
     ]
    }
   ],
   "source": [
    "name = input(\"What is your name?\")"
   ]
  },
  {
   "cell_type": "code",
   "execution_count": 3,
   "id": "b1d03fdf",
   "metadata": {},
   "outputs": [
    {
     "name": "stdout",
     "output_type": "stream",
     "text": [
      "Ayush\n"
     ]
    }
   ],
   "source": [
    "print(name)"
   ]
  },
  {
   "cell_type": "code",
   "execution_count": 4,
   "id": "0b17ccbc",
   "metadata": {},
   "outputs": [
    {
     "name": "stdout",
     "output_type": "stream",
     "text": [
      "Hi Ayush, Welcome back\n"
     ]
    }
   ],
   "source": [
    "print(f'Hi {name}, Welcome back')"
   ]
  },
  {
   "cell_type": "code",
   "execution_count": 5,
   "id": "c6ee8be3",
   "metadata": {},
   "outputs": [
    {
     "name": "stdout",
     "output_type": "stream",
     "text": [
      "how many siblings do you have?5\n"
     ]
    }
   ],
   "source": [
    "siblings = input(\"how many siblings do you have?\")"
   ]
  },
  {
   "cell_type": "code",
   "execution_count": 7,
   "id": "f5440dd3",
   "metadata": {},
   "outputs": [
    {
     "name": "stdout",
     "output_type": "stream",
     "text": [
      "I have 5\n"
     ]
    }
   ],
   "source": [
    "print(f\"I have {siblings}\")"
   ]
  },
  {
   "cell_type": "code",
   "execution_count": 8,
   "id": "9415e40e",
   "metadata": {},
   "outputs": [
    {
     "data": {
      "text/plain": [
       "str"
      ]
     },
     "execution_count": 8,
     "metadata": {},
     "output_type": "execute_result"
    }
   ],
   "source": [
    "type(siblings)"
   ]
  },
  {
   "cell_type": "code",
   "execution_count": 10,
   "id": "7ab2208d",
   "metadata": {},
   "outputs": [
    {
     "name": "stdout",
     "output_type": "stream",
     "text": [
      "I have 5 siblings\n"
     ]
    }
   ],
   "source": [
    "print(\"I have\" + ' ' + (siblings) +\" \" + \"siblings\")"
   ]
  },
  {
   "cell_type": "code",
   "execution_count": 11,
   "id": "d3338924",
   "metadata": {},
   "outputs": [
    {
     "name": "stdout",
     "output_type": "stream",
     "text": [
      "What is your age?22\n",
      "What is your dad age?50\n"
     ]
    }
   ],
   "source": [
    "age = input(\"What is your age?\")\n",
    "dad_age = input(\"What is your dad age?\")"
   ]
  },
  {
   "cell_type": "code",
   "execution_count": 15,
   "id": "d641ada4",
   "metadata": {},
   "outputs": [],
   "source": [
    "age_sum = (age) + (dad_age)"
   ]
  },
  {
   "cell_type": "code",
   "execution_count": 16,
   "id": "9961afeb",
   "metadata": {},
   "outputs": [
    {
     "data": {
      "text/plain": [
       "'2250'"
      ]
     },
     "execution_count": 16,
     "metadata": {},
     "output_type": "execute_result"
    }
   ],
   "source": [
    "age_sum"
   ]
  },
  {
   "cell_type": "code",
   "execution_count": 17,
   "id": "fef1e258",
   "metadata": {},
   "outputs": [],
   "source": [
    "age_sum = int(age) +int(dad_age)"
   ]
  },
  {
   "cell_type": "code",
   "execution_count": 18,
   "id": "edf46d5b",
   "metadata": {},
   "outputs": [
    {
     "data": {
      "text/plain": [
       "72"
      ]
     },
     "execution_count": 18,
     "metadata": {},
     "output_type": "execute_result"
    }
   ],
   "source": [
    "age_sum"
   ]
  },
  {
   "cell_type": "code",
   "execution_count": 19,
   "id": "4d5186ce",
   "metadata": {},
   "outputs": [
    {
     "name": "stdout",
     "output_type": "stream",
     "text": [
      "What is your age?22\n",
      "What is your dad age?50\n"
     ]
    }
   ],
   "source": [
    "age = int(input(\"What is your age?\"))\n",
    "dad_age = int(input(\"What is your dad age?\"))"
   ]
  },
  {
   "cell_type": "code",
   "execution_count": 20,
   "id": "d2052c1b",
   "metadata": {},
   "outputs": [],
   "source": [
    "age_sum = age + dad_age"
   ]
  },
  {
   "cell_type": "code",
   "execution_count": 21,
   "id": "cfbda807",
   "metadata": {},
   "outputs": [
    {
     "data": {
      "text/plain": [
       "72"
      ]
     },
     "execution_count": 21,
     "metadata": {},
     "output_type": "execute_result"
    }
   ],
   "source": [
    "age_sum"
   ]
  },
  {
   "cell_type": "code",
   "execution_count": null,
   "id": "7c48125e",
   "metadata": {},
   "outputs": [],
   "source": []
  }
 ],
 "metadata": {
  "kernelspec": {
   "display_name": "Python 3 (ipykernel)",
   "language": "python",
   "name": "python3"
  },
  "language_info": {
   "codemirror_mode": {
    "name": "ipython",
    "version": 3
   },
   "file_extension": ".py",
   "mimetype": "text/x-python",
   "name": "python",
   "nbconvert_exporter": "python",
   "pygments_lexer": "ipython3",
   "version": "3.9.6"
  }
 },
 "nbformat": 4,
 "nbformat_minor": 5
}
