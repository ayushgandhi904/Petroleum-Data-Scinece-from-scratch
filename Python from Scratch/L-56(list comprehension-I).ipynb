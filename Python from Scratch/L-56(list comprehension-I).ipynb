{
 "cells": [
  {
   "cell_type": "code",
   "execution_count": 1,
   "id": "f33f4127",
   "metadata": {},
   "outputs": [],
   "source": [
    "por = [10, 20, 30, 40, 50]"
   ]
  },
  {
   "cell_type": "code",
   "execution_count": 2,
   "id": "4ea38837",
   "metadata": {},
   "outputs": [
    {
     "name": "stdout",
     "output_type": "stream",
     "text": [
      "[0.1, 0.2, 0.3, 0.4, 0.5]\n"
     ]
    }
   ],
   "source": [
    "frac = []\n",
    "\n",
    "for i in por:\n",
    "    frac.append(i/100)\n",
    "print(frac)"
   ]
  },
  {
   "cell_type": "code",
   "execution_count": 3,
   "id": "b1d8c65b",
   "metadata": {},
   "outputs": [],
   "source": [
    "frac_new = [i/100 for i in por]"
   ]
  },
  {
   "cell_type": "code",
   "execution_count": 4,
   "id": "ea3e0a7b",
   "metadata": {},
   "outputs": [
    {
     "data": {
      "text/plain": [
       "[0.1, 0.2, 0.3, 0.4, 0.5]"
      ]
     },
     "execution_count": 4,
     "metadata": {},
     "output_type": "execute_result"
    }
   ],
   "source": [
    "frac_new"
   ]
  },
  {
   "cell_type": "code",
   "execution_count": 6,
   "id": "327674f7",
   "metadata": {},
   "outputs": [],
   "source": [
    "sat_water = [0.14, 0.18, 0.1, 0.34]\n",
    "\n",
    "sat_hc = [1-i for i in sat_water]"
   ]
  },
  {
   "cell_type": "code",
   "execution_count": 7,
   "id": "790f82e4",
   "metadata": {},
   "outputs": [
    {
     "data": {
      "text/plain": [
       "[0.86, 0.8200000000000001, 0.9, 0.6599999999999999]"
      ]
     },
     "execution_count": 7,
     "metadata": {},
     "output_type": "execute_result"
    }
   ],
   "source": [
    "sat_hc"
   ]
  },
  {
   "cell_type": "code",
   "execution_count": 8,
   "id": "0254faed",
   "metadata": {},
   "outputs": [],
   "source": [
    "def sat_hc(a):\n",
    "    b = []\n",
    "    for i in a:\n",
    "        b.append(1-i)\n",
    "    return b"
   ]
  },
  {
   "cell_type": "code",
   "execution_count": 9,
   "id": "ab7320be",
   "metadata": {},
   "outputs": [
    {
     "data": {
      "text/plain": [
       "[0.86, 0.8200000000000001, 0.9, 0.6599999999999999]"
      ]
     },
     "execution_count": 9,
     "metadata": {},
     "output_type": "execute_result"
    }
   ],
   "source": [
    "sat_hc(sat_water)"
   ]
  },
  {
   "cell_type": "code",
   "execution_count": 10,
   "id": "4c8eecc6",
   "metadata": {},
   "outputs": [],
   "source": [
    "def sat_oil(a):\n",
    "    c = [1 - i for i in a]\n",
    "    return c"
   ]
  },
  {
   "cell_type": "code",
   "execution_count": 11,
   "id": "9a96d8f7",
   "metadata": {},
   "outputs": [
    {
     "data": {
      "text/plain": [
       "[0.86, 0.8200000000000001, 0.9, 0.6599999999999999]"
      ]
     },
     "execution_count": 11,
     "metadata": {},
     "output_type": "execute_result"
    }
   ],
   "source": [
    "sat_oil(sat_water)"
   ]
  },
  {
   "cell_type": "code",
   "execution_count": null,
   "id": "12e8b9ca",
   "metadata": {},
   "outputs": [],
   "source": []
  }
 ],
 "metadata": {
  "kernelspec": {
   "display_name": "Python 3 (ipykernel)",
   "language": "python",
   "name": "python3"
  },
  "language_info": {
   "codemirror_mode": {
    "name": "ipython",
    "version": 3
   },
   "file_extension": ".py",
   "mimetype": "text/x-python",
   "name": "python",
   "nbconvert_exporter": "python",
   "pygments_lexer": "ipython3",
   "version": "3.9.6"
  }
 },
 "nbformat": 4,
 "nbformat_minor": 5
}
