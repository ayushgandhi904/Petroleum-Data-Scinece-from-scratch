{
 "cells": [
  {
   "cell_type": "code",
   "execution_count": 4,
   "id": "ff9591dc",
   "metadata": {},
   "outputs": [],
   "source": [
    "a = [1, 2, 3, 4]\n",
    "b = [5, 6, 7, 8]\n",
    "\n",
    "c = list(zip(a, b))"
   ]
  },
  {
   "cell_type": "code",
   "execution_count": 7,
   "id": "adf9d7e9",
   "metadata": {},
   "outputs": [
    {
     "name": "stdout",
     "output_type": "stream",
     "text": [
      "6\n",
      "8\n",
      "10\n",
      "12\n"
     ]
    }
   ],
   "source": [
    "#for loop \n",
    "\n",
    "for i, j in c:\n",
    "    print(i+ j)\n",
    "\n"
   ]
  },
  {
   "cell_type": "code",
   "execution_count": 8,
   "id": "91991f10",
   "metadata": {},
   "outputs": [
    {
     "name": "stdout",
     "output_type": "stream",
     "text": [
      "[0.79, 0.30000000000000004, 0.38000000000000006, 0.89]\n"
     ]
    }
   ],
   "source": [
    "s_w = [0.1, 0.2, 0.21, 0.01]\n",
    "s_g = [0.11, 0.5, 0.41, 0.1]\n",
    "s_o = []\n",
    "\n",
    "for i, j in zip(s_w, s_g):\n",
    "    s_o.append(1-i-j)\n",
    "print(s_o)"
   ]
  },
  {
   "cell_type": "code",
   "execution_count": 10,
   "id": "ecfbe42b",
   "metadata": {},
   "outputs": [
    {
     "name": "stdout",
     "output_type": "stream",
     "text": [
      "[(0.1, 0.11), (0.2, 0.5), (0.21, 0.41), (0.01, 0.1)]\n"
     ]
    }
   ],
   "source": [
    "d = list(zip(s_w, s_g))\n",
    "print(d)"
   ]
  },
  {
   "cell_type": "code",
   "execution_count": 11,
   "id": "8d0ac03c",
   "metadata": {},
   "outputs": [
    {
     "data": {
      "text/plain": [
       "[(0.1, 0.2, 0.21, 0.01), (0.11, 0.5, 0.41, 0.1)]"
      ]
     },
     "execution_count": 11,
     "metadata": {},
     "output_type": "execute_result"
    }
   ],
   "source": [
    "list(zip(*d))"
   ]
  },
  {
   "cell_type": "code",
   "execution_count": 12,
   "id": "06062985",
   "metadata": {},
   "outputs": [],
   "source": [
    "#excercise"
   ]
  },
  {
   "cell_type": "code",
   "execution_count": 13,
   "id": "f26856fa",
   "metadata": {},
   "outputs": [],
   "source": [
    "a = [19, 24, 31, 34, 45]\n",
    "b = [16, 17, 38, 29, 19]\n",
    "c = [24, 24, 40, 37, 15]\n",
    "d = [50, 47, 19, 49, 10]"
   ]
  },
  {
   "cell_type": "code",
   "execution_count": 16,
   "id": "acb458f1",
   "metadata": {},
   "outputs": [
    {
     "name": "stdout",
     "output_type": "stream",
     "text": [
      "[(19, 16, 24, 50), (24, 17, 24, 47), (31, 38, 40, 19), (34, 29, 37, 49), (45, 19, 15, 10)]\n"
     ]
    }
   ],
   "source": [
    "k = list(zip(a, b, c, d))\n",
    "print(k)"
   ]
  },
  {
   "cell_type": "code",
   "execution_count": 17,
   "id": "08e6e17c",
   "metadata": {},
   "outputs": [
    {
     "name": "stdout",
     "output_type": "stream",
     "text": [
      "27.25\n",
      "28.0\n",
      "32.0\n",
      "37.25\n",
      "22.25\n"
     ]
    }
   ],
   "source": [
    "for r, s, t, u in k:\n",
    "    print((r + s + t + u)/4)"
   ]
  },
  {
   "cell_type": "code",
   "execution_count": null,
   "id": "8ed12901",
   "metadata": {},
   "outputs": [],
   "source": []
  }
 ],
 "metadata": {
  "kernelspec": {
   "display_name": "Python 3 (ipykernel)",
   "language": "python",
   "name": "python3"
  },
  "language_info": {
   "codemirror_mode": {
    "name": "ipython",
    "version": 3
   },
   "file_extension": ".py",
   "mimetype": "text/x-python",
   "name": "python",
   "nbconvert_exporter": "python",
   "pygments_lexer": "ipython3",
   "version": "3.9.6"
  }
 },
 "nbformat": 4,
 "nbformat_minor": 5
}
