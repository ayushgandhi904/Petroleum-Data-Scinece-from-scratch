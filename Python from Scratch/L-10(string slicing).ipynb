{
 "cells": [
  {
   "cell_type": "code",
   "execution_count": 1,
   "id": "ee12e1d3",
   "metadata": {},
   "outputs": [],
   "source": [
    "var = \"reservoir\""
   ]
  },
  {
   "cell_type": "code",
   "execution_count": 2,
   "id": "a4d26d68",
   "metadata": {},
   "outputs": [
    {
     "data": {
      "text/plain": [
       "'re'"
      ]
     },
     "execution_count": 2,
     "metadata": {},
     "output_type": "execute_result"
    }
   ],
   "source": [
    "var[0:2]"
   ]
  },
  {
   "cell_type": "code",
   "execution_count": 3,
   "id": "ceec0de0",
   "metadata": {},
   "outputs": [
    {
     "data": {
      "text/plain": [
       "'rs'"
      ]
     },
     "execution_count": 3,
     "metadata": {},
     "output_type": "execute_result"
    }
   ],
   "source": [
    "var[0:3:2]"
   ]
  },
  {
   "cell_type": "code",
   "execution_count": 4,
   "id": "6bb8ad3e",
   "metadata": {},
   "outputs": [
    {
     "data": {
      "text/plain": [
       "'res'"
      ]
     },
     "execution_count": 4,
     "metadata": {},
     "output_type": "execute_result"
    }
   ],
   "source": [
    "var[0:3:1]"
   ]
  },
  {
   "cell_type": "code",
   "execution_count": 5,
   "id": "fb918b3f",
   "metadata": {},
   "outputs": [
    {
     "data": {
      "text/plain": [
       "'res'"
      ]
     },
     "execution_count": 5,
     "metadata": {},
     "output_type": "execute_result"
    }
   ],
   "source": [
    "\"reservoir\"[0:3]"
   ]
  },
  {
   "cell_type": "code",
   "execution_count": 7,
   "id": "cddf359c",
   "metadata": {},
   "outputs": [
    {
     "data": {
      "text/plain": [
       "'lling'"
      ]
     },
     "execution_count": 7,
     "metadata": {},
     "output_type": "execute_result"
    }
   ],
   "source": [
    "\"drilling\"[3:8]"
   ]
  },
  {
   "cell_type": "code",
   "execution_count": 8,
   "id": "1b8282e5",
   "metadata": {},
   "outputs": [
    {
     "data": {
      "text/plain": [
       "'ervoir'"
      ]
     },
     "execution_count": 8,
     "metadata": {},
     "output_type": "execute_result"
    }
   ],
   "source": [
    "var[3:]"
   ]
  },
  {
   "cell_type": "code",
   "execution_count": 9,
   "id": "d88d234f",
   "metadata": {},
   "outputs": [
    {
     "data": {
      "text/plain": [
       "'rese'"
      ]
     },
     "execution_count": 9,
     "metadata": {},
     "output_type": "execute_result"
    }
   ],
   "source": [
    "var[:4]"
   ]
  },
  {
   "cell_type": "code",
   "execution_count": 10,
   "id": "61f06902",
   "metadata": {},
   "outputs": [
    {
     "data": {
      "text/plain": [
       "''"
      ]
     },
     "execution_count": 10,
     "metadata": {},
     "output_type": "execute_result"
    }
   ],
   "source": [
    "var[-2:5]"
   ]
  },
  {
   "cell_type": "code",
   "execution_count": 11,
   "id": "08a60faf",
   "metadata": {},
   "outputs": [
    {
     "data": {
      "text/plain": [
       "'i'"
      ]
     },
     "execution_count": 11,
     "metadata": {},
     "output_type": "execute_result"
    }
   ],
   "source": [
    "var[-2:-1]"
   ]
  },
  {
   "cell_type": "code",
   "execution_count": 12,
   "id": "3f22b007",
   "metadata": {},
   "outputs": [
    {
     "data": {
      "text/plain": [
       "''"
      ]
     },
     "execution_count": 12,
     "metadata": {},
     "output_type": "execute_result"
    }
   ],
   "source": [
    "var[-1:-5]"
   ]
  },
  {
   "cell_type": "code",
   "execution_count": 13,
   "id": "eb03fdc1",
   "metadata": {},
   "outputs": [
    {
     "data": {
      "text/plain": [
       "'ir'"
      ]
     },
     "execution_count": 13,
     "metadata": {},
     "output_type": "execute_result"
    }
   ],
   "source": [
    "var[-2: 9]"
   ]
  },
  {
   "cell_type": "code",
   "execution_count": 14,
   "id": "2b040d1e",
   "metadata": {},
   "outputs": [],
   "source": [
    "name = \"Ayush\""
   ]
  },
  {
   "cell_type": "code",
   "execution_count": 15,
   "id": "13cc0509",
   "metadata": {},
   "outputs": [
    {
     "data": {
      "text/plain": [
       "'y'"
      ]
     },
     "execution_count": 15,
     "metadata": {},
     "output_type": "execute_result"
    }
   ],
   "source": [
    "name[1:2:2]"
   ]
  },
  {
   "cell_type": "code",
   "execution_count": 16,
   "id": "50bb4bb3",
   "metadata": {},
   "outputs": [
    {
     "data": {
      "text/plain": [
       "'Auh'"
      ]
     },
     "execution_count": 16,
     "metadata": {},
     "output_type": "execute_result"
    }
   ],
   "source": [
    "name[::2]"
   ]
  },
  {
   "cell_type": "code",
   "execution_count": 19,
   "id": "5864f9d6",
   "metadata": {},
   "outputs": [
    {
     "data": {
      "text/plain": [
       "'hsuyA'"
      ]
     },
     "execution_count": 19,
     "metadata": {},
     "output_type": "execute_result"
    }
   ],
   "source": [
    "#reversing the name\n",
    "name[::-1]"
   ]
  },
  {
   "cell_type": "code",
   "execution_count": 20,
   "id": "e1cc7046",
   "metadata": {},
   "outputs": [
    {
     "data": {
      "text/plain": [
       "'huA'"
      ]
     },
     "execution_count": 20,
     "metadata": {},
     "output_type": "execute_result"
    }
   ],
   "source": [
    "name[::-2]"
   ]
  },
  {
   "cell_type": "code",
   "execution_count": 23,
   "id": "d8ecd508",
   "metadata": {},
   "outputs": [
    {
     "name": "stdout",
     "output_type": "stream",
     "text": [
      "What is my age?23\n",
      "Reverse of my age is 32\n"
     ]
    }
   ],
   "source": [
    "#assingnment 5\n",
    "\n",
    "age = input(\"What is my age?\")\n",
    "print(f'Reverse of my age is {age[::-1]}')\n"
   ]
  },
  {
   "cell_type": "code",
   "execution_count": null,
   "id": "b5cdb1f1",
   "metadata": {},
   "outputs": [],
   "source": []
  }
 ],
 "metadata": {
  "kernelspec": {
   "display_name": "Python 3 (ipykernel)",
   "language": "python",
   "name": "python3"
  },
  "language_info": {
   "codemirror_mode": {
    "name": "ipython",
    "version": 3
   },
   "file_extension": ".py",
   "mimetype": "text/x-python",
   "name": "python",
   "nbconvert_exporter": "python",
   "pygments_lexer": "ipython3",
   "version": "3.9.6"
  }
 },
 "nbformat": 4,
 "nbformat_minor": 5
}
