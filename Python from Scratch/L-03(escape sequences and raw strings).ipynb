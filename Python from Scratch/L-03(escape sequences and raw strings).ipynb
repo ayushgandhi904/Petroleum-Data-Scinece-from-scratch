{
 "cells": [
  {
   "cell_type": "code",
   "execution_count": 1,
   "id": "ef6dbdb2",
   "metadata": {},
   "outputs": [
    {
     "name": "stdout",
     "output_type": "stream",
     "text": [
      "Hello World\n"
     ]
    }
   ],
   "source": [
    "print(\"Hello World\")"
   ]
  },
  {
   "cell_type": "code",
   "execution_count": 2,
   "id": "c0e9d652",
   "metadata": {},
   "outputs": [
    {
     "name": "stdout",
     "output_type": "stream",
     "text": [
      "Hel \"world\"\n"
     ]
    }
   ],
   "source": [
    "print('Hel \"world\"')"
   ]
  },
  {
   "cell_type": "code",
   "execution_count": 3,
   "id": "2342e087",
   "metadata": {},
   "outputs": [
    {
     "name": "stdout",
     "output_type": "stream",
     "text": [
      "I am Ayush's Notebook\n"
     ]
    }
   ],
   "source": [
    "print(\"I am Ayush\\'s Notebook\")"
   ]
  },
  {
   "cell_type": "code",
   "execution_count": 6,
   "id": "42f33905",
   "metadata": {},
   "outputs": [
    {
     "name": "stdout",
     "output_type": "stream",
     "text": [
      "Hello \"World\n"
     ]
    }
   ],
   "source": [
    "# single and double absquote \n",
    "print(\"Hello \\\"World\")"
   ]
  },
  {
   "cell_type": "code",
   "execution_count": 7,
   "id": "fef4576b",
   "metadata": {},
   "outputs": [
    {
     "name": "stdout",
     "output_type": "stream",
     "text": [
      "line /nHello\n"
     ]
    }
   ],
   "source": [
    "print(\"line /nHello\")"
   ]
  },
  {
   "cell_type": "code",
   "execution_count": 8,
   "id": "043683d4",
   "metadata": {},
   "outputs": [
    {
     "name": "stdout",
     "output_type": "stream",
     "text": [
      "hello /n Hello\n"
     ]
    }
   ],
   "source": [
    "print(\"hello /n Hello\")"
   ]
  },
  {
   "cell_type": "code",
   "execution_count": 13,
   "id": "a2dad312",
   "metadata": {},
   "outputs": [
    {
     "name": "stdout",
     "output_type": "stream",
     "text": [
      "hello \n",
      "hello\n"
     ]
    }
   ],
   "source": [
    "# new line\n",
    "print(\"hello \\nhello\")"
   ]
  },
  {
   "cell_type": "code",
   "execution_count": 11,
   "id": "b7104482",
   "metadata": {},
   "outputs": [
    {
     "name": "stdout",
     "output_type": "stream",
     "text": [
      "Name: \tAyush Gandhi\n",
      "Age: \t22\n"
     ]
    }
   ],
   "source": [
    "#tab function\n",
    "print(\"Name: \\tAyush Gandhi\")\n",
    "print(\"Age: \\t22\")"
   ]
  },
  {
   "cell_type": "code",
   "execution_count": 16,
   "id": "45ce58c1",
   "metadata": {},
   "outputs": [
    {
     "name": "stdout",
     "output_type": "stream",
     "text": [
      "Name: Ayush Gaa\bndhi\n"
     ]
    }
   ],
   "source": [
    "#backslsh\n",
    "print(\"Name: Ayush Gaa\\bndhi\")"
   ]
  },
  {
   "cell_type": "code",
   "execution_count": 17,
   "id": "13584746",
   "metadata": {},
   "outputs": [
    {
     "name": "stdout",
     "output_type": "stream",
     "text": [
      "\\\n"
     ]
    }
   ],
   "source": [
    "#print backslash\n",
    "print(\"\\\\\")"
   ]
  },
  {
   "cell_type": "code",
   "execution_count": 18,
   "id": "0934faea",
   "metadata": {},
   "outputs": [
    {
     "name": "stdout",
     "output_type": "stream",
     "text": [
      "\\\\\n"
     ]
    }
   ],
   "source": [
    "print(\"\\\\\\\\\")"
   ]
  },
  {
   "cell_type": "code",
   "execution_count": 19,
   "id": "00d60e76",
   "metadata": {},
   "outputs": [
    {
     "name": "stdout",
     "output_type": "stream",
     "text": [
      "line 1 \\n line2\n"
     ]
    }
   ],
   "source": [
    "#treating escape sequences as normal text\n",
    "print('line 1 \\\\n line2')"
   ]
  },
  {
   "cell_type": "code",
   "execution_count": 22,
   "id": "3ba869b3",
   "metadata": {},
   "outputs": [
    {
     "name": "stdout",
     "output_type": "stream",
     "text": [
      "\\'\\'\n"
     ]
    }
   ],
   "source": [
    "print(\"\\\\\\'\\\\\\'\")"
   ]
  },
  {
   "cell_type": "code",
   "execution_count": 23,
   "id": "a55056ba",
   "metadata": {},
   "outputs": [
    {
     "name": "stdout",
     "output_type": "stream",
     "text": [
      "\\'\\'\n"
     ]
    }
   ],
   "source": [
    "print(r\"\\'\\'\")"
   ]
  },
  {
   "cell_type": "code",
   "execution_count": 24,
   "id": "282af306",
   "metadata": {},
   "outputs": [
    {
     "name": "stdout",
     "output_type": "stream",
     "text": [
      "My name is 'Ayush' \n",
      "I am 24 years old \n",
      "I love the color 'Blue'\n"
     ]
    }
   ],
   "source": [
    "print(\"My name is 'Ayush' \\nI am 24 years old \\nI love the color 'Blue'\")"
   ]
  },
  {
   "cell_type": "code",
   "execution_count": null,
   "id": "069dc8b7",
   "metadata": {},
   "outputs": [],
   "source": []
  }
 ],
 "metadata": {
  "kernelspec": {
   "display_name": "Python 3 (ipykernel)",
   "language": "python",
   "name": "python3"
  },
  "language_info": {
   "codemirror_mode": {
    "name": "ipython",
    "version": 3
   },
   "file_extension": ".py",
   "mimetype": "text/x-python",
   "name": "python",
   "nbconvert_exporter": "python",
   "pygments_lexer": "ipython3",
   "version": "3.9.6"
  }
 },
 "nbformat": 4,
 "nbformat_minor": 5
}
