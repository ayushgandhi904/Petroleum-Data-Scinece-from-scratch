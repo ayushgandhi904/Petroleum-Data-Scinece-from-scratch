{
 "cells": [
  {
   "cell_type": "code",
   "execution_count": 7,
   "id": "223ede29",
   "metadata": {},
   "outputs": [
    {
     "name": "stdout",
     "output_type": "stream",
     "text": [
      "enter :40\n",
      "enter30\n",
      "enter:cased\n",
      "enter1, 2, 3\n"
     ]
    }
   ],
   "source": [
    "a = {}\n",
    "\n",
    "water_cut = input(\"enter :\")\n",
    "api_oil = input(\"enter\")\n",
    "c_type = input(\"enter:\")\n",
    "z1, z2, z3 = input(\"enter\").split(',')\n"
   ]
  },
  {
   "cell_type": "code",
   "execution_count": 8,
   "id": "fcf88803",
   "metadata": {},
   "outputs": [],
   "source": [
    "a[\"water_cut\"] = water_cut\n"
   ]
  },
  {
   "cell_type": "code",
   "execution_count": 10,
   "id": "11b28fa0",
   "metadata": {},
   "outputs": [],
   "source": [
    "a[\"api_oil\"] = api_oil"
   ]
  },
  {
   "cell_type": "code",
   "execution_count": 11,
   "id": "1bed2ddc",
   "metadata": {},
   "outputs": [
    {
     "data": {
      "text/plain": [
       "{'water_cut': '40', 'api_oil': '30'}"
      ]
     },
     "execution_count": 11,
     "metadata": {},
     "output_type": "execute_result"
    }
   ],
   "source": [
    "a"
   ]
  },
  {
   "cell_type": "code",
   "execution_count": null,
   "id": "d0da8410",
   "metadata": {},
   "outputs": [],
   "source": []
  }
 ],
 "metadata": {
  "kernelspec": {
   "display_name": "Python 3 (ipykernel)",
   "language": "python",
   "name": "python3"
  },
  "language_info": {
   "codemirror_mode": {
    "name": "ipython",
    "version": 3
   },
   "file_extension": ".py",
   "mimetype": "text/x-python",
   "name": "python",
   "nbconvert_exporter": "python",
   "pygments_lexer": "ipython3",
   "version": "3.9.6"
  }
 },
 "nbformat": 4,
 "nbformat_minor": 5
}
