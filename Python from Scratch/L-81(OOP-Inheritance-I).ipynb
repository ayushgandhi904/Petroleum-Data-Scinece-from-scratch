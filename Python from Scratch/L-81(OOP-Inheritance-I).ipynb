{
 "cells": [
  {
   "cell_type": "code",
   "execution_count": 10,
   "id": "1b68c3a9",
   "metadata": {},
   "outputs": [],
   "source": [
    "class Reservoir:\n",
    "    def __init__(self, per, por, location):\n",
    "        self.per = per\n",
    "        self.por = por\n",
    "        self.location = location\n",
    "        \n",
    "    def describe(self):\n",
    "        return (f\"The reseroir porosity is {self.por} and reservoir permeability is {self.perm}\")\n",
    "    def locations(self):\n",
    "        return (f\"The field is located in {self.location}\")"
   ]
  },
  {
   "cell_type": "code",
   "execution_count": 11,
   "id": "93c2b533",
   "metadata": {},
   "outputs": [],
   "source": [
    "res_a = Reservoir(35, 0.24, \"Rajasthan\")"
   ]
  },
  {
   "cell_type": "code",
   "execution_count": 13,
   "id": "f3b75b46",
   "metadata": {},
   "outputs": [
    {
     "data": {
      "text/plain": [
       "'The field is located in Rajasthan'"
      ]
     },
     "execution_count": 13,
     "metadata": {},
     "output_type": "execute_result"
    }
   ],
   "source": [
    "res_a.locations()"
   ]
  },
  {
   "cell_type": "code",
   "execution_count": 14,
   "id": "5ed20f7b",
   "metadata": {},
   "outputs": [],
   "source": [
    "class Tight_reservoir:\n",
    "    def __init__(self, per, por, location, stimulation):\n",
    "        self.per = per\n",
    "        self.por = por\n",
    "        self.location = location\n",
    "        self.sti = stimulation\n",
    "    def describe(self):\n",
    "        return (f\"The reseroir porosity is {self.por} and reservoir permeability is {self.perm}\")\n",
    "    def locations(self):\n",
    "        return (f\"The field is located in {self.location}\")\n",
    "    "
   ]
  },
  {
   "cell_type": "code",
   "execution_count": 15,
   "id": "8fa78014",
   "metadata": {},
   "outputs": [],
   "source": [
    "res_b = Tight_reservoir(0.2, 25, \"AP\", \"HF\")"
   ]
  },
  {
   "cell_type": "code",
   "execution_count": 16,
   "id": "828dd0ad",
   "metadata": {},
   "outputs": [
    {
     "data": {
      "text/plain": [
       "'HF'"
      ]
     },
     "execution_count": 16,
     "metadata": {},
     "output_type": "execute_result"
    }
   ],
   "source": [
    "res_b.sti"
   ]
  },
  {
   "cell_type": "code",
   "execution_count": 17,
   "id": "ab137215",
   "metadata": {},
   "outputs": [
    {
     "data": {
      "text/plain": [
       "'The field is located in AP'"
      ]
     },
     "execution_count": 17,
     "metadata": {},
     "output_type": "execute_result"
    }
   ],
   "source": [
    "res_b.locations()"
   ]
  },
  {
   "cell_type": "code",
   "execution_count": null,
   "id": "2d31861f",
   "metadata": {},
   "outputs": [],
   "source": []
  }
 ],
 "metadata": {
  "kernelspec": {
   "display_name": "Python 3 (ipykernel)",
   "language": "python",
   "name": "python3"
  },
  "language_info": {
   "codemirror_mode": {
    "name": "ipython",
    "version": 3
   },
   "file_extension": ".py",
   "mimetype": "text/x-python",
   "name": "python",
   "nbconvert_exporter": "python",
   "pygments_lexer": "ipython3",
   "version": "3.9.6"
  }
 },
 "nbformat": 4,
 "nbformat_minor": 5
}
