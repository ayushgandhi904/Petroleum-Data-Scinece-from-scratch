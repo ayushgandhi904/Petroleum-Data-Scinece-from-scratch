{
 "cells": [
  {
   "cell_type": "code",
   "execution_count": 1,
   "id": "00a1c1cd",
   "metadata": {},
   "outputs": [],
   "source": [
    "class Well:\n",
    "    \n",
    "    mw = 12\n",
    "    \n",
    "    def __init__(self, comp, zones, depth):\n",
    "        \n",
    "        self._comp = comp\n",
    "        self.zones = zones\n",
    "        self.depth = depth\n",
    "        \n",
    "    def pres(self):\n",
    "        \n",
    "        return(0.052*(Well.mw)*(self.depth))\n",
    "        "
   ]
  },
  {
   "cell_type": "code",
   "execution_count": 2,
   "id": "5faff6a6",
   "metadata": {},
   "outputs": [],
   "source": [
    "x = Well(\"open\", 2, 3522)"
   ]
  },
  {
   "cell_type": "code",
   "execution_count": 3,
   "id": "09a7a746",
   "metadata": {},
   "outputs": [
    {
     "data": {
      "text/plain": [
       "'open'"
      ]
     },
     "execution_count": 3,
     "metadata": {},
     "output_type": "execute_result"
    }
   ],
   "source": [
    "x._comp"
   ]
  },
  {
   "cell_type": "code",
   "execution_count": 5,
   "id": "762704a5",
   "metadata": {},
   "outputs": [],
   "source": [
    "# \"_\" -----> to show up it is private property, dont change the code"
   ]
  },
  {
   "cell_type": "code",
   "execution_count": null,
   "id": "5b106060",
   "metadata": {},
   "outputs": [],
   "source": []
  }
 ],
 "metadata": {
  "kernelspec": {
   "display_name": "Python 3 (ipykernel)",
   "language": "python",
   "name": "python3"
  },
  "language_info": {
   "codemirror_mode": {
    "name": "ipython",
    "version": 3
   },
   "file_extension": ".py",
   "mimetype": "text/x-python",
   "name": "python",
   "nbconvert_exporter": "python",
   "pygments_lexer": "ipython3",
   "version": "3.9.6"
  }
 },
 "nbformat": 4,
 "nbformat_minor": 5
}
