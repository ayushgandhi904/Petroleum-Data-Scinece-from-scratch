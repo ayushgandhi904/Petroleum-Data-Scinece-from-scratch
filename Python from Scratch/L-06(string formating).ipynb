{
 "cells": [
  {
   "cell_type": "code",
   "execution_count": 1,
   "id": "bfd8aabe",
   "metadata": {},
   "outputs": [],
   "source": [
    "field = \"KG Basin\"\n",
    "pressure = 500 "
   ]
  },
  {
   "cell_type": "code",
   "execution_count": 4,
   "id": "4a725516",
   "metadata": {},
   "outputs": [
    {
     "name": "stdout",
     "output_type": "stream",
     "text": [
      "reservoir pressure is 500 psi\n"
     ]
    }
   ],
   "source": [
    "print(\"reservoir pressure is\" + \" \"+ str(pressure) + ' ' + 'psi')"
   ]
  },
  {
   "cell_type": "code",
   "execution_count": 5,
   "id": "37d8f27a",
   "metadata": {},
   "outputs": [
    {
     "name": "stdout",
     "output_type": "stream",
     "text": [
      "reservoir pressure is 500 psi\n"
     ]
    }
   ],
   "source": [
    "print(\"reservoir pressure is {} psi\".format(pressure))"
   ]
  },
  {
   "cell_type": "code",
   "execution_count": 8,
   "id": "30fef7a0",
   "metadata": {},
   "outputs": [
    {
     "name": "stdout",
     "output_type": "stream",
     "text": [
      "reservoir pressure is 500 psi\n"
     ]
    }
   ],
   "source": [
    "print(f'reservoir pressure is {pressure} psi')"
   ]
  },
  {
   "cell_type": "code",
   "execution_count": 9,
   "id": "95d27411",
   "metadata": {},
   "outputs": [
    {
     "name": "stdout",
     "output_type": "stream",
     "text": [
      "reservoir pressure in KG Basin is 500 psi\n"
     ]
    }
   ],
   "source": [
    "print('reservoir pressure in {} is {} psi'.format(field, pressure))"
   ]
  },
  {
   "cell_type": "code",
   "execution_count": 12,
   "id": "50724820",
   "metadata": {},
   "outputs": [
    {
     "name": "stdout",
     "output_type": "stream",
     "text": [
      "reservoir pressure in KG Basin is 500 psi\n"
     ]
    }
   ],
   "source": [
    "print(f'reservoir pressure in {field} is {pressure} psi')"
   ]
  },
  {
   "cell_type": "code",
   "execution_count": 14,
   "id": "fcecc87e",
   "metadata": {},
   "outputs": [
    {
     "name": "stdout",
     "output_type": "stream",
     "text": [
      "reservoir pressure in KG Basin is 550 psi\n"
     ]
    }
   ],
   "source": [
    "#changing pressure\n",
    "print('reservoir pressure in {} is {} psi'.format(field, pressure + 50))"
   ]
  },
  {
   "cell_type": "code",
   "execution_count": 15,
   "id": "c947c710",
   "metadata": {},
   "outputs": [
    {
     "name": "stdout",
     "output_type": "stream",
     "text": [
      "reservoir pressure in KG Basin is 550 psi\n"
     ]
    }
   ],
   "source": [
    "print(f'reservoir pressure in {field} is {pressure + 50} psi')"
   ]
  },
  {
   "cell_type": "code",
   "execution_count": 17,
   "id": "236568e8",
   "metadata": {},
   "outputs": [],
   "source": [
    "#multiple variables in a single line\n",
    "\n",
    "name, age = \"ayush\", 22"
   ]
  },
  {
   "cell_type": "code",
   "execution_count": 18,
   "id": "420de803",
   "metadata": {},
   "outputs": [
    {
     "ename": "SyntaxError",
     "evalue": "unexpected EOF while parsing (Temp/ipykernel_12160/873105590.py, line 1)",
     "output_type": "error",
     "traceback": [
      "\u001b[1;36m  File \u001b[1;32m\"C:\\Users\\Dell\\AppData\\Local\\Temp/ipykernel_12160/873105590.py\"\u001b[1;36m, line \u001b[1;32m1\u001b[0m\n\u001b[1;33m    print(\"reservoir pressure of {field_name} is {pressure}\".format(pressure = pressure, field_name = field)\u001b[0m\n\u001b[1;37m                                                                                                            ^\u001b[0m\n\u001b[1;31mSyntaxError\u001b[0m\u001b[1;31m:\u001b[0m unexpected EOF while parsing\n"
     ]
    }
   ],
   "source": [
    "print(\"reservoir pressure of {field_name} is {pressure}\".format(pressure = pressure, field_name = field)"
   ]
  },
  {
   "cell_type": "code",
   "execution_count": null,
   "id": "15852d8b",
   "metadata": {},
   "outputs": [],
   "source": []
  }
 ],
 "metadata": {
  "kernelspec": {
   "display_name": "Python 3 (ipykernel)",
   "language": "python",
   "name": "python3"
  },
  "language_info": {
   "codemirror_mode": {
    "name": "ipython",
    "version": 3
   },
   "file_extension": ".py",
   "mimetype": "text/x-python",
   "name": "python",
   "nbconvert_exporter": "python",
   "pygments_lexer": "ipython3",
   "version": "3.9.6"
  }
 },
 "nbformat": 4,
 "nbformat_minor": 5
}
