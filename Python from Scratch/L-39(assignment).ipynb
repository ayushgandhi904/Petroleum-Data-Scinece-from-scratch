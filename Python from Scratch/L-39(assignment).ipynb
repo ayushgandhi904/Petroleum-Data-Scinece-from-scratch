{
 "cells": [
  {
   "cell_type": "code",
   "execution_count": 5,
   "id": "e8858af6",
   "metadata": {},
   "outputs": [],
   "source": [
    "s_w = list(range(5, 35, 5))"
   ]
  },
  {
   "cell_type": "code",
   "execution_count": 12,
   "id": "0569ef23",
   "metadata": {},
   "outputs": [],
   "source": [
    "def s_o(a):\n",
    "    b = []\n",
    "    for i in a:\n",
    "        b.append(1-0.1-(i/100))\n",
    "    return b"
   ]
  },
  {
   "cell_type": "code",
   "execution_count": 13,
   "id": "0502dfbc",
   "metadata": {},
   "outputs": [
    {
     "data": {
      "text/plain": [
       "[0.85, 0.8, 0.75, 0.7, 0.65, 0.6000000000000001]"
      ]
     },
     "execution_count": 13,
     "metadata": {},
     "output_type": "execute_result"
    }
   ],
   "source": [
    "s_o(s_w)"
   ]
  },
  {
   "cell_type": "code",
   "execution_count": null,
   "id": "2c46ce36",
   "metadata": {},
   "outputs": [],
   "source": []
  }
 ],
 "metadata": {
  "kernelspec": {
   "display_name": "Python 3 (ipykernel)",
   "language": "python",
   "name": "python3"
  },
  "language_info": {
   "codemirror_mode": {
    "name": "ipython",
    "version": 3
   },
   "file_extension": ".py",
   "mimetype": "text/x-python",
   "name": "python",
   "nbconvert_exporter": "python",
   "pygments_lexer": "ipython3",
   "version": "3.9.6"
  }
 },
 "nbformat": 4,
 "nbformat_minor": 5
}
