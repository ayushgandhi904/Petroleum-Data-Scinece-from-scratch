{
 "cells": [
  {
   "cell_type": "code",
   "execution_count": 1,
   "id": "4794c903",
   "metadata": {},
   "outputs": [],
   "source": [
    "pfs = \"Petroleum from scrath\""
   ]
  },
  {
   "cell_type": "code",
   "execution_count": 2,
   "id": "ea4d465c",
   "metadata": {},
   "outputs": [
    {
     "name": "stdout",
     "output_type": "stream",
     "text": [
      "Petroleum From Scrath\n"
     ]
    }
   ],
   "source": [
    "print(pfs.title())"
   ]
  },
  {
   "cell_type": "code",
   "execution_count": 3,
   "id": "8b1c560f",
   "metadata": {},
   "outputs": [
    {
     "data": {
      "text/plain": [
       "15"
      ]
     },
     "execution_count": 3,
     "metadata": {},
     "output_type": "execute_result"
    }
   ],
   "source": [
    "pfs.find(\"s\")"
   ]
  },
  {
   "cell_type": "code",
   "execution_count": 4,
   "id": "2153c255",
   "metadata": {},
   "outputs": [
    {
     "data": {
      "text/plain": [
       "'Petroleum From scrath'"
      ]
     },
     "execution_count": 4,
     "metadata": {},
     "output_type": "execute_result"
    }
   ],
   "source": [
    "pfs.replace(\"f\", \"F\")"
   ]
  },
  {
   "cell_type": "code",
   "execution_count": null,
   "id": "98e3b7f4",
   "metadata": {},
   "outputs": [],
   "source": []
  }
 ],
 "metadata": {
  "kernelspec": {
   "display_name": "Python 3 (ipykernel)",
   "language": "python",
   "name": "python3"
  },
  "language_info": {
   "codemirror_mode": {
    "name": "ipython",
    "version": 3
   },
   "file_extension": ".py",
   "mimetype": "text/x-python",
   "name": "python",
   "nbconvert_exporter": "python",
   "pygments_lexer": "ipython3",
   "version": "3.9.6"
  }
 },
 "nbformat": 4,
 "nbformat_minor": 5
}
