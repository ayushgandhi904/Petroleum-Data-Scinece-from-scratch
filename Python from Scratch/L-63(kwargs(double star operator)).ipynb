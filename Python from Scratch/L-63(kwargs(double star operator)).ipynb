{
 "cells": [
  {
   "cell_type": "code",
   "execution_count": 1,
   "id": "ff52e0e7",
   "metadata": {},
   "outputs": [
    {
     "data": {
      "text/plain": [
       "{'one': 1, 'two': 2, 'three': 3, 'four': 4}"
      ]
     },
     "execution_count": 1,
     "metadata": {},
     "output_type": "execute_result"
    }
   ],
   "source": [
    "def fun(**kwargs):\n",
    "    return kwargs\n",
    "\n",
    "fun(one = 1, two = 2, three = 3, four = 4)"
   ]
  },
  {
   "cell_type": "code",
   "execution_count": 4,
   "id": "f90c00fa",
   "metadata": {},
   "outputs": [],
   "source": [
    "# create a function using while loop\n",
    "def func(**a):\n",
    "    for i, j in a.items():\n",
    "        print(f\"{i}:{j}\")"
   ]
  },
  {
   "cell_type": "code",
   "execution_count": 5,
   "id": "7f93e694",
   "metadata": {},
   "outputs": [
    {
     "name": "stdout",
     "output_type": "stream",
     "text": [
      "por:0.15\n",
      "per:25\n",
      "depth:3500\n"
     ]
    }
   ],
   "source": [
    "x = func(por = 0.15, per = 25, depth = 3500)"
   ]
  },
  {
   "cell_type": "code",
   "execution_count": 7,
   "id": "8afc69a4",
   "metadata": {},
   "outputs": [],
   "source": [
    "def fu(a, **y):\n",
    "    print(a)\n",
    "    print(y)"
   ]
  },
  {
   "cell_type": "code",
   "execution_count": 9,
   "id": "e515165b",
   "metadata": {},
   "outputs": [
    {
     "name": "stdout",
     "output_type": "stream",
     "text": [
      "hello\n",
      "{'por': 0.15}\n"
     ]
    }
   ],
   "source": [
    "fu(\"hello\", por = 0.15)"
   ]
  },
  {
   "cell_type": "code",
   "execution_count": null,
   "id": "1b62b29a",
   "metadata": {},
   "outputs": [],
   "source": []
  }
 ],
 "metadata": {
  "kernelspec": {
   "display_name": "Python 3 (ipykernel)",
   "language": "python",
   "name": "python3"
  },
  "language_info": {
   "codemirror_mode": {
    "name": "ipython",
    "version": 3
   },
   "file_extension": ".py",
   "mimetype": "text/x-python",
   "name": "python",
   "nbconvert_exporter": "python",
   "pygments_lexer": "ipython3",
   "version": "3.9.6"
  }
 },
 "nbformat": 4,
 "nbformat_minor": 5
}
