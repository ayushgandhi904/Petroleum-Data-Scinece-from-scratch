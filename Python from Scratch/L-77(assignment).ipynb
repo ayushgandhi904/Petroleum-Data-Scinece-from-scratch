{
 "cells": [
  {
   "cell_type": "code",
   "execution_count": 15,
   "id": "11e1d4e9",
   "metadata": {},
   "outputs": [],
   "source": [
    "class Score:\n",
    "    \n",
    "    def __init__(self, reservoir_score, drilling_score, production_score):\n",
    "        \n",
    "        self.res = reservoir_score \n",
    "        self.dri = drilling_score \n",
    "        self.pro = production_score\n",
    "        \n",
    "    def average(self):\n",
    "        return (print(f\"The average score is {(self.res+self.dri+self.pro)/3}\"))\n",
    "    \n",
    "    def maximum(self):\n",
    "        return (print(f\"The maimum score is {max(self.res, self.dri, self.pro)}\"))"
   ]
  },
  {
   "cell_type": "code",
   "execution_count": 16,
   "id": "733cc3f2",
   "metadata": {},
   "outputs": [],
   "source": [
    "a = Score(235, 352, 212)"
   ]
  },
  {
   "cell_type": "code",
   "execution_count": 17,
   "id": "bbdd4494",
   "metadata": {},
   "outputs": [
    {
     "data": {
      "text/plain": [
       "235"
      ]
     },
     "execution_count": 17,
     "metadata": {},
     "output_type": "execute_result"
    }
   ],
   "source": [
    "a.res"
   ]
  },
  {
   "cell_type": "code",
   "execution_count": 18,
   "id": "a76b048a",
   "metadata": {},
   "outputs": [
    {
     "name": "stdout",
     "output_type": "stream",
     "text": [
      "The average score is 266.3333333333333\n"
     ]
    }
   ],
   "source": [
    "Score.average(a)"
   ]
  },
  {
   "cell_type": "code",
   "execution_count": 19,
   "id": "1d1db1d3",
   "metadata": {},
   "outputs": [
    {
     "name": "stdout",
     "output_type": "stream",
     "text": [
      "The maimum score is 352\n"
     ]
    }
   ],
   "source": [
    "Score.maximum(a)"
   ]
  },
  {
   "cell_type": "code",
   "execution_count": 20,
   "id": "45da2ea3",
   "metadata": {},
   "outputs": [
    {
     "name": "stdout",
     "output_type": "stream",
     "text": [
      "The maimum score is 352\n"
     ]
    }
   ],
   "source": [
    "a.maximum()"
   ]
  },
  {
   "cell_type": "code",
   "execution_count": null,
   "id": "4b0ce8f0",
   "metadata": {},
   "outputs": [],
   "source": []
  },
  {
   "cell_type": "code",
   "execution_count": null,
   "id": "9d2ef774",
   "metadata": {},
   "outputs": [],
   "source": []
  }
 ],
 "metadata": {
  "kernelspec": {
   "display_name": "Python 3 (ipykernel)",
   "language": "python",
   "name": "python3"
  },
  "language_info": {
   "codemirror_mode": {
    "name": "ipython",
    "version": 3
   },
   "file_extension": ".py",
   "mimetype": "text/x-python",
   "name": "python",
   "nbconvert_exporter": "python",
   "pygments_lexer": "ipython3",
   "version": "3.9.6"
  }
 },
 "nbformat": 4,
 "nbformat_minor": 5
}
