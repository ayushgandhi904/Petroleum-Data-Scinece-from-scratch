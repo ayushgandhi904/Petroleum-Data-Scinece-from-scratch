{
 "cells": [
  {
   "cell_type": "code",
   "execution_count": 1,
   "id": "519a06ad",
   "metadata": {},
   "outputs": [],
   "source": [
    "def addition(*args):\n",
    "    total = 0\n",
    "    for i in args:\n",
    "        total += i\n",
    "    return total"
   ]
  },
  {
   "cell_type": "code",
   "execution_count": 2,
   "id": "328751fa",
   "metadata": {},
   "outputs": [
    {
     "data": {
      "text/plain": [
       "7"
      ]
     },
     "execution_count": 2,
     "metadata": {},
     "output_type": "execute_result"
    }
   ],
   "source": [
    "addition(1, 5, 1)"
   ]
  },
  {
   "cell_type": "code",
   "execution_count": 5,
   "id": "917baa97",
   "metadata": {},
   "outputs": [],
   "source": [
    "def mul(*args):\n",
    "    total = 1\n",
    "    for i in args:\n",
    "        total *= i\n",
    "    return total"
   ]
  },
  {
   "cell_type": "code",
   "execution_count": 6,
   "id": "b5d40a62",
   "metadata": {},
   "outputs": [
    {
     "data": {
      "text/plain": [
       "600"
      ]
     },
     "execution_count": 6,
     "metadata": {},
     "output_type": "execute_result"
    }
   ],
   "source": [
    "mul(12, 25, 2)"
   ]
  },
  {
   "cell_type": "code",
   "execution_count": 9,
   "id": "27f5d5c2",
   "metadata": {},
   "outputs": [],
   "source": [
    "#for strings or set \n",
    "def mul(*args):\n",
    "    total = []\n",
    "    for i in args:\n",
    "        total += i\n",
    "    return total"
   ]
  },
  {
   "cell_type": "code",
   "execution_count": 10,
   "id": "27abe871",
   "metadata": {},
   "outputs": [
    {
     "data": {
      "text/plain": [
       "[1, 2, 3, 2, 32, 1]"
      ]
     },
     "execution_count": 10,
     "metadata": {},
     "output_type": "execute_result"
    }
   ],
   "source": [
    "mul([1, 2, 3], [2, 32, 1])"
   ]
  },
  {
   "cell_type": "code",
   "execution_count": null,
   "id": "4c7bd0e0",
   "metadata": {},
   "outputs": [],
   "source": [
    "def mul(*args):\n",
    "    total = []\n",
    "    for i in args:\n",
    "        total += i\n",
    "    return total"
   ]
  }
 ],
 "metadata": {
  "kernelspec": {
   "display_name": "Python 3 (ipykernel)",
   "language": "python",
   "name": "python3"
  },
  "language_info": {
   "codemirror_mode": {
    "name": "ipython",
    "version": 3
   },
   "file_extension": ".py",
   "mimetype": "text/x-python",
   "name": "python",
   "nbconvert_exporter": "python",
   "pygments_lexer": "ipython3",
   "version": "3.9.6"
  }
 },
 "nbformat": 4,
 "nbformat_minor": 5
}
