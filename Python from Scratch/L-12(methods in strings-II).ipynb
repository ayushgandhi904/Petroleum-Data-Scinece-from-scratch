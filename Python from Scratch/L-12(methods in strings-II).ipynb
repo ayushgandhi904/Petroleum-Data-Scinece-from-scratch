{
 "cells": [
  {
   "cell_type": "code",
   "execution_count": 14,
   "id": "22f44449",
   "metadata": {},
   "outputs": [
    {
     "name": "stdout",
     "output_type": "stream",
     "text": [
      "what is your favourite subject         Drilling\n"
     ]
    }
   ],
   "source": [
    "fav_sub = input(\"what is your favourite subject\")"
   ]
  },
  {
   "cell_type": "code",
   "execution_count": 15,
   "id": "be37329d",
   "metadata": {},
   "outputs": [
    {
     "name": "stdout",
     "output_type": "stream",
     "text": [
      "         Drilling\n"
     ]
    }
   ],
   "source": [
    "print(fav_sub)"
   ]
  },
  {
   "cell_type": "code",
   "execution_count": 16,
   "id": "59ad4f2c",
   "metadata": {},
   "outputs": [
    {
     "data": {
      "text/plain": [
       "'Drilling'"
      ]
     },
     "execution_count": 16,
     "metadata": {},
     "output_type": "execute_result"
    }
   ],
   "source": [
    "#lstrip\n",
    "fav_sub.lstrip()"
   ]
  },
  {
   "cell_type": "code",
   "execution_count": 17,
   "id": "a6dda386",
   "metadata": {},
   "outputs": [
    {
     "name": "stdout",
     "output_type": "stream",
     "text": [
      "         Drilling\n"
     ]
    }
   ],
   "source": [
    "print(fav_sub)"
   ]
  },
  {
   "cell_type": "code",
   "execution_count": 18,
   "id": "5e30f326",
   "metadata": {},
   "outputs": [],
   "source": [
    "var = '///---var---python'"
   ]
  },
  {
   "cell_type": "code",
   "execution_count": 21,
   "id": "fdf60493",
   "metadata": {},
   "outputs": [
    {
     "data": {
      "text/plain": [
       "'python'"
      ]
     },
     "execution_count": 21,
     "metadata": {},
     "output_type": "execute_result"
    }
   ],
   "source": [
    "var.lstrip('/-var')"
   ]
  },
  {
   "cell_type": "code",
   "execution_count": 22,
   "id": "c1037076",
   "metadata": {},
   "outputs": [
    {
     "name": "stdout",
     "output_type": "stream",
     "text": [
      "///---var---python\n"
     ]
    }
   ],
   "source": [
    "print(var)"
   ]
  },
  {
   "cell_type": "code",
   "execution_count": 25,
   "id": "c0eec06a",
   "metadata": {},
   "outputs": [
    {
     "data": {
      "text/plain": [
       "'PYTHON'"
      ]
     },
     "execution_count": 25,
     "metadata": {},
     "output_type": "execute_result"
    }
   ],
   "source": [
    "var.lstrip('/-var').upper()"
   ]
  },
  {
   "cell_type": "code",
   "execution_count": 31,
   "id": "eed5969d",
   "metadata": {},
   "outputs": [],
   "source": [
    "additive = \"Bentonite is used to increase the density of drilling mud\""
   ]
  },
  {
   "cell_type": "code",
   "execution_count": 32,
   "id": "30c9df9e",
   "metadata": {},
   "outputs": [
    {
     "data": {
      "text/plain": [
       "'Barite is used to increase the density of drilling mud'"
      ]
     },
     "execution_count": 32,
     "metadata": {},
     "output_type": "execute_result"
    }
   ],
   "source": [
    "additive.replace(\"Bentonite\", \"Barite\")"
   ]
  },
  {
   "cell_type": "code",
   "execution_count": 33,
   "id": "c901c8d3",
   "metadata": {},
   "outputs": [
    {
     "name": "stdout",
     "output_type": "stream",
     "text": [
      "Bentonite is used to increase the density of drilling mud\n"
     ]
    }
   ],
   "source": [
    "print(additive)"
   ]
  },
  {
   "cell_type": "code",
   "execution_count": 34,
   "id": "a91d1a9b",
   "metadata": {},
   "outputs": [],
   "source": [
    "additive_2 = additive.replace(\"Bentonite\", \"Barite\")"
   ]
  },
  {
   "cell_type": "code",
   "execution_count": 35,
   "id": "edffa03c",
   "metadata": {},
   "outputs": [
    {
     "name": "stdout",
     "output_type": "stream",
     "text": [
      "Barite is used to increase the density of drilling mud\n"
     ]
    }
   ],
   "source": [
    "print(additive_2)"
   ]
  },
  {
   "cell_type": "code",
   "execution_count": 36,
   "id": "08a3432d",
   "metadata": {},
   "outputs": [
    {
     "data": {
      "text/plain": [
       "'Barite is used to increase the density of drilling fluid'"
      ]
     },
     "execution_count": 36,
     "metadata": {},
     "output_type": "execute_result"
    }
   ],
   "source": [
    "additive_2.replace(\"mud\", \"fluid\")"
   ]
  },
  {
   "cell_type": "code",
   "execution_count": 37,
   "id": "fb21b2e6",
   "metadata": {},
   "outputs": [],
   "source": [
    "drill_mud = \"Drilling mud is used to lubricate the bit. This mud also helps us to achieve pressure overbalance. Drill mud also helps in lifiting drill cuttings.\""
   ]
  },
  {
   "cell_type": "code",
   "execution_count": 38,
   "id": "cecbbf42",
   "metadata": {},
   "outputs": [
    {
     "data": {
      "text/plain": [
       "'Drilling fluid is used to lubricate the bit. This fluid also helps us to achieve pressure overbalance. Drill fluid also helps in lifiting drill cuttings.'"
      ]
     },
     "execution_count": 38,
     "metadata": {},
     "output_type": "execute_result"
    }
   ],
   "source": [
    "drill_mud.replace(\"mud\", \"fluid\")"
   ]
  },
  {
   "cell_type": "code",
   "execution_count": 39,
   "id": "61b74140",
   "metadata": {},
   "outputs": [
    {
     "data": {
      "text/plain": [
       "'Drilling fluid is used to lubricate the bit. This mud also helps us to achieve pressure overbalance. Drill mud also helps in lifiting drill cuttings.'"
      ]
     },
     "execution_count": 39,
     "metadata": {},
     "output_type": "execute_result"
    }
   ],
   "source": [
    "#to replace only 1\n",
    "drill_mud.replace(\"mud\", \"fluid\", 1)"
   ]
  },
  {
   "cell_type": "code",
   "execution_count": 40,
   "id": "f99ff419",
   "metadata": {},
   "outputs": [
    {
     "name": "stdout",
     "output_type": "stream",
     "text": [
      "Drilling mud is used to lubricate the bit. This mud also helps us to achieve pressure overbalance. Drill mud also helps in lifiting drill cuttings.\n"
     ]
    }
   ],
   "source": [
    "#find method \n",
    "\n",
    "print(drill_mud)"
   ]
  },
  {
   "cell_type": "code",
   "execution_count": 41,
   "id": "9595c310",
   "metadata": {},
   "outputs": [
    {
     "data": {
      "text/plain": [
       "9"
      ]
     },
     "execution_count": 41,
     "metadata": {},
     "output_type": "execute_result"
    }
   ],
   "source": [
    "drill_mud.find(\"mud\")"
   ]
  },
  {
   "cell_type": "code",
   "execution_count": 42,
   "id": "be4ed7f0",
   "metadata": {},
   "outputs": [
    {
     "data": {
      "text/plain": [
       "9"
      ]
     },
     "execution_count": 42,
     "metadata": {},
     "output_type": "execute_result"
    }
   ],
   "source": [
    "drill_mud.find(\"mud\", 0)"
   ]
  },
  {
   "cell_type": "code",
   "execution_count": 44,
   "id": "263726ec",
   "metadata": {},
   "outputs": [
    {
     "data": {
      "text/plain": [
       "48"
      ]
     },
     "execution_count": 44,
     "metadata": {},
     "output_type": "execute_result"
    }
   ],
   "source": [
    "drill_mud.find(\"mud\", 10)"
   ]
  },
  {
   "cell_type": "code",
   "execution_count": null,
   "id": "f0d633b5",
   "metadata": {},
   "outputs": [],
   "source": [
    "drill_mud.find(\"\")"
   ]
  }
 ],
 "metadata": {
  "kernelspec": {
   "display_name": "Python 3 (ipykernel)",
   "language": "python",
   "name": "python3"
  },
  "language_info": {
   "codemirror_mode": {
    "name": "ipython",
    "version": 3
   },
   "file_extension": ".py",
   "mimetype": "text/x-python",
   "name": "python",
   "nbconvert_exporter": "python",
   "pygments_lexer": "ipython3",
   "version": "3.9.6"
  }
 },
 "nbformat": 4,
 "nbformat_minor": 5
}
