{
 "cells": [
  {
   "cell_type": "code",
   "execution_count": 1,
   "id": "ebaad16f",
   "metadata": {},
   "outputs": [],
   "source": [
    "t1 = (\"Ayush\", 2, 2.3, \"hey\")"
   ]
  },
  {
   "cell_type": "code",
   "execution_count": 2,
   "id": "3f67977e",
   "metadata": {},
   "outputs": [],
   "source": [
    "t2 = \"hello\", 2, 1"
   ]
  },
  {
   "cell_type": "code",
   "execution_count": 3,
   "id": "befbab54",
   "metadata": {},
   "outputs": [
    {
     "data": {
      "text/plain": [
       "tuple"
      ]
     },
     "execution_count": 3,
     "metadata": {},
     "output_type": "execute_result"
    }
   ],
   "source": [
    "type(t2)"
   ]
  },
  {
   "cell_type": "code",
   "execution_count": 4,
   "id": "c78e9417",
   "metadata": {},
   "outputs": [],
   "source": [
    "x1, x2, x3, x4 = t1"
   ]
  },
  {
   "cell_type": "code",
   "execution_count": 5,
   "id": "c1fe6fd2",
   "metadata": {},
   "outputs": [
    {
     "name": "stdout",
     "output_type": "stream",
     "text": [
      "Ayush hey\n"
     ]
    }
   ],
   "source": [
    "print(x1, x4)"
   ]
  },
  {
   "cell_type": "code",
   "execution_count": 7,
   "id": "b725cb54",
   "metadata": {},
   "outputs": [],
   "source": [
    "#list \n",
    "\n",
    "y = [1, \"True\", \"Levo\"]\n",
    "\n",
    "d1, d2, d3 = y"
   ]
  },
  {
   "cell_type": "code",
   "execution_count": 8,
   "id": "1f06b700",
   "metadata": {},
   "outputs": [
    {
     "name": "stdout",
     "output_type": "stream",
     "text": [
      "True\n"
     ]
    }
   ],
   "source": [
    "print(d2)"
   ]
  },
  {
   "cell_type": "code",
   "execution_count": 9,
   "id": "95436951",
   "metadata": {},
   "outputs": [],
   "source": [
    "# list inside tuple\n",
    "random = 2.3, \"Ayush\", \"Gandhi\", [1, 2, 4, True]"
   ]
  },
  {
   "cell_type": "code",
   "execution_count": 10,
   "id": "b6fd318a",
   "metadata": {},
   "outputs": [
    {
     "data": {
      "text/plain": [
       "4"
      ]
     },
     "execution_count": 10,
     "metadata": {},
     "output_type": "execute_result"
    }
   ],
   "source": [
    "len(random)"
   ]
  },
  {
   "cell_type": "code",
   "execution_count": 11,
   "id": "95126bb6",
   "metadata": {},
   "outputs": [
    {
     "data": {
      "text/plain": [
       "[1, 2, 4, True]"
      ]
     },
     "execution_count": 11,
     "metadata": {},
     "output_type": "execute_result"
    }
   ],
   "source": [
    "random[3]"
   ]
  },
  {
   "cell_type": "code",
   "execution_count": 12,
   "id": "551d7474",
   "metadata": {},
   "outputs": [
    {
     "data": {
      "text/plain": [
       "True"
      ]
     },
     "execution_count": 12,
     "metadata": {},
     "output_type": "execute_result"
    }
   ],
   "source": [
    "random[3].pop()"
   ]
  },
  {
   "cell_type": "code",
   "execution_count": 13,
   "id": "9712ec6a",
   "metadata": {},
   "outputs": [
    {
     "data": {
      "text/plain": [
       "(2.3, 'Ayush', 'Gandhi', [1, 2, 4])"
      ]
     },
     "execution_count": 13,
     "metadata": {},
     "output_type": "execute_result"
    }
   ],
   "source": [
    "random"
   ]
  },
  {
   "cell_type": "code",
   "execution_count": 14,
   "id": "11f58b06",
   "metadata": {},
   "outputs": [],
   "source": [
    "random[3].append(\"hey\")"
   ]
  },
  {
   "cell_type": "code",
   "execution_count": 15,
   "id": "b7e89f6a",
   "metadata": {},
   "outputs": [
    {
     "data": {
      "text/plain": [
       "(2.3, 'Ayush', 'Gandhi', [1, 2, 4, 'hey'])"
      ]
     },
     "execution_count": 15,
     "metadata": {},
     "output_type": "execute_result"
    }
   ],
   "source": [
    "random"
   ]
  },
  {
   "cell_type": "code",
   "execution_count": null,
   "id": "9130a299",
   "metadata": {},
   "outputs": [],
   "source": [
    "res_a = 0.2, 0.25, 0.55\n",
    "\n",
    "min(res_)"
   ]
  }
 ],
 "metadata": {
  "kernelspec": {
   "display_name": "Python 3 (ipykernel)",
   "language": "python",
   "name": "python3"
  },
  "language_info": {
   "codemirror_mode": {
    "name": "ipython",
    "version": 3
   },
   "file_extension": ".py",
   "mimetype": "text/x-python",
   "name": "python",
   "nbconvert_exporter": "python",
   "pygments_lexer": "ipython3",
   "version": "3.9.6"
  }
 },
 "nbformat": 4,
 "nbformat_minor": 5
}
