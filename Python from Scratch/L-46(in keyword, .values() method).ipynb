{
 "cells": [
  {
   "cell_type": "code",
   "execution_count": 1,
   "id": "50b60121",
   "metadata": {},
   "outputs": [],
   "source": [
    "drilling_data = {\n",
    "    \"drill_data\" : \"PDC\",\n",
    "    \"KOP\" : 1000, \n",
    "    \"measurements\" : {\"TVD\" : 1500, \"MD\" : 2100},\n",
    "    \"formations\" : [\"shale\", \"sandstone\", \"limestone\"]\n",
    "}"
   ]
  },
  {
   "cell_type": "code",
   "execution_count": 2,
   "id": "a4591949",
   "metadata": {},
   "outputs": [
    {
     "name": "stdout",
     "output_type": "stream",
     "text": [
      "{'drill_data': 'PDC', 'KOP': 1000, 'measurements': {'TVD': 1500, 'MD': 2100}, 'formations': ['shale', 'sandstone', 'limestone']}\n"
     ]
    }
   ],
   "source": [
    "print(drilling_data)"
   ]
  },
  {
   "cell_type": "code",
   "execution_count": 4,
   "id": "f254a87a",
   "metadata": {},
   "outputs": [
    {
     "name": "stdout",
     "output_type": "stream",
     "text": [
      "not present\n"
     ]
    }
   ],
   "source": [
    "if \"drill_bit\" in drilling_data:\n",
    "    print(\"present\")\n",
    "else:\n",
    "    print(\"not present\")"
   ]
  },
  {
   "cell_type": "code",
   "execution_count": 5,
   "id": "5dabc214",
   "metadata": {},
   "outputs": [
    {
     "data": {
      "text/plain": [
       "dict_values(['PDC', 1000, {'TVD': 1500, 'MD': 2100}, ['shale', 'sandstone', 'limestone']])"
      ]
     },
     "execution_count": 5,
     "metadata": {},
     "output_type": "execute_result"
    }
   ],
   "source": [
    "drilling_data.values()"
   ]
  },
  {
   "cell_type": "code",
   "execution_count": 9,
   "id": "4cca6a16",
   "metadata": {},
   "outputs": [
    {
     "name": "stdout",
     "output_type": "stream",
     "text": [
      "present\n"
     ]
    }
   ],
   "source": [
    "#finding in values\n",
    "if 1000 in drilling_data.values():\n",
    "    print(\"present\")\n",
    "else:\n",
    "    print(\"not present\")"
   ]
  },
  {
   "cell_type": "code",
   "execution_count": 11,
   "id": "012f3b63",
   "metadata": {},
   "outputs": [
    {
     "name": "stdout",
     "output_type": "stream",
     "text": [
      "PDC\n",
      "1000\n",
      "{'TVD': 1500, 'MD': 2100}\n",
      "['shale', 'sandstone', 'limestone']\n"
     ]
    }
   ],
   "source": [
    "for i in drilling_data.values():\n",
    "    print (i)"
   ]
  },
  {
   "cell_type": "code",
   "execution_count": null,
   "id": "7e849dd2",
   "metadata": {},
   "outputs": [],
   "source": [
    "for i in drilling_data:\n",
    "    print (i)"
   ]
  }
 ],
 "metadata": {
  "kernelspec": {
   "display_name": "Python 3 (ipykernel)",
   "language": "python",
   "name": "python3"
  },
  "language_info": {
   "codemirror_mode": {
    "name": "ipython",
    "version": 3
   },
   "file_extension": ".py",
   "mimetype": "text/x-python",
   "name": "python",
   "nbconvert_exporter": "python",
   "pygments_lexer": "ipython3",
   "version": "3.9.6"
  }
 },
 "nbformat": 4,
 "nbformat_minor": 5
}
