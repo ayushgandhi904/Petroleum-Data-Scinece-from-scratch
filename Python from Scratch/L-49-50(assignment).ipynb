{
 "cells": [
  {
   "cell_type": "code",
   "execution_count": 5,
   "id": "56ecf09d",
   "metadata": {},
   "outputs": [],
   "source": [
    "prod_data_1 = dict(water_cut = 60)"
   ]
  },
  {
   "cell_type": "code",
   "execution_count": 7,
   "id": "5b50e719",
   "metadata": {},
   "outputs": [],
   "source": [
    "prod_data_2 = {\n",
    "    \"API_oil\" : 30,\n",
    "    \"completion_type\" : \"cased_hole\",\n",
    "    \"zones\" : [\"zone 1\", \"zone 2\", \"zone 3\"]\n",
    "}"
   ]
  },
  {
   "cell_type": "code",
   "execution_count": 8,
   "id": "961fb940",
   "metadata": {},
   "outputs": [],
   "source": [
    "prod_data_1.update(prod_data_2)"
   ]
  },
  {
   "cell_type": "code",
   "execution_count": 9,
   "id": "3cb22626",
   "metadata": {},
   "outputs": [
    {
     "data": {
      "text/plain": [
       "dict_items([('water_cut', 60), ('API_oil', 30), ('completion_type', 'cased_hole'), ('zones', ['zone 1', 'zone 2', 'zone 3'])])"
      ]
     },
     "execution_count": 9,
     "metadata": {},
     "output_type": "execute_result"
    }
   ],
   "source": [
    "prod_data_1.items()"
   ]
  },
  {
   "cell_type": "code",
   "execution_count": 11,
   "id": "7099be9b",
   "metadata": {},
   "outputs": [
    {
     "name": "stdout",
     "output_type": "stream",
     "text": [
      "water_cut:60\n",
      "API_oil:30\n",
      "completion_type:cased_hole\n",
      "zones:['zone 1', 'zone 2', 'zone 3']\n"
     ]
    }
   ],
   "source": [
    "for i, j in prod_data_1.items():\n",
    "    print(f\"{i}:{j}\")\n"
   ]
  },
  {
   "cell_type": "code",
   "execution_count": null,
   "id": "686a1e73",
   "metadata": {},
   "outputs": [],
   "source": []
  }
 ],
 "metadata": {
  "kernelspec": {
   "display_name": "Python 3 (ipykernel)",
   "language": "python",
   "name": "python3"
  },
  "language_info": {
   "codemirror_mode": {
    "name": "ipython",
    "version": 3
   },
   "file_extension": ".py",
   "mimetype": "text/x-python",
   "name": "python",
   "nbconvert_exporter": "python",
   "pygments_lexer": "ipython3",
   "version": "3.9.6"
  }
 },
 "nbformat": 4,
 "nbformat_minor": 5
}
