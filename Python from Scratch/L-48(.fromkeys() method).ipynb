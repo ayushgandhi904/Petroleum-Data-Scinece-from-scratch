{
 "cells": [
  {
   "cell_type": "code",
   "execution_count": 1,
   "id": "30797389",
   "metadata": {},
   "outputs": [],
   "source": [
    "ayush = {\n",
    "    \"fav_book\" : \"no idea\",\n",
    "    \"fav_movie\" : \"no idea\",\n",
    "    \"fav_sports\" : \"no idea\"\n",
    "}"
   ]
  },
  {
   "cell_type": "code",
   "execution_count": 4,
   "id": "085eee52",
   "metadata": {},
   "outputs": [],
   "source": [
    "#if we want to type same value \n",
    "\n",
    "ayush_new = dict.fromkeys([\"fav_book\", \"fav_movie\", \"fav_sports\", \"fav_dish\"], \"no idea\")"
   ]
  },
  {
   "cell_type": "code",
   "execution_count": 5,
   "id": "ab7543db",
   "metadata": {},
   "outputs": [
    {
     "data": {
      "text/plain": [
       "{'fav_book': 'no idea',\n",
       " 'fav_movie': 'no idea',\n",
       " 'fav_sports': 'no idea',\n",
       " 'fav_dish': 'no idea'}"
      ]
     },
     "execution_count": 5,
     "metadata": {},
     "output_type": "execute_result"
    }
   ],
   "source": [
    "ayush_new"
   ]
  },
  {
   "cell_type": "code",
   "execution_count": 6,
   "id": "ff7fe750",
   "metadata": {},
   "outputs": [],
   "source": [
    "#tuple alos works\n",
    "ayush_ = dict.fromkeys((\"fav_book\", \"fav_movie\", \"fav_sports\", \"fav_dish\"), \"no idea\")"
   ]
  },
  {
   "cell_type": "code",
   "execution_count": 7,
   "id": "e3f1efc4",
   "metadata": {},
   "outputs": [
    {
     "data": {
      "text/plain": [
       "{'fav_book': 'no idea',\n",
       " 'fav_movie': 'no idea',\n",
       " 'fav_sports': 'no idea',\n",
       " 'fav_dish': 'no idea'}"
      ]
     },
     "execution_count": 7,
     "metadata": {},
     "output_type": "execute_result"
    }
   ],
   "source": [
    "ayush_"
   ]
  },
  {
   "cell_type": "code",
   "execution_count": 10,
   "id": "ac201cc2",
   "metadata": {},
   "outputs": [],
   "source": [
    "nat = dict.fromkeys((range(1, 6)), \"natural number\")"
   ]
  },
  {
   "cell_type": "code",
   "execution_count": 11,
   "id": "e6d29b71",
   "metadata": {},
   "outputs": [
    {
     "data": {
      "text/plain": [
       "{1: 'natural number',\n",
       " 2: 'natural number',\n",
       " 3: 'natural number',\n",
       " 4: 'natural number',\n",
       " 5: 'natural number'}"
      ]
     },
     "execution_count": 11,
     "metadata": {},
     "output_type": "execute_result"
    }
   ],
   "source": [
    "nat"
   ]
  },
  {
   "cell_type": "code",
   "execution_count": 16,
   "id": "0fb2ee45",
   "metadata": {},
   "outputs": [],
   "source": [
    "ayush_n = dict.fromkeys((\"fav_book\", \"fav_movie\", \"fav_sports\", \"fav_dish\"), [\"no idea\", \"i dont care\"])\n"
   ]
  },
  {
   "cell_type": "code",
   "execution_count": 17,
   "id": "26b94a60",
   "metadata": {},
   "outputs": [
    {
     "data": {
      "text/plain": [
       "{'fav_book': ['no idea', 'i dont care'],\n",
       " 'fav_movie': ['no idea', 'i dont care'],\n",
       " 'fav_sports': ['no idea', 'i dont care'],\n",
       " 'fav_dish': ['no idea', 'i dont care']}"
      ]
     },
     "execution_count": 17,
     "metadata": {},
     "output_type": "execute_result"
    }
   ],
   "source": [
    "ayush_n"
   ]
  },
  {
   "cell_type": "code",
   "execution_count": 18,
   "id": "4dac0708",
   "metadata": {},
   "outputs": [
    {
     "data": {
      "text/plain": [
       "['no idea', 'i dont care']"
      ]
     },
     "execution_count": 18,
     "metadata": {},
     "output_type": "execute_result"
    }
   ],
   "source": [
    "#get method\n",
    "\n",
    "ayush_n[\"fav_dish\"]"
   ]
  },
  {
   "cell_type": "code",
   "execution_count": 20,
   "id": "63ecabb8",
   "metadata": {},
   "outputs": [],
   "source": [
    "ayush_n.get(\"Hello\")"
   ]
  },
  {
   "cell_type": "code",
   "execution_count": 21,
   "id": "37e7bab5",
   "metadata": {},
   "outputs": [
    {
     "data": {
      "text/plain": [
       "{'fav_book': ['no idea', 'i dont care'],\n",
       " 'fav_movie': ['no idea', 'i dont care'],\n",
       " 'fav_sports': ['no idea', 'i dont care'],\n",
       " 'fav_dish': ['no idea', 'i dont care']}"
      ]
     },
     "execution_count": 21,
     "metadata": {},
     "output_type": "execute_result"
    }
   ],
   "source": [
    "ayush_n"
   ]
  },
  {
   "cell_type": "code",
   "execution_count": 22,
   "id": "56c2f0a2",
   "metadata": {},
   "outputs": [
    {
     "name": "stdout",
     "output_type": "stream",
     "text": [
      "this key is not present\n"
     ]
    }
   ],
   "source": [
    "print(ayush_n.get(\"hello\", \"this key is not present\"))"
   ]
  },
  {
   "cell_type": "code",
   "execution_count": 23,
   "id": "ef46af41",
   "metadata": {},
   "outputs": [],
   "source": [
    "ayush_n.clear()"
   ]
  },
  {
   "cell_type": "code",
   "execution_count": 24,
   "id": "6ec821e1",
   "metadata": {},
   "outputs": [
    {
     "data": {
      "text/plain": [
       "{}"
      ]
     },
     "execution_count": 24,
     "metadata": {},
     "output_type": "execute_result"
    }
   ],
   "source": [
    "ayush_n"
   ]
  },
  {
   "cell_type": "code",
   "execution_count": null,
   "id": "23af9be9",
   "metadata": {},
   "outputs": [],
   "source": []
  }
 ],
 "metadata": {
  "kernelspec": {
   "display_name": "Python 3 (ipykernel)",
   "language": "python",
   "name": "python3"
  },
  "language_info": {
   "codemirror_mode": {
    "name": "ipython",
    "version": 3
   },
   "file_extension": ".py",
   "mimetype": "text/x-python",
   "name": "python",
   "nbconvert_exporter": "python",
   "pygments_lexer": "ipython3",
   "version": "3.9.6"
  }
 },
 "nbformat": 4,
 "nbformat_minor": 5
}
