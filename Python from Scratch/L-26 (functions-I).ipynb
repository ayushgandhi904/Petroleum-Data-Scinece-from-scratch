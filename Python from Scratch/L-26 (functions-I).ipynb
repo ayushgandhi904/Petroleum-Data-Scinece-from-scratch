{
 "cells": [
  {
   "cell_type": "code",
   "execution_count": 3,
   "id": "0902ce1d",
   "metadata": {},
   "outputs": [],
   "source": [
    "def function_name():\n",
    "    return (\"This is how string is created in python\")"
   ]
  },
  {
   "cell_type": "code",
   "execution_count": 4,
   "id": "fd7967f5",
   "metadata": {},
   "outputs": [
    {
     "data": {
      "text/plain": [
       "'This is how string is created in python'"
      ]
     },
     "execution_count": 4,
     "metadata": {},
     "output_type": "execute_result"
    }
   ],
   "source": [
    "function_name()"
   ]
  },
  {
   "cell_type": "code",
   "execution_count": 5,
   "id": "dd27a4cf",
   "metadata": {},
   "outputs": [],
   "source": [
    "def mul(a, b):\n",
    "    return a*b"
   ]
  },
  {
   "cell_type": "code",
   "execution_count": 6,
   "id": "1b7b8762",
   "metadata": {},
   "outputs": [
    {
     "data": {
      "text/plain": [
       "2"
      ]
     },
     "execution_count": 6,
     "metadata": {},
     "output_type": "execute_result"
    }
   ],
   "source": [
    "mul(2, 1)"
   ]
  },
  {
   "cell_type": "code",
   "execution_count": 8,
   "id": "8aaca23b",
   "metadata": {},
   "outputs": [
    {
     "data": {
      "text/plain": [
       "4830"
      ]
     },
     "execution_count": 8,
     "metadata": {},
     "output_type": "execute_result"
    }
   ],
   "source": [
    "mul(966, 5)"
   ]
  },
  {
   "cell_type": "code",
   "execution_count": null,
   "id": "990d3be4",
   "metadata": {},
   "outputs": [],
   "source": [
    "def add(1)"
   ]
  }
 ],
 "metadata": {
  "kernelspec": {
   "display_name": "Python 3 (ipykernel)",
   "language": "python",
   "name": "python3"
  },
  "language_info": {
   "codemirror_mode": {
    "name": "ipython",
    "version": 3
   },
   "file_extension": ".py",
   "mimetype": "text/x-python",
   "name": "python",
   "nbconvert_exporter": "python",
   "pygments_lexer": "ipython3",
   "version": "3.9.6"
  }
 },
 "nbformat": 4,
 "nbformat_minor": 5
}
