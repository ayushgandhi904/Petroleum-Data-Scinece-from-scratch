{
 "cells": [
  {
   "cell_type": "code",
   "execution_count": 1,
   "id": "061e2cc7",
   "metadata": {},
   "outputs": [],
   "source": [
    "# Q = (k*A*dp)/(mu*l)"
   ]
  },
  {
   "cell_type": "code",
   "execution_count": 2,
   "id": "772638f9",
   "metadata": {},
   "outputs": [
    {
     "name": "stdout",
     "output_type": "stream",
     "text": [
      "Enter the value of permeability:0.3\n",
      "Enter the value of area:3\n",
      "Enter the value of differential pressure2\n",
      "Enter the value of viscosity:1\n",
      "Enter the value of lenght4\n",
      "Flow rate of brine is 0.44999999999999996cm^3/s\n"
     ]
    }
   ],
   "source": [
    "k = float(input(\"Enter the value of permeability:\"))\n",
    "A = float(input(\"Enter the value of area:\"))\n",
    "dp = float(input(\"Enter the value of differential pressure\"))\n",
    "mu = float(input(\"Enter the value of viscosity:\"))\n",
    "l = float(input(\"Enter the value of lenght\"))\n",
    "\n",
    "def Q(k, A, dp, mu, l):\n",
    "    return (k*A*dp)/(mu*l)\n",
    "print(f\"Flow rate of brine is {Q(k, A, dp, mu, l)}cm^3/s\")"
   ]
  },
  {
   "cell_type": "code",
   "execution_count": 4,
   "id": "6da658e5",
   "metadata": {},
   "outputs": [
    {
     "name": "stdout",
     "output_type": "stream",
     "text": [
      "Enter the depth 1:4\n",
      "Enter the poroisty for depth 1200\n",
      "Enter the depth 2:2\n",
      "Enter the poroisty for depth 2130\n",
      "Enter the depth 3:2\n",
      "Enter the poroisty for depth 3170\n",
      "Enter the depth 4:2\n",
      "Enter the poroisty for depth 4180\n",
      "Enter the depth 5:2\n",
      "Enter the poroisty for depth 5140\n",
      "weighted avg permeablity is 170.0\n"
     ]
    }
   ],
   "source": [
    "d1 = float(input(\"Enter the depth 1:\"))\n",
    "k1 = float(input(\"Enter the poroisty for depth 1\"))\n",
    "d2 = float(input(\"Enter the depth 2:\"))\n",
    "k2 = float(input(\"Enter the poroisty for depth 2\"))\n",
    "d3 = float(input(\"Enter the depth 3:\"))\n",
    "k3 = float(input(\"Enter the poroisty for depth 3\"))\n",
    "d4 = float(input(\"Enter the depth 4:\"))\n",
    "k4 = float(input(\"Enter the poroisty for depth 4\"))\n",
    "d5 = float(input(\"Enter the depth 5:\"))\n",
    "k5 = float(input(\"Enter the poroisty for depth 5\"))\n",
    "\n",
    "def w_avg_permeability(d1, k1, d2, k2, d3, k3, d4, k4, d5, k5):\n",
    "    return(((d1*k1)+(d2*k2)+(d3*k3)+(d4*k4)+(d5*k5))/(d1+d2+d3+d4+d5))\n",
    "\n",
    "print(f\"weighted avg permeablity is {w_avg_permeability(d1, k1, d2, k2, d3, k3, d4, k4, d5, k5)}\")"
   ]
  },
  {
   "cell_type": "code",
   "execution_count": null,
   "id": "8a77f49a",
   "metadata": {},
   "outputs": [],
   "source": []
  }
 ],
 "metadata": {
  "kernelspec": {
   "display_name": "Python 3 (ipykernel)",
   "language": "python",
   "name": "python3"
  },
  "language_info": {
   "codemirror_mode": {
    "name": "ipython",
    "version": 3
   },
   "file_extension": ".py",
   "mimetype": "text/x-python",
   "name": "python",
   "nbconvert_exporter": "python",
   "pygments_lexer": "ipython3",
   "version": "3.9.6"
  }
 },
 "nbformat": 4,
 "nbformat_minor": 5
}
