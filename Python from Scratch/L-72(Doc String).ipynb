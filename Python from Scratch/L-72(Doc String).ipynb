{
 "cells": [
  {
   "cell_type": "code",
   "execution_count": 4,
   "id": "59100480",
   "metadata": {},
   "outputs": [],
   "source": [
    "def por(a):\n",
    "    '''This will convert porosity into percentage'''\n",
    "        \n",
    "    return a*100"
   ]
  },
  {
   "cell_type": "code",
   "execution_count": 5,
   "id": "737e4246",
   "metadata": {},
   "outputs": [
    {
     "data": {
      "text/plain": [
       "20.0"
      ]
     },
     "execution_count": 5,
     "metadata": {},
     "output_type": "execute_result"
    }
   ],
   "source": [
    "por(0.2)"
   ]
  },
  {
   "cell_type": "code",
   "execution_count": 6,
   "id": "832b1e28",
   "metadata": {},
   "outputs": [
    {
     "name": "stdout",
     "output_type": "stream",
     "text": [
      "This will convert porosity into percentage\n"
     ]
    }
   ],
   "source": [
    "print(por.__doc__)"
   ]
  },
  {
   "cell_type": "code",
   "execution_count": null,
   "id": "447b812f",
   "metadata": {},
   "outputs": [],
   "source": []
  }
 ],
 "metadata": {
  "kernelspec": {
   "display_name": "Python 3 (ipykernel)",
   "language": "python",
   "name": "python3"
  },
  "language_info": {
   "codemirror_mode": {
    "name": "ipython",
    "version": 3
   },
   "file_extension": ".py",
   "mimetype": "text/x-python",
   "name": "python",
   "nbconvert_exporter": "python",
   "pygments_lexer": "ipython3",
   "version": "3.9.6"
  }
 },
 "nbformat": 4,
 "nbformat_minor": 5
}
