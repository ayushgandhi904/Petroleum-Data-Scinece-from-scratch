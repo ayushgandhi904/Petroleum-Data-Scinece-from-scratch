{
 "cells": [
  {
   "cell_type": "code",
   "execution_count": 1,
   "id": "467fd8cc",
   "metadata": {},
   "outputs": [],
   "source": [
    "a = [19, 24, 31, 34, 45]\n",
    "b = [16, 17, 38, 29, 19]\n",
    "c = [24, 24, 40, 37, 15]\n",
    "d = [50, 47, 19, 49, 10]"
   ]
  },
  {
   "cell_type": "code",
   "execution_count": 2,
   "id": "dd94cf1a",
   "metadata": {},
   "outputs": [
    {
     "name": "stdout",
     "output_type": "stream",
     "text": [
      "[(19, 16, 24, 50), (24, 17, 24, 47), (31, 38, 40, 19), (34, 29, 37, 49), (45, 19, 15, 10)]\n"
     ]
    }
   ],
   "source": [
    "k = list(zip(a, b, c, d))\n",
    "print(k)"
   ]
  },
  {
   "cell_type": "code",
   "execution_count": 3,
   "id": "34427275",
   "metadata": {},
   "outputs": [
    {
     "name": "stdout",
     "output_type": "stream",
     "text": [
      "27.25\n",
      "28.0\n",
      "32.0\n",
      "37.25\n",
      "22.25\n"
     ]
    }
   ],
   "source": [
    "for r, s, t, u in k:\n",
    "    print((r + s + t + u)/4)"
   ]
  },
  {
   "cell_type": "code",
   "execution_count": null,
   "id": "44e5f5d7",
   "metadata": {},
   "outputs": [],
   "source": [
    "for i in k:\n",
    "    print"
   ]
  }
 ],
 "metadata": {
  "kernelspec": {
   "display_name": "Python 3 (ipykernel)",
   "language": "python",
   "name": "python3"
  },
  "language_info": {
   "codemirror_mode": {
    "name": "ipython",
    "version": 3
   },
   "file_extension": ".py",
   "mimetype": "text/x-python",
   "name": "python",
   "nbconvert_exporter": "python",
   "pygments_lexer": "ipython3",
   "version": "3.9.6"
  }
 },
 "nbformat": 4,
 "nbformat_minor": 5
}
