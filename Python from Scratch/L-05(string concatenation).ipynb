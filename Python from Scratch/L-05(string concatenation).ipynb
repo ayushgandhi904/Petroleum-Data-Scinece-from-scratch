{
 "cells": [
  {
   "cell_type": "code",
   "execution_count": 3,
   "id": "6d06fe82",
   "metadata": {},
   "outputs": [],
   "source": [
    "first = \"Hello \"\n",
    "middle = \"Ayush \"\n",
    "last = \"Gandhi\"\n"
   ]
  },
  {
   "cell_type": "code",
   "execution_count": 4,
   "id": "ffb64bf4",
   "metadata": {},
   "outputs": [
    {
     "name": "stdout",
     "output_type": "stream",
     "text": [
      "Hello Ayush Gandhi\n"
     ]
    }
   ],
   "source": [
    "print(first + middle + last)"
   ]
  },
  {
   "cell_type": "code",
   "execution_count": 5,
   "id": "bf0f80fc",
   "metadata": {},
   "outputs": [
    {
     "name": "stdout",
     "output_type": "stream",
     "text": [
      "Hello 2\n"
     ]
    }
   ],
   "source": [
    "print(first + str(2))"
   ]
  },
  {
   "cell_type": "code",
   "execution_count": 6,
   "id": "46e746db",
   "metadata": {},
   "outputs": [
    {
     "name": "stdout",
     "output_type": "stream",
     "text": [
      "Hello Hello Hello Hello Hello Hello Hello Hello Hello Hello \n"
     ]
    }
   ],
   "source": [
    "print(first * 10)"
   ]
  },
  {
   "cell_type": "code",
   "execution_count": 7,
   "id": "b71804ff",
   "metadata": {},
   "outputs": [
    {
     "name": "stdout",
     "output_type": "stream",
     "text": [
      "bla bla bla bla bla \n"
     ]
    }
   ],
   "source": [
    "x = \"bla \"\n",
    "print(x * 5)"
   ]
  },
  {
   "cell_type": "code",
   "execution_count": null,
   "id": "8ec3b6dc",
   "metadata": {},
   "outputs": [],
   "source": [
    "a = \"Python\"\n",
    "b ="
   ]
  }
 ],
 "metadata": {
  "kernelspec": {
   "display_name": "Python 3 (ipykernel)",
   "language": "python",
   "name": "python3"
  },
  "language_info": {
   "codemirror_mode": {
    "name": "ipython",
    "version": 3
   },
   "file_extension": ".py",
   "mimetype": "text/x-python",
   "name": "python",
   "nbconvert_exporter": "python",
   "pygments_lexer": "ipython3",
   "version": "3.9.6"
  }
 },
 "nbformat": 4,
 "nbformat_minor": 5
}
