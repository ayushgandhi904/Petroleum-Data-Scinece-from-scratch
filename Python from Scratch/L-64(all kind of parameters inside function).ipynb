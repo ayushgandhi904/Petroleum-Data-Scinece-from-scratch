{
 "cells": [
  {
   "cell_type": "code",
   "execution_count": 1,
   "id": "c6a15465",
   "metadata": {},
   "outputs": [],
   "source": [
    "def fun(a, b=5):\n",
    "    print(f\"This will add {b} to input\")\n",
    "    return a + b"
   ]
  },
  {
   "cell_type": "code",
   "execution_count": 2,
   "id": "c31aa273",
   "metadata": {},
   "outputs": [
    {
     "name": "stdout",
     "output_type": "stream",
     "text": [
      "This will add 5 to input\n"
     ]
    },
    {
     "data": {
      "text/plain": [
       "8"
      ]
     },
     "execution_count": 2,
     "metadata": {},
     "output_type": "execute_result"
    }
   ],
   "source": [
    "fun(3)"
   ]
  },
  {
   "cell_type": "code",
   "execution_count": 3,
   "id": "2378360d",
   "metadata": {},
   "outputs": [],
   "source": [
    "#order \n",
    "\n",
    "#----normal parameter, *args, default parameter, **kwargs ----master order"
   ]
  },
  {
   "cell_type": "code",
   "execution_count": 4,
   "id": "fb942540",
   "metadata": {},
   "outputs": [],
   "source": [
    "def hello(por, *args, depth = 3500, **kwargs):\n",
    "    print(por)\n",
    "    print(args)\n",
    "    print(depth)\n",
    "    print(kwargs)"
   ]
  },
  {
   "cell_type": "code",
   "execution_count": 5,
   "id": "1521f675",
   "metadata": {},
   "outputs": [
    {
     "name": "stdout",
     "output_type": "stream",
     "text": [
      "0.15\n",
      "(0.2, 'Sandstone', 'Shale', 'Lst')\n",
      "3500\n",
      "{'area': 'Assan', 'field': 'xyz'}\n"
     ]
    }
   ],
   "source": [
    "hello(0.15, 0.2, \"Sandstone\", \"Shale\", \"Lst\", area = \"Assan\", field = \"xyz\")"
   ]
  },
  {
   "cell_type": "code",
   "execution_count": null,
   "id": "646d224b",
   "metadata": {},
   "outputs": [],
   "source": []
  }
 ],
 "metadata": {
  "kernelspec": {
   "display_name": "Python 3 (ipykernel)",
   "language": "python",
   "name": "python3"
  },
  "language_info": {
   "codemirror_mode": {
    "name": "ipython",
    "version": 3
   },
   "file_extension": ".py",
   "mimetype": "text/x-python",
   "name": "python",
   "nbconvert_exporter": "python",
   "pygments_lexer": "ipython3",
   "version": "3.9.6"
  }
 },
 "nbformat": 4,
 "nbformat_minor": 5
}
