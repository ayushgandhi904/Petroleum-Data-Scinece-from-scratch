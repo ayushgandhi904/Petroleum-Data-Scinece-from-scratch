{
 "cells": [
  {
   "cell_type": "code",
   "execution_count": 1,
   "id": "cf8e7ccb",
   "metadata": {},
   "outputs": [],
   "source": [
    "#all function \n",
    "\n",
    "lis_1 = [True, True, True, True]\n",
    "lis_2 = [False, False, True, True]"
   ]
  },
  {
   "cell_type": "code",
   "execution_count": 3,
   "id": "ce3f4ca5",
   "metadata": {},
   "outputs": [
    {
     "data": {
      "text/plain": [
       "True"
      ]
     },
     "execution_count": 3,
     "metadata": {},
     "output_type": "execute_result"
    }
   ],
   "source": [
    "all(lis_1)"
   ]
  },
  {
   "cell_type": "code",
   "execution_count": 4,
   "id": "ca8d3ad7",
   "metadata": {},
   "outputs": [],
   "source": [
    "tup = (1, 3, 5, 9, 10)\n",
    "tf = [i < 10 for i in tup ]"
   ]
  },
  {
   "cell_type": "code",
   "execution_count": 5,
   "id": "ec2af4db",
   "metadata": {},
   "outputs": [
    {
     "data": {
      "text/plain": [
       "False"
      ]
     },
     "execution_count": 5,
     "metadata": {},
     "output_type": "execute_result"
    }
   ],
   "source": [
    "all(tf)"
   ]
  },
  {
   "cell_type": "code",
   "execution_count": 6,
   "id": "bf65e1ed",
   "metadata": {},
   "outputs": [
    {
     "data": {
      "text/plain": [
       "True"
      ]
     },
     "execution_count": 6,
     "metadata": {},
     "output_type": "execute_result"
    }
   ],
   "source": [
    "any(lis_2)"
   ]
  },
  {
   "cell_type": "code",
   "execution_count": 7,
   "id": "cc9bc937",
   "metadata": {},
   "outputs": [],
   "source": [
    "tu = (1, 5, 7, 9, 10)\n",
    "\n",
    "oe = [i%2 == 0 for i in tu]"
   ]
  },
  {
   "cell_type": "code",
   "execution_count": 8,
   "id": "45b9881f",
   "metadata": {},
   "outputs": [
    {
     "data": {
      "text/plain": [
       "True"
      ]
     },
     "execution_count": 8,
     "metadata": {},
     "output_type": "execute_result"
    }
   ],
   "source": [
    "any(tu)"
   ]
  },
  {
   "cell_type": "code",
   "execution_count": null,
   "id": "4ad848fc",
   "metadata": {},
   "outputs": [],
   "source": []
  }
 ],
 "metadata": {
  "kernelspec": {
   "display_name": "Python 3 (ipykernel)",
   "language": "python",
   "name": "python3"
  },
  "language_info": {
   "codemirror_mode": {
    "name": "ipython",
    "version": 3
   },
   "file_extension": ".py",
   "mimetype": "text/x-python",
   "name": "python",
   "nbconvert_exporter": "python",
   "pygments_lexer": "ipython3",
   "version": "3.9.6"
  }
 },
 "nbformat": 4,
 "nbformat_minor": 5
}
