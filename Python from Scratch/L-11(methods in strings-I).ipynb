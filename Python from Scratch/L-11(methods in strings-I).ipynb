{
 "cells": [
  {
   "cell_type": "code",
   "execution_count": 1,
   "id": "efad8725",
   "metadata": {},
   "outputs": [],
   "source": [
    "sub = \"Production\""
   ]
  },
  {
   "cell_type": "code",
   "execution_count": 2,
   "id": "3eadce7a",
   "metadata": {},
   "outputs": [
    {
     "data": {
      "text/plain": [
       "10"
      ]
     },
     "execution_count": 2,
     "metadata": {},
     "output_type": "execute_result"
    }
   ],
   "source": [
    "len(sub)"
   ]
  },
  {
   "cell_type": "code",
   "execution_count": 3,
   "id": "55498f4c",
   "metadata": {},
   "outputs": [],
   "source": [
    "sub_2 = \"Production \""
   ]
  },
  {
   "cell_type": "code",
   "execution_count": 4,
   "id": "6ad3ef69",
   "metadata": {},
   "outputs": [
    {
     "data": {
      "text/plain": [
       "11"
      ]
     },
     "execution_count": 4,
     "metadata": {},
     "output_type": "execute_result"
    }
   ],
   "source": [
    "len(sub_2)"
   ]
  },
  {
   "cell_type": "code",
   "execution_count": 5,
   "id": "bd34e3e0",
   "metadata": {},
   "outputs": [
    {
     "data": {
      "text/plain": [
       "'petroleum from scrath'"
      ]
     },
     "execution_count": 5,
     "metadata": {},
     "output_type": "execute_result"
    }
   ],
   "source": [
    "#lower method\n",
    "var = \"Petroleum from scrath\"\n",
    "var.lower()"
   ]
  },
  {
   "cell_type": "code",
   "execution_count": 6,
   "id": "ef46e8bd",
   "metadata": {},
   "outputs": [
    {
     "name": "stdout",
     "output_type": "stream",
     "text": [
      "Petroleum from scrath\n"
     ]
    }
   ],
   "source": [
    "print(var)"
   ]
  },
  {
   "cell_type": "code",
   "execution_count": 7,
   "id": "1bbf1ca4",
   "metadata": {},
   "outputs": [
    {
     "data": {
      "text/plain": [
       "'PETROLEUM FROM SCRATH'"
      ]
     },
     "execution_count": 7,
     "metadata": {},
     "output_type": "execute_result"
    }
   ],
   "source": [
    "var.upper()"
   ]
  },
  {
   "cell_type": "code",
   "execution_count": 8,
   "id": "0697bb23",
   "metadata": {},
   "outputs": [
    {
     "data": {
      "text/plain": [
       "'Petroleum From Scrath'"
      ]
     },
     "execution_count": 8,
     "metadata": {},
     "output_type": "execute_result"
    }
   ],
   "source": [
    "var.title()"
   ]
  },
  {
   "cell_type": "code",
   "execution_count": 11,
   "id": "00b6ad9f",
   "metadata": {},
   "outputs": [
    {
     "data": {
      "text/plain": [
       "1"
      ]
     },
     "execution_count": 11,
     "metadata": {},
     "output_type": "execute_result"
    }
   ],
   "source": [
    "var.count('l')"
   ]
  },
  {
   "cell_type": "code",
   "execution_count": 12,
   "id": "f52a32c5",
   "metadata": {},
   "outputs": [
    {
     "data": {
      "text/plain": [
       "1"
      ]
     },
     "execution_count": 12,
     "metadata": {},
     "output_type": "execute_result"
    }
   ],
   "source": [
    "var.count('P')"
   ]
  },
  {
   "cell_type": "code",
   "execution_count": 13,
   "id": "96f4020b",
   "metadata": {},
   "outputs": [
    {
     "name": "stdout",
     "output_type": "stream",
     "text": [
      "Enter any number and in words24, twenty-four\n"
     ]
    }
   ],
   "source": [
    "#assignment6\n",
    "\n",
    "x, y = input(\"Enter any number and in words\").split(\",\")\n",
    "print(len(y))\n",
    "print(y.upper())\n",
    "print(y.count('e'))\n",
    "print(type)"
   ]
  },
  {
   "cell_type": "code",
   "execution_count": null,
   "id": "970a4be2",
   "metadata": {},
   "outputs": [],
   "source": []
  }
 ],
 "metadata": {
  "kernelspec": {
   "display_name": "Python 3 (ipykernel)",
   "language": "python",
   "name": "python3"
  },
  "language_info": {
   "codemirror_mode": {
    "name": "ipython",
    "version": 3
   },
   "file_extension": ".py",
   "mimetype": "text/x-python",
   "name": "python",
   "nbconvert_exporter": "python",
   "pygments_lexer": "ipython3",
   "version": "3.9.6"
  }
 },
 "nbformat": 4,
 "nbformat_minor": 5
}
