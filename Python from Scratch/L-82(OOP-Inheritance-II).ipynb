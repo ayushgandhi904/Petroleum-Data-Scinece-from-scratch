{
 "cells": [
  {
   "cell_type": "code",
   "execution_count": 17,
   "id": "b2a18dd5",
   "metadata": {},
   "outputs": [],
   "source": [
    "class Reservoir:\n",
    "    def __init__(self, per, por, location):\n",
    "        self.per = per\n",
    "        self.por = por\n",
    "        self.location = location\n",
    "        \n",
    "    def describe(self):\n",
    "        return (f\"The reseroir porosity is {self.por} and reservoir permeability is {self.per}\")\n",
    "    def locations(self):\n",
    "        return (f\"The field is located in {self.location}\")"
   ]
  },
  {
   "cell_type": "code",
   "execution_count": 18,
   "id": "4b1ea295",
   "metadata": {},
   "outputs": [],
   "source": [
    "#inheritace method\n",
    "\n",
    "class Tight_reservoir(Reservoir):\n",
    "    \n",
    "    def __init__(self, per, por, location, stim):\n",
    "        Reservoir.__init__(self, per, por, location)\n",
    "        \n",
    "        self.stim = stim\n",
    "    "
   ]
  },
  {
   "cell_type": "code",
   "execution_count": 19,
   "id": "ae63df8e",
   "metadata": {},
   "outputs": [],
   "source": [
    "x = Tight_reservoir(14, 0.1, \"Assam\", \"HF\")"
   ]
  },
  {
   "cell_type": "code",
   "execution_count": 20,
   "id": "ba29c114",
   "metadata": {},
   "outputs": [
    {
     "data": {
      "text/plain": [
       "'HF'"
      ]
     },
     "execution_count": 20,
     "metadata": {},
     "output_type": "execute_result"
    }
   ],
   "source": [
    "x.stim"
   ]
  },
  {
   "cell_type": "code",
   "execution_count": 21,
   "id": "625e24f3",
   "metadata": {},
   "outputs": [],
   "source": [
    "#method 2"
   ]
  },
  {
   "cell_type": "code",
   "execution_count": 25,
   "id": "7a89eeed",
   "metadata": {},
   "outputs": [],
   "source": [
    "class Tight_res(Reservoir):\n",
    "    def __init__(self, per, por, location, stim):\n",
    "        super(). __init__ (per, por, location)\n",
    "        \n",
    "        self.stim = stim\n",
    "    def stim_method(self):\n",
    "        return f\"the stimulation method is {self.stim}\"\n",
    "    \n",
    "    \n",
    "    "
   ]
  },
  {
   "cell_type": "code",
   "execution_count": 26,
   "id": "50923328",
   "metadata": {},
   "outputs": [],
   "source": [
    "c = Tight_res(23, 0.12, \"Guj\", \"HF\")"
   ]
  },
  {
   "cell_type": "code",
   "execution_count": 27,
   "id": "8c727a80",
   "metadata": {},
   "outputs": [
    {
     "data": {
      "text/plain": [
       "'The reseroir porosity is 0.12 and reservoir permeability is 23'"
      ]
     },
     "execution_count": 27,
     "metadata": {},
     "output_type": "execute_result"
    }
   ],
   "source": [
    "c.describe()"
   ]
  },
  {
   "cell_type": "code",
   "execution_count": 28,
   "id": "c13960bd",
   "metadata": {},
   "outputs": [
    {
     "data": {
      "text/plain": [
       "'the stimulation method is HF'"
      ]
     },
     "execution_count": 28,
     "metadata": {},
     "output_type": "execute_result"
    }
   ],
   "source": [
    "c.stim_method()"
   ]
  },
  {
   "cell_type": "code",
   "execution_count": null,
   "id": "9ae55aa9",
   "metadata": {},
   "outputs": [],
   "source": []
  }
 ],
 "metadata": {
  "kernelspec": {
   "display_name": "Python 3 (ipykernel)",
   "language": "python",
   "name": "python3"
  },
  "language_info": {
   "codemirror_mode": {
    "name": "ipython",
    "version": 3
   },
   "file_extension": ".py",
   "mimetype": "text/x-python",
   "name": "python",
   "nbconvert_exporter": "python",
   "pygments_lexer": "ipython3",
   "version": "3.9.6"
  }
 },
 "nbformat": 4,
 "nbformat_minor": 5
}
