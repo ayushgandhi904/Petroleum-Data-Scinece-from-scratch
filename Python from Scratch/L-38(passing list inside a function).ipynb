{
 "cells": [
  {
   "cell_type": "code",
   "execution_count": 1,
   "id": "0ad18ad2",
   "metadata": {},
   "outputs": [],
   "source": [
    "nums = [1, 53, 25, 20, 25]"
   ]
  },
  {
   "cell_type": "code",
   "execution_count": 2,
   "id": "035656ed",
   "metadata": {},
   "outputs": [],
   "source": [
    "def neg(a):\n",
    "    neg_items = []\n",
    "    for i in a:\n",
    "        neg_items.append(-i)\n",
    "    return neg_items\n",
    "    "
   ]
  },
  {
   "cell_type": "code",
   "execution_count": 4,
   "id": "0f4219c5",
   "metadata": {},
   "outputs": [
    {
     "data": {
      "text/plain": [
       "[-1, -53, -25, -20, -25]"
      ]
     },
     "execution_count": 4,
     "metadata": {},
     "output_type": "execute_result"
    }
   ],
   "source": [
    "neg(nums)"
   ]
  },
  {
   "cell_type": "code",
   "execution_count": 5,
   "id": "402c3469",
   "metadata": {},
   "outputs": [],
   "source": [
    "j = [12, 5, 15]"
   ]
  },
  {
   "cell_type": "code",
   "execution_count": 6,
   "id": "87fb5719",
   "metadata": {},
   "outputs": [
    {
     "data": {
      "text/plain": [
       "[-12, -5, -15]"
      ]
     },
     "execution_count": 6,
     "metadata": {},
     "output_type": "execute_result"
    }
   ],
   "source": [
    "neg(j)"
   ]
  },
  {
   "cell_type": "code",
   "execution_count": 10,
   "id": "9e9eb0fc",
   "metadata": {},
   "outputs": [],
   "source": [
    "#assignment type \n",
    "k = [10, 20, 5, 25, 30, 50, 45, 85, 95]"
   ]
  },
  {
   "cell_type": "code",
   "execution_count": 17,
   "id": "5ae62361",
   "metadata": {},
   "outputs": [],
   "source": [
    "def even_odd(b):\n",
    "    z = []\n",
    "    for i in b:\n",
    "        if i%2 == 0:\n",
    "            z.append(\"even\")\n",
    "        else:\n",
    "            z.append(\"odd\")\n",
    "    return z"
   ]
  },
  {
   "cell_type": "code",
   "execution_count": 18,
   "id": "41146bb1",
   "metadata": {},
   "outputs": [
    {
     "data": {
      "text/plain": [
       "['even', 'even', 'odd', 'odd', 'even', 'even', 'odd', 'odd', 'odd']"
      ]
     },
     "execution_count": 18,
     "metadata": {},
     "output_type": "execute_result"
    }
   ],
   "source": [
    "even_odd(k)"
   ]
  },
  {
   "cell_type": "code",
   "execution_count": 19,
   "id": "23620367",
   "metadata": {},
   "outputs": [],
   "source": [
    "k2 = [10, 35, 13]"
   ]
  },
  {
   "cell_type": "code",
   "execution_count": 22,
   "id": "6b7990c1",
   "metadata": {},
   "outputs": [
    {
     "name": "stdout",
     "output_type": "stream",
     "text": [
      "['even', 'odd', 'odd']\n"
     ]
    }
   ],
   "source": [
    "y = []\n",
    "for i in k2:\n",
    "    if i %2 == 0:\n",
    "        y.append(\"even\")\n",
    "    else:\n",
    "        y.append(\"odd\")\n",
    "print(y)"
   ]
  },
  {
   "cell_type": "code",
   "execution_count": 23,
   "id": "5ed4c122",
   "metadata": {},
   "outputs": [],
   "source": [
    "por = [12, 38, 20, 10, 58, 17]"
   ]
  },
  {
   "cell_type": "code",
   "execution_count": 24,
   "id": "2e386e5d",
   "metadata": {},
   "outputs": [],
   "source": [
    "\n",
    "def frac(c):\n",
    "    p = []\n",
    "    for i in c:\n",
    "        p.append(i/100)\n",
    "    return p\n",
    "    "
   ]
  },
  {
   "cell_type": "code",
   "execution_count": 25,
   "id": "6bf5efb1",
   "metadata": {},
   "outputs": [
    {
     "data": {
      "text/plain": [
       "[0.12, 0.38, 0.2, 0.1, 0.58, 0.17]"
      ]
     },
     "execution_count": 25,
     "metadata": {},
     "output_type": "execute_result"
    }
   ],
   "source": [
    "frac(por)"
   ]
  },
  {
   "cell_type": "code",
   "execution_count": null,
   "id": "4798c681",
   "metadata": {},
   "outputs": [],
   "source": []
  }
 ],
 "metadata": {
  "kernelspec": {
   "display_name": "Python 3 (ipykernel)",
   "language": "python",
   "name": "python3"
  },
  "language_info": {
   "codemirror_mode": {
    "name": "ipython",
    "version": 3
   },
   "file_extension": ".py",
   "mimetype": "text/x-python",
   "name": "python",
   "nbconvert_exporter": "python",
   "pygments_lexer": "ipython3",
   "version": "3.9.6"
  }
 },
 "nbformat": 4,
 "nbformat_minor": 5
}
