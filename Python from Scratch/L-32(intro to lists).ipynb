{
 "cells": [
  {
   "cell_type": "code",
   "execution_count": 1,
   "id": "22bcdc4d",
   "metadata": {},
   "outputs": [],
   "source": [
    "#build in data structures are list, dictornaries, sets and tuples"
   ]
  },
  {
   "cell_type": "code",
   "execution_count": 2,
   "id": "6118ccca",
   "metadata": {},
   "outputs": [],
   "source": [
    "a = [1, 2, 3, 5]"
   ]
  },
  {
   "cell_type": "code",
   "execution_count": 3,
   "id": "1395ea6b",
   "metadata": {},
   "outputs": [
    {
     "data": {
      "text/plain": [
       "list"
      ]
     },
     "execution_count": 3,
     "metadata": {},
     "output_type": "execute_result"
    }
   ],
   "source": [
    "type(a)"
   ]
  },
  {
   "cell_type": "code",
   "execution_count": 4,
   "id": "01502b5a",
   "metadata": {},
   "outputs": [],
   "source": [
    "mud_wt = [9.5, 5.1, 10.3]"
   ]
  },
  {
   "cell_type": "code",
   "execution_count": 5,
   "id": "8774bd64",
   "metadata": {},
   "outputs": [],
   "source": [
    "list_1 = [12, 3.4, \"Hello\", True, 5+4j]"
   ]
  },
  {
   "cell_type": "code",
   "execution_count": 6,
   "id": "a6d88a96",
   "metadata": {},
   "outputs": [
    {
     "data": {
      "text/plain": [
       "list"
      ]
     },
     "execution_count": 6,
     "metadata": {},
     "output_type": "execute_result"
    }
   ],
   "source": [
    "type(list_1)"
   ]
  },
  {
   "cell_type": "code",
   "execution_count": 7,
   "id": "50412748",
   "metadata": {},
   "outputs": [
    {
     "name": "stdout",
     "output_type": "stream",
     "text": [
      "[12, 3.4, 'Hello', True, (5+4j)]\n"
     ]
    }
   ],
   "source": [
    "print(list_1)"
   ]
  },
  {
   "cell_type": "code",
   "execution_count": 8,
   "id": "315ad628",
   "metadata": {},
   "outputs": [
    {
     "name": "stdout",
     "output_type": "stream",
     "text": [
      "True\n"
     ]
    }
   ],
   "source": [
    "print(list_1[3])"
   ]
  },
  {
   "cell_type": "code",
   "execution_count": 9,
   "id": "ab92ac74",
   "metadata": {},
   "outputs": [],
   "source": [
    "curves = [\"IPR\", \"TPR\", \"WPR\", \"CPR\"]"
   ]
  },
  {
   "cell_type": "code",
   "execution_count": 10,
   "id": "e9751aa9",
   "metadata": {},
   "outputs": [
    {
     "data": {
      "text/plain": [
       "['IPR', 'TPR']"
      ]
     },
     "execution_count": 10,
     "metadata": {},
     "output_type": "execute_result"
    }
   ],
   "source": [
    "curves[0:2]"
   ]
  },
  {
   "cell_type": "code",
   "execution_count": 11,
   "id": "4dada3c3",
   "metadata": {},
   "outputs": [
    {
     "data": {
      "text/plain": [
       "['IPR', 'TPR', 'WPR', 'CPR']"
      ]
     },
     "execution_count": 11,
     "metadata": {},
     "output_type": "execute_result"
    }
   ],
   "source": [
    "curves[0:]"
   ]
  },
  {
   "cell_type": "code",
   "execution_count": 12,
   "id": "dafea9e4",
   "metadata": {},
   "outputs": [
    {
     "data": {
      "text/plain": [
       "['IPR', 'WPR']"
      ]
     },
     "execution_count": 12,
     "metadata": {},
     "output_type": "execute_result"
    }
   ],
   "source": [
    "curves[0:4:2]"
   ]
  },
  {
   "cell_type": "code",
   "execution_count": 15,
   "id": "d9455873",
   "metadata": {},
   "outputs": [
    {
     "data": {
      "text/plain": [
       "['CPR', 'WPR', 'TPR', 'IPR']"
      ]
     },
     "execution_count": 15,
     "metadata": {},
     "output_type": "execute_result"
    }
   ],
   "source": [
    "curves[::-1]"
   ]
  },
  {
   "cell_type": "code",
   "execution_count": null,
   "id": "3d56e497",
   "metadata": {},
   "outputs": [],
   "source": [
    "pressure = [100, 2]"
   ]
  }
 ],
 "metadata": {
  "kernelspec": {
   "display_name": "Python 3 (ipykernel)",
   "language": "python",
   "name": "python3"
  },
  "language_info": {
   "codemirror_mode": {
    "name": "ipython",
    "version": 3
   },
   "file_extension": ".py",
   "mimetype": "text/x-python",
   "name": "python",
   "nbconvert_exporter": "python",
   "pygments_lexer": "ipython3",
   "version": "3.9.6"
  }
 },
 "nbformat": 4,
 "nbformat_minor": 5
}
