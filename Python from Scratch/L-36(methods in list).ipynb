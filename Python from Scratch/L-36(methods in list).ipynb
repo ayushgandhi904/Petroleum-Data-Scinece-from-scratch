{
 "cells": [
  {
   "cell_type": "code",
   "execution_count": 1,
   "id": "8abb601a",
   "metadata": {},
   "outputs": [],
   "source": [
    "#count\n",
    "#sort \n",
    "#sorting \n",
    "#clear\n",
    "#split\n",
    "#join"
   ]
  },
  {
   "cell_type": "code",
   "execution_count": 2,
   "id": "0694526b",
   "metadata": {},
   "outputs": [],
   "source": [
    "#count\n",
    "\n",
    "phi = [0.3, 0.3, 0.1, 0.2, 0.8, 0.2, 0.9, 1]"
   ]
  },
  {
   "cell_type": "code",
   "execution_count": 3,
   "id": "85df4a1c",
   "metadata": {},
   "outputs": [
    {
     "data": {
      "text/plain": [
       "2"
      ]
     },
     "execution_count": 3,
     "metadata": {},
     "output_type": "execute_result"
    }
   ],
   "source": [
    "phi.count(0.3)"
   ]
  },
  {
   "cell_type": "code",
   "execution_count": 13,
   "id": "8ec13782",
   "metadata": {},
   "outputs": [],
   "source": [
    "alpha = [\"a\", \"b\", \"c\",\"b\", \"c\"]"
   ]
  },
  {
   "cell_type": "code",
   "execution_count": 6,
   "id": "5b805379",
   "metadata": {},
   "outputs": [
    {
     "data": {
      "text/plain": [
       "2"
      ]
     },
     "execution_count": 6,
     "metadata": {},
     "output_type": "execute_result"
    }
   ],
   "source": [
    "alpha.count(\"b\")"
   ]
  },
  {
   "cell_type": "code",
   "execution_count": 7,
   "id": "102594b6",
   "metadata": {},
   "outputs": [],
   "source": [
    "phi = [0.3, 0.3, 0.1, 0.2, 0.8, 0.2, 0.9, 1]"
   ]
  },
  {
   "cell_type": "code",
   "execution_count": 8,
   "id": "7a1607be",
   "metadata": {},
   "outputs": [],
   "source": [
    "phi.sort()"
   ]
  },
  {
   "cell_type": "code",
   "execution_count": 9,
   "id": "a8c5a78f",
   "metadata": {},
   "outputs": [
    {
     "name": "stdout",
     "output_type": "stream",
     "text": [
      "[0.1, 0.2, 0.2, 0.3, 0.3, 0.8, 0.9, 1]\n"
     ]
    }
   ],
   "source": [
    "print(phi)"
   ]
  },
  {
   "cell_type": "code",
   "execution_count": 15,
   "id": "a6738d33",
   "metadata": {},
   "outputs": [],
   "source": [
    "alpha.sort()"
   ]
  },
  {
   "cell_type": "code",
   "execution_count": 16,
   "id": "e9ba229f",
   "metadata": {},
   "outputs": [
    {
     "name": "stdout",
     "output_type": "stream",
     "text": [
      "['a', 'b', 'b', 'c', 'c']\n"
     ]
    }
   ],
   "source": [
    "print(alpha)"
   ]
  },
  {
   "cell_type": "code",
   "execution_count": 20,
   "id": "064352c7",
   "metadata": {},
   "outputs": [],
   "source": [
    "num = [12, 4, 5, 99, 1020]"
   ]
  },
  {
   "cell_type": "code",
   "execution_count": 23,
   "id": "689fc50c",
   "metadata": {},
   "outputs": [
    {
     "data": {
      "text/plain": [
       "[4, 5, 12, 99, 1020]"
      ]
     },
     "execution_count": 23,
     "metadata": {},
     "output_type": "execute_result"
    }
   ],
   "source": [
    "#original doensn't change\n",
    "sorted(num)"
   ]
  },
  {
   "cell_type": "code",
   "execution_count": 24,
   "id": "12a6bb9e",
   "metadata": {},
   "outputs": [
    {
     "data": {
      "text/plain": [
       "[12, 4, 5, 99, 1020]"
      ]
     },
     "execution_count": 24,
     "metadata": {},
     "output_type": "execute_result"
    }
   ],
   "source": [
    "num"
   ]
  },
  {
   "cell_type": "code",
   "execution_count": 25,
   "id": "ef02c2f0",
   "metadata": {},
   "outputs": [],
   "source": [
    "num.clear()"
   ]
  },
  {
   "cell_type": "code",
   "execution_count": 26,
   "id": "a5f58ad3",
   "metadata": {},
   "outputs": [
    {
     "data": {
      "text/plain": [
       "[]"
      ]
     },
     "execution_count": 26,
     "metadata": {},
     "output_type": "execute_result"
    }
   ],
   "source": [
    "num"
   ]
  },
  {
   "cell_type": "code",
   "execution_count": 27,
   "id": "cf1f0598",
   "metadata": {},
   "outputs": [],
   "source": [
    "#copy \n",
    "\n",
    "abc = [\"Hey\", \"Ayush\", 8, 9, 1, True]"
   ]
  },
  {
   "cell_type": "code",
   "execution_count": 28,
   "id": "ad64b7b3",
   "metadata": {},
   "outputs": [],
   "source": [
    "xyz = abc.copy()"
   ]
  },
  {
   "cell_type": "code",
   "execution_count": 29,
   "id": "a2de7218",
   "metadata": {},
   "outputs": [
    {
     "data": {
      "text/plain": [
       "['Hey', 'Ayush', 8, 9, 1, True]"
      ]
     },
     "execution_count": 29,
     "metadata": {},
     "output_type": "execute_result"
    }
   ],
   "source": [
    "xyz"
   ]
  },
  {
   "cell_type": "code",
   "execution_count": 30,
   "id": "d50192ba",
   "metadata": {},
   "outputs": [
    {
     "name": "stdout",
     "output_type": "stream",
     "text": [
      "enter the full nameAyush N Gandhi\n"
     ]
    }
   ],
   "source": [
    "full_name = input(\"enter the full name\").split()"
   ]
  },
  {
   "cell_type": "code",
   "execution_count": 31,
   "id": "124beb58",
   "metadata": {},
   "outputs": [
    {
     "name": "stdout",
     "output_type": "stream",
     "text": [
      "['Ayush', 'N', 'Gandhi']\n"
     ]
    }
   ],
   "source": [
    "print(full_name)"
   ]
  },
  {
   "cell_type": "code",
   "execution_count": 33,
   "id": "87997f83",
   "metadata": {},
   "outputs": [
    {
     "data": {
      "text/plain": [
       "'Ayush N Gandhi'"
      ]
     },
     "execution_count": 33,
     "metadata": {},
     "output_type": "execute_result"
    }
   ],
   "source": [
    "# join \n",
    "(' ').join(full_name)"
   ]
  },
  {
   "cell_type": "code",
   "execution_count": null,
   "id": "a12215ed",
   "metadata": {},
   "outputs": [],
   "source": []
  }
 ],
 "metadata": {
  "kernelspec": {
   "display_name": "Python 3 (ipykernel)",
   "language": "python",
   "name": "python3"
  },
  "language_info": {
   "codemirror_mode": {
    "name": "ipython",
    "version": 3
   },
   "file_extension": ".py",
   "mimetype": "text/x-python",
   "name": "python",
   "nbconvert_exporter": "python",
   "pygments_lexer": "ipython3",
   "version": "3.9.6"
  }
 },
 "nbformat": 4,
 "nbformat_minor": 5
}
