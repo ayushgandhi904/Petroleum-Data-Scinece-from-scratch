{
 "cells": [
  {
   "cell_type": "code",
   "execution_count": 4,
   "id": "f121a526",
   "metadata": {},
   "outputs": [
    {
     "name": "stdout",
     "output_type": "stream",
     "text": [
      "Enter the value of permeablility4, 4, 1\n"
     ]
    },
    {
     "data": {
      "text/plain": [
       "1"
      ]
     },
     "execution_count": 4,
     "metadata": {},
     "output_type": "execute_result"
    }
   ],
   "source": [
    "k1, k2, k3 = input(\"Enter the value of permeablility\").split(\",\")\n",
    "\n",
    "k1 = int(k1)\n",
    "k2 = int(k2)\n",
    "k3 = int(k3)\n",
    "\n",
    "def high_per(a, b, c):\n",
    "    if a>b and a>c:\n",
    "        return a\n",
    "    elif b>c and b>a:\n",
    "        return b\n",
    "    else:\n",
    "        return c\n",
    "high_per(k1, k2, k3)"
   ]
  },
  {
   "cell_type": "code",
   "execution_count": 5,
   "id": "7ecef9dd",
   "metadata": {},
   "outputs": [
    {
     "name": "stdout",
     "output_type": "stream",
     "text": [
      "Enter the value of permeablility8, 1, 7\n"
     ]
    },
    {
     "data": {
      "text/plain": [
       "8"
      ]
     },
     "execution_count": 5,
     "metadata": {},
     "output_type": "execute_result"
    }
   ],
   "source": [
    "#functions inside functions\n",
    "\n",
    "k1, k2, k3 = input(\"Enter the value of permeablility\").split(\",\")\n",
    "\n",
    "k1 = int(k1)\n",
    "k2 = int(k2)\n",
    "k3 = int(k3)\n",
    "\n",
    "def h_p(a, b):\n",
    "    if a>b:\n",
    "        return a\n",
    "    else:\n",
    "        return b\n",
    "def m_p(x, y, z):\n",
    "    return h_p(h_p(x, y), z)\n",
    "\n",
    "m_p(k1, k2, k3)"
   ]
  },
  {
   "cell_type": "code",
   "execution_count": null,
   "id": "a5a9a4f6",
   "metadata": {},
   "outputs": [],
   "source": []
  }
 ],
 "metadata": {
  "kernelspec": {
   "display_name": "Python 3 (ipykernel)",
   "language": "python",
   "name": "python3"
  },
  "language_info": {
   "codemirror_mode": {
    "name": "ipython",
    "version": 3
   },
   "file_extension": ".py",
   "mimetype": "text/x-python",
   "name": "python",
   "nbconvert_exporter": "python",
   "pygments_lexer": "ipython3",
   "version": "3.9.6"
  }
 },
 "nbformat": 4,
 "nbformat_minor": 5
}
