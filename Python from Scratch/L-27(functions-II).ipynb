{
 "cells": [
  {
   "cell_type": "code",
   "execution_count": null,
   "id": "ad1240f8",
   "metadata": {},
   "outputs": [],
   "source": [
    "sat_water = float(input(\"Enter the water saturation\"))\n",
    "\n",
    "print(f\"Hydrocarbon saturation is {1-sat_water}\")"
   ]
  },
  {
   "cell_type": "code",
   "execution_count": null,
   "id": "c24539ac",
   "metadata": {},
   "outputs": [],
   "source": [
    "sat_water = float(input(\"Enter the water saturation\"))\n",
    "\n",
    "def hc_sat(sat_water):\n",
    "    return (f\"HC saturation is {1-sat_water}\")\n",
    "\n"
   ]
  },
  {
   "cell_type": "code",
   "execution_count": 6,
   "id": "2ea896c2",
   "metadata": {},
   "outputs": [
    {
     "data": {
      "text/plain": [
       "'HC saturation is -4.0'"
      ]
     },
     "execution_count": 6,
     "metadata": {},
     "output_type": "execute_result"
    }
   ],
   "source": [
    "hc_sat(sat_water)"
   ]
  },
  {
   "cell_type": "code",
   "execution_count": 1,
   "id": "6459a340",
   "metadata": {},
   "outputs": [
    {
     "name": "stdout",
     "output_type": "stream",
     "text": [
      "Enter a porosity value55\n",
      "incorrect \n"
     ]
    }
   ],
   "source": [
    "por = float(input(\"Enter a porosity value\"))\n",
    "\n",
    "def porosity(por):\n",
    "    if por < 1:\n",
    "        print(\"correct\")\n",
    "    else:\n",
    "        print(\"incorrect \")\n",
    "porosity(por)"
   ]
  },
  {
   "cell_type": "code",
   "execution_count": null,
   "id": "ea838934",
   "metadata": {},
   "outputs": [],
   "source": []
  }
 ],
 "metadata": {
  "kernelspec": {
   "display_name": "Python 3 (ipykernel)",
   "language": "python",
   "name": "python3"
  },
  "language_info": {
   "codemirror_mode": {
    "name": "ipython",
    "version": 3
   },
   "file_extension": ".py",
   "mimetype": "text/x-python",
   "name": "python",
   "nbconvert_exporter": "python",
   "pygments_lexer": "ipython3",
   "version": "3.9.6"
  }
 },
 "nbformat": 4,
 "nbformat_minor": 5
}
