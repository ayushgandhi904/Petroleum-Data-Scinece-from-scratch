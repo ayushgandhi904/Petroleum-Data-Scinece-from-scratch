{
 "cells": [
  {
   "cell_type": "code",
   "execution_count": 2,
   "id": "adf1da9b",
   "metadata": {},
   "outputs": [],
   "source": [
    "class Reservoir:\n",
    "    def __init__(self, per, por, location):\n",
    "        self.per = per\n",
    "        self.por = por\n",
    "        self.location = location\n",
    "        \n",
    "    def describe(self):\n",
    "        return (f\"The reseroir porosity is {self.por} and reservoir permeability is {self.per}\")\n",
    "    def locations(self):\n",
    "        return (f\"The field is located in {self.location}\")\n",
    "\n",
    "class Any(Reservoir):\n",
    "    def __init__(self, per, por, location, pi, pb):\n",
    "        super().__init__(per, por, location)\n",
    "        self.pi = pi\n",
    "        self.pb = pb\n",
    "    def pres(self):\n",
    "        return (f\"initial bubble point is {self.pi} and final bubble point is {self.pb}\")\n",
    "\n",
    "class Res(Any):\n",
    "    def __init__(self, per, por, location, pi, pb, sw):\n",
    "        super().__init__(per, por, location, pi, pb)\n",
    "        self.sw = sw\n",
    "    def saw(self):\n",
    "        return (f\"water saturation is {self.sw}\")\n",
    "    \n",
    "    def describe(self):\n",
    "        return(\"haha  time pass\")"
   ]
  },
  {
   "cell_type": "code",
   "execution_count": 3,
   "id": "c2b5abfc",
   "metadata": {},
   "outputs": [],
   "source": [
    "a = Reservoir(18, 0.1, \"Ahem\")\n",
    "b = Res(18, 0.1, \"Nath\", 9399, 8244, 0.2)"
   ]
  },
  {
   "cell_type": "code",
   "execution_count": 4,
   "id": "4cffbd05",
   "metadata": {},
   "outputs": [
    {
     "data": {
      "text/plain": [
       "'The reseroir porosity is 0.1 and reservoir permeability is 18'"
      ]
     },
     "execution_count": 4,
     "metadata": {},
     "output_type": "execute_result"
    }
   ],
   "source": [
    "a.describe()"
   ]
  },
  {
   "cell_type": "code",
   "execution_count": 5,
   "id": "ef925529",
   "metadata": {},
   "outputs": [
    {
     "data": {
      "text/plain": [
       "'haha  time pass'"
      ]
     },
     "execution_count": 5,
     "metadata": {},
     "output_type": "execute_result"
    }
   ],
   "source": [
    "b.describe()"
   ]
  },
  {
   "cell_type": "code",
   "execution_count": 6,
   "id": "3e1fa447",
   "metadata": {},
   "outputs": [],
   "source": [
    "# polymorphism - overwriting the same thing"
   ]
  },
  {
   "cell_type": "code",
   "execution_count": 7,
   "id": "f00e5484",
   "metadata": {},
   "outputs": [],
   "source": [
    "#instances method  ----> check that belong to that class or not"
   ]
  },
  {
   "cell_type": "code",
   "execution_count": 12,
   "id": "805b5e86",
   "metadata": {},
   "outputs": [
    {
     "data": {
      "text/plain": [
       "False"
      ]
     },
     "execution_count": 12,
     "metadata": {},
     "output_type": "execute_result"
    }
   ],
   "source": [
    "isinstance(a, Res)"
   ]
  },
  {
   "cell_type": "code",
   "execution_count": 13,
   "id": "7f820db5",
   "metadata": {},
   "outputs": [],
   "source": [
    "#insubclass mehtod ======> check that class is parent class of that or not "
   ]
  },
  {
   "cell_type": "code",
   "execution_count": 14,
   "id": "2de4ff50",
   "metadata": {},
   "outputs": [
    {
     "data": {
      "text/plain": [
       "True"
      ]
     },
     "execution_count": 14,
     "metadata": {},
     "output_type": "execute_result"
    }
   ],
   "source": [
    "issubclass(Res, Reservoir)"
   ]
  },
  {
   "cell_type": "code",
   "execution_count": 15,
   "id": "07a0ab47",
   "metadata": {},
   "outputs": [
    {
     "data": {
      "text/plain": [
       "False"
      ]
     },
     "execution_count": 15,
     "metadata": {},
     "output_type": "execute_result"
    }
   ],
   "source": [
    "issubclass(Reservoir, Res)"
   ]
  },
  {
   "cell_type": "code",
   "execution_count": null,
   "id": "cdfdcea2",
   "metadata": {},
   "outputs": [],
   "source": []
  }
 ],
 "metadata": {
  "kernelspec": {
   "display_name": "Python 3 (ipykernel)",
   "language": "python",
   "name": "python3"
  },
  "language_info": {
   "codemirror_mode": {
    "name": "ipython",
    "version": 3
   },
   "file_extension": ".py",
   "mimetype": "text/x-python",
   "name": "python",
   "nbconvert_exporter": "python",
   "pygments_lexer": "ipython3",
   "version": "3.9.6"
  }
 },
 "nbformat": 4,
 "nbformat_minor": 5
}
