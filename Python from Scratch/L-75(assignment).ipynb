{
 "cells": [
  {
   "cell_type": "code",
   "execution_count": 1,
   "id": "de21cede",
   "metadata": {},
   "outputs": [],
   "source": [
    "class Well:\n",
    "    \n",
    "    def __init__(self, completion_type, no_of_zones, depth_of_wells):\n",
    "        \n",
    "        self.com = completion_type\n",
    "        self.zon = no_of_zones\n",
    "        self.wel = depth_of_wells"
   ]
  },
  {
   "cell_type": "code",
   "execution_count": 2,
   "id": "1539a966",
   "metadata": {},
   "outputs": [],
   "source": [
    "a = Well(\"casing\", 3, 2833)"
   ]
  },
  {
   "cell_type": "code",
   "execution_count": 3,
   "id": "a1050d60",
   "metadata": {},
   "outputs": [
    {
     "data": {
      "text/plain": [
       "__main__.Well"
      ]
     },
     "execution_count": 3,
     "metadata": {},
     "output_type": "execute_result"
    }
   ],
   "source": [
    "type(a)"
   ]
  },
  {
   "cell_type": "code",
   "execution_count": 5,
   "id": "9e686ac8",
   "metadata": {},
   "outputs": [
    {
     "data": {
      "text/plain": [
       "'casing'"
      ]
     },
     "execution_count": 5,
     "metadata": {},
     "output_type": "execute_result"
    }
   ],
   "source": [
    "a.com"
   ]
  },
  {
   "cell_type": "code",
   "execution_count": null,
   "id": "419be2f1",
   "metadata": {},
   "outputs": [],
   "source": []
  }
 ],
 "metadata": {
  "kernelspec": {
   "display_name": "Python 3 (ipykernel)",
   "language": "python",
   "name": "python3"
  },
  "language_info": {
   "codemirror_mode": {
    "name": "ipython",
    "version": 3
   },
   "file_extension": ".py",
   "mimetype": "text/x-python",
   "name": "python",
   "nbconvert_exporter": "python",
   "pygments_lexer": "ipython3",
   "version": "3.9.6"
  }
 },
 "nbformat": 4,
 "nbformat_minor": 5
}
