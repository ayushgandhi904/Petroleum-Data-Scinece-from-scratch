{
 "cells": [
  {
   "cell_type": "code",
   "execution_count": 13,
   "id": "8dcf3bad",
   "metadata": {},
   "outputs": [
    {
     "name": "stdout",
     "output_type": "stream",
     "text": [
      "Enter any number in psi58949\n",
      "35\n"
     ]
    }
   ],
   "source": [
    "#while\n",
    "press = input(\"Enter any number in psi\")\n",
    "\n",
    "x = 0\n",
    "sum = 0\n",
    "\n",
    "while x < len(press):\n",
    "    sum += int(press[x])\n",
    "    x += 1\n",
    "print(sum)\n"
   ]
  },
  {
   "cell_type": "code",
   "execution_count": 22,
   "id": "dd9513ad",
   "metadata": {},
   "outputs": [
    {
     "name": "stdout",
     "output_type": "stream",
     "text": [
      "enter the pressure515\n",
      "11\n"
     ]
    }
   ],
   "source": [
    "#for\n",
    "p = int)input(\"enter the pressure\")\n",
    "\n",
    "sum = 0\n",
    "\n",
    "for i in range(0, len(p)):\n",
    "    sum = sum + int(p[i])\n",
    "\n",
    "print(sum)"
   ]
  },
  {
   "cell_type": "code",
   "execution_count": null,
   "id": "54d831ed",
   "metadata": {},
   "outputs": [],
   "source": []
  }
 ],
 "metadata": {
  "kernelspec": {
   "display_name": "Python 3 (ipykernel)",
   "language": "python",
   "name": "python3"
  },
  "language_info": {
   "codemirror_mode": {
    "name": "ipython",
    "version": 3
   },
   "file_extension": ".py",
   "mimetype": "text/x-python",
   "name": "python",
   "nbconvert_exporter": "python",
   "pygments_lexer": "ipython3",
   "version": "3.9.6"
  }
 },
 "nbformat": 4,
 "nbformat_minor": 5
}
