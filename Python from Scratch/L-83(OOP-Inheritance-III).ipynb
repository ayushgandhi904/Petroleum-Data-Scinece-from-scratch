{
 "cells": [
  {
   "cell_type": "code",
   "execution_count": 2,
   "id": "f9b2dab8",
   "metadata": {},
   "outputs": [],
   "source": [
    "class Reservoir:\n",
    "    def __init__(self, per, por, location):\n",
    "        self.per = per\n",
    "        self.por = por\n",
    "        self.location = location\n",
    "        \n",
    "    def describe(self):\n",
    "        return (f\"The reseroir porosity is {self.por} and reservoir permeability is {self.per}\")\n",
    "    def locations(self):\n",
    "        return (f\"The field is located in {self.location}\")"
   ]
  },
  {
   "cell_type": "code",
   "execution_count": 4,
   "id": "7918f3cd",
   "metadata": {},
   "outputs": [],
   "source": [
    "class Any(Reservoir):\n",
    "    def __init__(self, per, por, location, pi, pb):\n",
    "        super().__init__(per, por, location)\n",
    "        self.pi = pi\n",
    "        self.pb = pb\n",
    "    def pres(self):\n",
    "        return (f\"initial bubble point is {self.pi} and final bubble point is {self.pb}\")"
   ]
  },
  {
   "cell_type": "code",
   "execution_count": 5,
   "id": "4435599a",
   "metadata": {},
   "outputs": [],
   "source": [
    "a = Any(12, 0.53, \"Guj\", 5000, 4000)"
   ]
  },
  {
   "cell_type": "code",
   "execution_count": 6,
   "id": "16eeca7a",
   "metadata": {},
   "outputs": [
    {
     "data": {
      "text/plain": [
       "'The reseroir porosity is 0.53 and reservoir permeability is 12'"
      ]
     },
     "execution_count": 6,
     "metadata": {},
     "output_type": "execute_result"
    }
   ],
   "source": [
    "a.describe()"
   ]
  },
  {
   "cell_type": "code",
   "execution_count": 7,
   "id": "759618ec",
   "metadata": {},
   "outputs": [
    {
     "data": {
      "text/plain": [
       "'initial bubble point is 5000 and final bubble point is 4000'"
      ]
     },
     "execution_count": 7,
     "metadata": {},
     "output_type": "execute_result"
    }
   ],
   "source": [
    "a.pres()"
   ]
  },
  {
   "cell_type": "code",
   "execution_count": 8,
   "id": "671206be",
   "metadata": {},
   "outputs": [],
   "source": [
    "class Res(Any):\n",
    "    def __init__(self, per, por, location, pi, pb, sw):\n",
    "        super().__init__(per, por, location, pi, pb)\n",
    "        self.sw = sw\n",
    "    def saw(self):\n",
    "        return (f\"water saturation is {self.sw}\")"
   ]
  },
  {
   "cell_type": "code",
   "execution_count": 10,
   "id": "d7e25749",
   "metadata": {},
   "outputs": [],
   "source": [
    "x = Res(12, 0.1, \"Raja\", 8329, 2983, 0.4)"
   ]
  },
  {
   "cell_type": "code",
   "execution_count": 11,
   "id": "09957516",
   "metadata": {},
   "outputs": [
    {
     "data": {
      "text/plain": [
       "'water saturation is 0.4'"
      ]
     },
     "execution_count": 11,
     "metadata": {},
     "output_type": "execute_result"
    }
   ],
   "source": [
    "x.saw()"
   ]
  },
  {
   "cell_type": "code",
   "execution_count": 12,
   "id": "8fa34a51",
   "metadata": {},
   "outputs": [
    {
     "data": {
      "text/plain": [
       "'The reseroir porosity is 0.1 and reservoir permeability is 12'"
      ]
     },
     "execution_count": 12,
     "metadata": {},
     "output_type": "execute_result"
    }
   ],
   "source": [
    "x.describe()"
   ]
  },
  {
   "cell_type": "code",
   "execution_count": null,
   "id": "c78ce372",
   "metadata": {},
   "outputs": [],
   "source": []
  }
 ],
 "metadata": {
  "kernelspec": {
   "display_name": "Python 3 (ipykernel)",
   "language": "python",
   "name": "python3"
  },
  "language_info": {
   "codemirror_mode": {
    "name": "ipython",
    "version": 3
   },
   "file_extension": ".py",
   "mimetype": "text/x-python",
   "name": "python",
   "nbconvert_exporter": "python",
   "pygments_lexer": "ipython3",
   "version": "3.9.6"
  }
 },
 "nbformat": 4,
 "nbformat_minor": 5
}
