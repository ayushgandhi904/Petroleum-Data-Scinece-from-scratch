{
 "cells": [
  {
   "cell_type": "code",
   "execution_count": 1,
   "id": "f5c1783a",
   "metadata": {},
   "outputs": [],
   "source": [
    "num = (1, 2, 3)"
   ]
  },
  {
   "cell_type": "code",
   "execution_count": 2,
   "id": "91510eda",
   "metadata": {},
   "outputs": [
    {
     "data": {
      "text/plain": [
       "tuple"
      ]
     },
     "execution_count": 2,
     "metadata": {},
     "output_type": "execute_result"
    }
   ],
   "source": [
    "type(num)"
   ]
  },
  {
   "cell_type": "code",
   "execution_count": 3,
   "id": "44ebcdd7",
   "metadata": {},
   "outputs": [],
   "source": [
    "abc = (1, \"Hello\", True)"
   ]
  },
  {
   "cell_type": "code",
   "execution_count": 4,
   "id": "16a6adf5",
   "metadata": {},
   "outputs": [
    {
     "data": {
      "text/plain": [
       "tuple"
      ]
     },
     "execution_count": 4,
     "metadata": {},
     "output_type": "execute_result"
    }
   ],
   "source": [
    "type(abc)"
   ]
  },
  {
   "cell_type": "code",
   "execution_count": 5,
   "id": "3d494962",
   "metadata": {},
   "outputs": [
    {
     "data": {
      "text/plain": [
       "int"
      ]
     },
     "execution_count": 5,
     "metadata": {},
     "output_type": "execute_result"
    }
   ],
   "source": [
    "x = (2)\n",
    "type(x)"
   ]
  },
  {
   "cell_type": "code",
   "execution_count": 6,
   "id": "1141f571",
   "metadata": {},
   "outputs": [
    {
     "data": {
      "text/plain": [
       "tuple"
      ]
     },
     "execution_count": 6,
     "metadata": {},
     "output_type": "execute_result"
    }
   ],
   "source": [
    "y = (2, )\n",
    "type(y)"
   ]
  },
  {
   "cell_type": "code",
   "execution_count": 7,
   "id": "e4ec4bdb",
   "metadata": {},
   "outputs": [],
   "source": [
    "#tuples are fast compare to lists and that's y they are used "
   ]
  },
  {
   "cell_type": "code",
   "execution_count": 13,
   "id": "9cab8bbf",
   "metadata": {},
   "outputs": [],
   "source": [
    "phi = (0.1, 0.3, 0.5, 0.2, 0.1, 0.8, 0.2, 0.1)"
   ]
  },
  {
   "cell_type": "code",
   "execution_count": 14,
   "id": "c5b57a5b",
   "metadata": {},
   "outputs": [
    {
     "data": {
      "text/plain": [
       "3"
      ]
     },
     "execution_count": 14,
     "metadata": {},
     "output_type": "execute_result"
    }
   ],
   "source": [
    "phi.count(0.1)"
   ]
  },
  {
   "cell_type": "code",
   "execution_count": 15,
   "id": "03454f5b",
   "metadata": {},
   "outputs": [
    {
     "data": {
      "text/plain": [
       "1"
      ]
     },
     "execution_count": 15,
     "metadata": {},
     "output_type": "execute_result"
    }
   ],
   "source": [
    "phi.index(0.3)"
   ]
  },
  {
   "cell_type": "code",
   "execution_count": 16,
   "id": "13465871",
   "metadata": {},
   "outputs": [
    {
     "data": {
      "text/plain": [
       "4"
      ]
     },
     "execution_count": 16,
     "metadata": {},
     "output_type": "execute_result"
    }
   ],
   "source": [
    "phi.index(0.1, 1)"
   ]
  },
  {
   "cell_type": "code",
   "execution_count": 17,
   "id": "34ce4d3a",
   "metadata": {},
   "outputs": [
    {
     "data": {
      "text/plain": [
       "7"
      ]
     },
     "execution_count": 17,
     "metadata": {},
     "output_type": "execute_result"
    }
   ],
   "source": [
    "phi.index(0.1, 5)"
   ]
  },
  {
   "cell_type": "code",
   "execution_count": 18,
   "id": "82279c78",
   "metadata": {},
   "outputs": [
    {
     "data": {
      "text/plain": [
       "0.1"
      ]
     },
     "execution_count": 18,
     "metadata": {},
     "output_type": "execute_result"
    }
   ],
   "source": [
    "phi[4]"
   ]
  },
  {
   "cell_type": "code",
   "execution_count": 19,
   "id": "f3436f17",
   "metadata": {},
   "outputs": [
    {
     "data": {
      "text/plain": [
       "8"
      ]
     },
     "execution_count": 19,
     "metadata": {},
     "output_type": "execute_result"
    }
   ],
   "source": [
    "len(phi)"
   ]
  },
  {
   "cell_type": "code",
   "execution_count": 20,
   "id": "09a7030a",
   "metadata": {},
   "outputs": [
    {
     "data": {
      "text/plain": [
       "(0.1, 0.2, 0.8, 0.1, 0.2, 0.5, 0.3, 0.1)"
      ]
     },
     "execution_count": 20,
     "metadata": {},
     "output_type": "execute_result"
    }
   ],
   "source": [
    "phi[::-1]"
   ]
  },
  {
   "cell_type": "code",
   "execution_count": 21,
   "id": "551197e9",
   "metadata": {},
   "outputs": [
    {
     "data": {
      "text/plain": [
       "(0.5, 0.1, 0.2)"
      ]
     },
     "execution_count": 21,
     "metadata": {},
     "output_type": "execute_result"
    }
   ],
   "source": [
    "phi[2::2]"
   ]
  },
  {
   "cell_type": "code",
   "execution_count": 22,
   "id": "784020a8",
   "metadata": {},
   "outputs": [],
   "source": [
    "#tuples are inmutable #no changes can be made"
   ]
  },
  {
   "cell_type": "code",
   "execution_count": 23,
   "id": "04040c4e",
   "metadata": {},
   "outputs": [],
   "source": [
    "#tuples in looping"
   ]
  },
  {
   "cell_type": "code",
   "execution_count": 24,
   "id": "a5f41173",
   "metadata": {},
   "outputs": [
    {
     "data": {
      "text/plain": [
       "(0.1, 0.3, 0.5, 0.2, 0.1, 0.8, 0.2, 0.1)"
      ]
     },
     "execution_count": 24,
     "metadata": {},
     "output_type": "execute_result"
    }
   ],
   "source": [
    "phi"
   ]
  },
  {
   "cell_type": "code",
   "execution_count": 26,
   "id": "f597d846",
   "metadata": {},
   "outputs": [
    {
     "name": "stdout",
     "output_type": "stream",
     "text": [
      "0.1\n",
      "0.3\n",
      "0.5\n",
      "0.2\n",
      "0.1\n",
      "0.8\n",
      "0.2\n",
      "0.1\n"
     ]
    }
   ],
   "source": [
    "i = 0 \n",
    "while i < len(phi):\n",
    "    print(phi[i])\n",
    "    i += 1"
   ]
  },
  {
   "cell_type": "code",
   "execution_count": 28,
   "id": "f6fd91e1",
   "metadata": {},
   "outputs": [
    {
     "name": "stdout",
     "output_type": "stream",
     "text": [
      "0.1\n",
      "0.3\n",
      "0.5\n",
      "0.2\n",
      "0.1\n",
      "0.8\n",
      "0.2\n",
      "0.1\n"
     ]
    }
   ],
   "source": [
    "for i in phi:\n",
    "    print (i)"
   ]
  },
  {
   "cell_type": "code",
   "execution_count": null,
   "id": "1d0b9375",
   "metadata": {},
   "outputs": [],
   "source": []
  }
 ],
 "metadata": {
  "kernelspec": {
   "display_name": "Python 3 (ipykernel)",
   "language": "python",
   "name": "python3"
  },
  "language_info": {
   "codemirror_mode": {
    "name": "ipython",
    "version": 3
   },
   "file_extension": ".py",
   "mimetype": "text/x-python",
   "name": "python",
   "nbconvert_exporter": "python",
   "pygments_lexer": "ipython3",
   "version": "3.9.6"
  }
 },
 "nbformat": 4,
 "nbformat_minor": 5
}
