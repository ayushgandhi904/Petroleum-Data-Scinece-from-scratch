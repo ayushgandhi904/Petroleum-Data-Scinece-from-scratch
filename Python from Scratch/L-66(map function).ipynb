{
 "cells": [
  {
   "cell_type": "code",
   "execution_count": 1,
   "id": "bc6af3ec",
   "metadata": {},
   "outputs": [],
   "source": [
    "mud_wt = [8.5, 10.4, 14.5, 12.1, 9.54]"
   ]
  },
  {
   "cell_type": "code",
   "execution_count": 2,
   "id": "d543d6a4",
   "metadata": {},
   "outputs": [],
   "source": [
    "def func(m):\n",
    "    return 0.052*m*3000"
   ]
  },
  {
   "cell_type": "code",
   "execution_count": 4,
   "id": "1caeaa7a",
   "metadata": {},
   "outputs": [
    {
     "data": {
      "text/plain": [
       "[1326.0, 1622.3999999999999, 2262.0, 1887.6, 1488.2399999999998]"
      ]
     },
     "execution_count": 4,
     "metadata": {},
     "output_type": "execute_result"
    }
   ],
   "source": [
    "list(map(func, mud_wt))"
   ]
  },
  {
   "cell_type": "code",
   "execution_count": 6,
   "id": "a547145b",
   "metadata": {},
   "outputs": [
    {
     "data": {
      "text/plain": [
       "(1326.0, 1622.3999999999999, 2262.0, 1887.6, 1488.2399999999998)"
      ]
     },
     "execution_count": 6,
     "metadata": {},
     "output_type": "execute_result"
    }
   ],
   "source": [
    "tuple(map(lambda a: 0.052*a*3000, mud_wt))"
   ]
  },
  {
   "cell_type": "code",
   "execution_count": null,
   "id": "6c9441a2",
   "metadata": {},
   "outputs": [],
   "source": []
  }
 ],
 "metadata": {
  "kernelspec": {
   "display_name": "Python 3 (ipykernel)",
   "language": "python",
   "name": "python3"
  },
  "language_info": {
   "codemirror_mode": {
    "name": "ipython",
    "version": 3
   },
   "file_extension": ".py",
   "mimetype": "text/x-python",
   "name": "python",
   "nbconvert_exporter": "python",
   "pygments_lexer": "ipython3",
   "version": "3.9.6"
  }
 },
 "nbformat": 4,
 "nbformat_minor": 5
}
