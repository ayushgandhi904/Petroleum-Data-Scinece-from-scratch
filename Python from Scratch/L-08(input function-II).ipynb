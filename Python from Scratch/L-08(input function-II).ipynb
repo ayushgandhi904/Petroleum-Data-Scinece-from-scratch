{
 "cells": [
  {
   "cell_type": "code",
   "execution_count": 2,
   "id": "ddacd324",
   "metadata": {},
   "outputs": [
    {
     "name": "stdout",
     "output_type": "stream",
     "text": [
      "What is your branch and favourite subject ?Petroleum Reservoir\n"
     ]
    }
   ],
   "source": [
    "branch, sub = input(\"What is your branch and favourite subject ?\").split()"
   ]
  },
  {
   "cell_type": "code",
   "execution_count": 3,
   "id": "978b50d7",
   "metadata": {},
   "outputs": [
    {
     "name": "stdout",
     "output_type": "stream",
     "text": [
      "Petroleum\n"
     ]
    }
   ],
   "source": [
    "print(branch)"
   ]
  },
  {
   "cell_type": "code",
   "execution_count": 4,
   "id": "cb2eee7e",
   "metadata": {},
   "outputs": [
    {
     "name": "stdout",
     "output_type": "stream",
     "text": [
      "Reservoir\n"
     ]
    }
   ],
   "source": [
    "print(sub)"
   ]
  },
  {
   "cell_type": "code",
   "execution_count": 6,
   "id": "c3b4ca20",
   "metadata": {},
   "outputs": [
    {
     "name": "stdout",
     "output_type": "stream",
     "text": [
      "What is your branch and favourite subject ?Petroleum, Drilling Engineering\n"
     ]
    }
   ],
   "source": [
    "branch, sub = input(\"What is your branch and favourite subject ?\").split(',')"
   ]
  },
  {
   "cell_type": "code",
   "execution_count": 7,
   "id": "8f5d9266",
   "metadata": {},
   "outputs": [
    {
     "name": "stdout",
     "output_type": "stream",
     "text": [
      " Drilling Engineering\n"
     ]
    }
   ],
   "source": [
    "print(sub)"
   ]
  },
  {
   "cell_type": "code",
   "execution_count": 12,
   "id": "f9eae631",
   "metadata": {},
   "outputs": [
    {
     "name": "stdout",
     "output_type": "stream",
     "text": [
      "Do you like memes?no\n",
      "no, I like memes\n"
     ]
    }
   ],
   "source": [
    "ques = input(\"Do you like memes?\")\n",
    "print(f\"{ques}, I like memes\" or f\"{ques}, I don't like memes\")\n"
   ]
  },
  {
   "cell_type": "code",
   "execution_count": null,
   "id": "74d8da1f",
   "metadata": {},
   "outputs": [],
   "source": []
  }
 ],
 "metadata": {
  "kernelspec": {
   "display_name": "Python 3 (ipykernel)",
   "language": "python",
   "name": "python3"
  },
  "language_info": {
   "codemirror_mode": {
    "name": "ipython",
    "version": 3
   },
   "file_extension": ".py",
   "mimetype": "text/x-python",
   "name": "python",
   "nbconvert_exporter": "python",
   "pygments_lexer": "ipython3",
   "version": "3.9.6"
  }
 },
 "nbformat": 4,
 "nbformat_minor": 5
}
