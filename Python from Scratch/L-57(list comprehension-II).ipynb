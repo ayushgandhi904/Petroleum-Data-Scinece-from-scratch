{
 "cells": [
  {
   "cell_type": "code",
   "execution_count": 3,
   "id": "fb66dcf0",
   "metadata": {},
   "outputs": [],
   "source": [
    "perm = [10, 14, 20, 25, 33, 35, 40, 45]"
   ]
  },
  {
   "cell_type": "code",
   "execution_count": 8,
   "id": "828ab8de",
   "metadata": {},
   "outputs": [],
   "source": [
    "less = []\n",
    "more = []\n",
    "\n",
    "for i in perm:\n",
    "    if i <32:\n",
    "        less.append(i)\n",
    "    else:\n",
    "        more.append(i)\n",
    "        \n",
    "\n",
    "        "
   ]
  },
  {
   "cell_type": "code",
   "execution_count": 9,
   "id": "1baf37de",
   "metadata": {},
   "outputs": [
    {
     "data": {
      "text/plain": [
       "[10, 14, 20, 25]"
      ]
     },
     "execution_count": 9,
     "metadata": {},
     "output_type": "execute_result"
    }
   ],
   "source": [
    "less"
   ]
  },
  {
   "cell_type": "code",
   "execution_count": 10,
   "id": "f130c0cc",
   "metadata": {},
   "outputs": [
    {
     "data": {
      "text/plain": [
       "[33, 35, 40, 45]"
      ]
     },
     "execution_count": 10,
     "metadata": {},
     "output_type": "execute_result"
    }
   ],
   "source": [
    "more"
   ]
  },
  {
   "cell_type": "code",
   "execution_count": 12,
   "id": "dd3b03b7",
   "metadata": {},
   "outputs": [],
   "source": [
    "#by list comprehension\n",
    "\n",
    "less_ = [i for i in perm if i< 32]\n",
    "more_ = [i for i in perm if i> 32]"
   ]
  },
  {
   "cell_type": "code",
   "execution_count": 13,
   "id": "a7295b42",
   "metadata": {},
   "outputs": [
    {
     "name": "stdout",
     "output_type": "stream",
     "text": [
      "[10, 14, 20, 25]\n"
     ]
    }
   ],
   "source": [
    "print(less_)"
   ]
  },
  {
   "cell_type": "code",
   "execution_count": 18,
   "id": "3603fed2",
   "metadata": {},
   "outputs": [
    {
     "name": "stdout",
     "output_type": "stream",
     "text": [
      "['even', 'even', 'even', 'odd', 'odd', 'odd', 'even', 'odd']\n"
     ]
    }
   ],
   "source": [
    "even_odd = []\n",
    "for i in perm:\n",
    "    if i%2 == 0:\n",
    "        even_odd.append(\"even\")\n",
    "    else:\n",
    "        even_odd.append(\"odd\")\n",
    "print(even_odd)"
   ]
  },
  {
   "cell_type": "code",
   "execution_count": 19,
   "id": "fdc3bfa6",
   "metadata": {},
   "outputs": [],
   "source": [
    "#list comphrension\n",
    "even_odd = [\"even\" if i%2 == 0 else \"odd\" for i in perm]"
   ]
  },
  {
   "cell_type": "code",
   "execution_count": 20,
   "id": "72dca108",
   "metadata": {},
   "outputs": [
    {
     "name": "stdout",
     "output_type": "stream",
     "text": [
      "['even', 'even', 'even', 'odd', 'odd', 'odd', 'even', 'odd']\n"
     ]
    }
   ],
   "source": [
    "print(even_odd)"
   ]
  },
  {
   "cell_type": "code",
   "execution_count": null,
   "id": "7a17780d",
   "metadata": {},
   "outputs": [],
   "source": []
  }
 ],
 "metadata": {
  "kernelspec": {
   "display_name": "Python 3 (ipykernel)",
   "language": "python",
   "name": "python3"
  },
  "language_info": {
   "codemirror_mode": {
    "name": "ipython",
    "version": 3
   },
   "file_extension": ".py",
   "mimetype": "text/x-python",
   "name": "python",
   "nbconvert_exporter": "python",
   "pygments_lexer": "ipython3",
   "version": "3.9.6"
  }
 },
 "nbformat": 4,
 "nbformat_minor": 5
}
