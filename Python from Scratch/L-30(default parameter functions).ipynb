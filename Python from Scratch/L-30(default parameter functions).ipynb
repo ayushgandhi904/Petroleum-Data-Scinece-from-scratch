{
 "cells": [
  {
   "cell_type": "code",
   "execution_count": 3,
   "id": "d74260ec",
   "metadata": {},
   "outputs": [],
   "source": [
    "def res_info(phi, k, h):\n",
    "    print(f\"reservoir average porosity is {phi}\")\n",
    "    print(f\"reservoir average permeability is {k}\")\n",
    "    print(f\"reservoir gross pay zone is {h}\")\n",
    "    "
   ]
  },
  {
   "cell_type": "code",
   "execution_count": 5,
   "id": "cbaaaf36",
   "metadata": {},
   "outputs": [
    {
     "name": "stdout",
     "output_type": "stream",
     "text": [
      "reservoir average porosity is 0.3\n",
      "reservoir average permeability is 3\n",
      "reservoir gross pay zone is 93\n"
     ]
    }
   ],
   "source": [
    "res_info(.3, 3, 93)"
   ]
  },
  {
   "cell_type": "code",
   "execution_count": 6,
   "id": "61fff992",
   "metadata": {},
   "outputs": [],
   "source": [
    "#default parameter \n",
    "\n",
    "def res_info(phi, k, h=60):\n",
    "    print(f\"reservoir average porosity is {phi}\")\n",
    "    print(f\"reservoir average permeability is {k}\")\n",
    "    print(f\"reservoir gross pay zone is {h}\")"
   ]
  },
  {
   "cell_type": "code",
   "execution_count": 7,
   "id": "32918846",
   "metadata": {},
   "outputs": [
    {
     "name": "stdout",
     "output_type": "stream",
     "text": [
      "reservoir average porosity is 0.3\n",
      "reservoir average permeability is 32\n",
      "reservoir gross pay zone is 60\n"
     ]
    }
   ],
   "source": [
    "res_info(.3, 32)"
   ]
  },
  {
   "cell_type": "code",
   "execution_count": 8,
   "id": "b60e27cd",
   "metadata": {},
   "outputs": [
    {
     "name": "stdout",
     "output_type": "stream",
     "text": [
      "reservoir average porosity is 0.3\n",
      "reservoir average permeability is 32\n",
      "reservoir gross pay zone is 23\n"
     ]
    }
   ],
   "source": [
    "res_info(.3, 32, 23)"
   ]
  },
  {
   "cell_type": "code",
   "execution_count": 9,
   "id": "aef998b9",
   "metadata": {},
   "outputs": [],
   "source": [
    "#deafault parameter should always be in the last"
   ]
  },
  {
   "cell_type": "code",
   "execution_count": null,
   "id": "955df1d0",
   "metadata": {},
   "outputs": [],
   "source": []
  }
 ],
 "metadata": {
  "kernelspec": {
   "display_name": "Python 3 (ipykernel)",
   "language": "python",
   "name": "python3"
  },
  "language_info": {
   "codemirror_mode": {
    "name": "ipython",
    "version": 3
   },
   "file_extension": ".py",
   "mimetype": "text/x-python",
   "name": "python",
   "nbconvert_exporter": "python",
   "pygments_lexer": "ipython3",
   "version": "3.9.6"
  }
 },
 "nbformat": 4,
 "nbformat_minor": 5
}
