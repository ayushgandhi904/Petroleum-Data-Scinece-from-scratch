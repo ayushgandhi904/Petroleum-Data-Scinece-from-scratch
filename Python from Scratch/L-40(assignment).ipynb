{
 "cells": [
  {
   "cell_type": "code",
   "execution_count": 1,
   "id": "2ccd201a",
   "metadata": {},
   "outputs": [],
   "source": [
    "mud_wt = [9.4, 10.5, 14.1, 13.2, 12.1, 11.8, 12.56]"
   ]
  },
  {
   "cell_type": "code",
   "execution_count": 8,
   "id": "be13931c",
   "metadata": {},
   "outputs": [],
   "source": [
    "def typ(a):\n",
    "    less = []\n",
    "    more = []\n",
    "    for i in a:\n",
    "        if i < 12:\n",
    "            less.append(i)\n",
    "        else:\n",
    "            more.append(i)\n",
    "    return [less, more]\n"
   ]
  },
  {
   "cell_type": "code",
   "execution_count": 9,
   "id": "251fcf07",
   "metadata": {},
   "outputs": [
    {
     "data": {
      "text/plain": [
       "[[9.4, 10.5, 11.8], [14.1, 13.2, 12.1, 12.56]]"
      ]
     },
     "execution_count": 9,
     "metadata": {},
     "output_type": "execute_result"
    }
   ],
   "source": [
    "typ(mud_wt)"
   ]
  },
  {
   "cell_type": "code",
   "execution_count": null,
   "id": "c944c848",
   "metadata": {},
   "outputs": [],
   "source": []
  }
 ],
 "metadata": {
  "kernelspec": {
   "display_name": "Python 3 (ipykernel)",
   "language": "python",
   "name": "python3"
  },
  "language_info": {
   "codemirror_mode": {
    "name": "ipython",
    "version": 3
   },
   "file_extension": ".py",
   "mimetype": "text/x-python",
   "name": "python",
   "nbconvert_exporter": "python",
   "pygments_lexer": "ipython3",
   "version": "3.9.6"
  }
 },
 "nbformat": 4,
 "nbformat_minor": 5
}
