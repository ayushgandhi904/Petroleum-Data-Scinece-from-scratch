{
 "cells": [
  {
   "cell_type": "code",
   "execution_count": 1,
   "id": "90d2a94b",
   "metadata": {},
   "outputs": [],
   "source": [
    "class Reservoir:\n",
    "    def __init__(self, porosity, permeability, depth):\n",
    "        self.por = porosity\n",
    "        self.per = permeability\n",
    "        self.dep = depth"
   ]
  },
  {
   "cell_type": "code",
   "execution_count": 4,
   "id": "497a9da2",
   "metadata": {},
   "outputs": [],
   "source": [
    "class Reservoir_:\n",
    "    def __init__(self, porosity, permeability, depth):\n",
    "        self.por = porosity\n",
    "        self.per = permeability\n",
    "        self.dep = depth\n",
    "    def describe(self):\n",
    "        return(f\"Reservoir porosity is {self.por*100}% and permeability is {self.per} md. The depth of the reservoir is {self.dep} ft\")"
   ]
  },
  {
   "cell_type": "code",
   "execution_count": 6,
   "id": "d232cc0d",
   "metadata": {},
   "outputs": [],
   "source": [
    "a = Reservoir_(0.12, 35, 2001)\n",
    "b = Reservoir(0.12, 35, 2001)"
   ]
  },
  {
   "cell_type": "code",
   "execution_count": 7,
   "id": "85fc326a",
   "metadata": {},
   "outputs": [
    {
     "data": {
      "text/plain": [
       "'Reservoir porosity is 12.0% and permeability is 35 md. The depth of the reservoir is 2001 ft'"
      ]
     },
     "execution_count": 7,
     "metadata": {},
     "output_type": "execute_result"
    }
   ],
   "source": [
    "a.describe()"
   ]
  },
  {
   "cell_type": "code",
   "execution_count": 9,
   "id": "9abbf329",
   "metadata": {},
   "outputs": [
    {
     "data": {
      "text/plain": [
       "'Reservoir porosity is 12.0% and permeability is 35 md. The depth of the reservoir is 2001 ft'"
      ]
     },
     "execution_count": 9,
     "metadata": {},
     "output_type": "execute_result"
    }
   ],
   "source": [
    "Reservoir_.describe(b)"
   ]
  },
  {
   "cell_type": "code",
   "execution_count": null,
   "id": "cafce3cc",
   "metadata": {},
   "outputs": [],
   "source": []
  }
 ],
 "metadata": {
  "kernelspec": {
   "display_name": "Python 3 (ipykernel)",
   "language": "python",
   "name": "python3"
  },
  "language_info": {
   "codemirror_mode": {
    "name": "ipython",
    "version": 3
   },
   "file_extension": ".py",
   "mimetype": "text/x-python",
   "name": "python",
   "nbconvert_exporter": "python",
   "pygments_lexer": "ipython3",
   "version": "3.9.6"
  }
 },
 "nbformat": 4,
 "nbformat_minor": 5
}
