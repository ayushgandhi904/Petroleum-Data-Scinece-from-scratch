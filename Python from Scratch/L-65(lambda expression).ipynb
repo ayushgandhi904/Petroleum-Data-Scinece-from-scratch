{
 "cells": [
  {
   "cell_type": "code",
   "execution_count": 1,
   "id": "437d40a2",
   "metadata": {},
   "outputs": [],
   "source": [
    "def pres(rho, h):\n",
    "    return (0.052*rho*h)\n"
   ]
  },
  {
   "cell_type": "code",
   "execution_count": 2,
   "id": "c3d5f529",
   "metadata": {},
   "outputs": [
    {
     "data": {
      "text/plain": [
       "520.0"
      ]
     },
     "execution_count": 2,
     "metadata": {},
     "output_type": "execute_result"
    }
   ],
   "source": [
    "pres(10, 1000)"
   ]
  },
  {
   "cell_type": "code",
   "execution_count": 4,
   "id": "0b9b52c0",
   "metadata": {},
   "outputs": [
    {
     "data": {
      "text/plain": [
       "'the pressure is  262.6 psi'"
      ]
     },
     "execution_count": 4,
     "metadata": {},
     "output_type": "execute_result"
    }
   ],
   "source": [
    "press = lambda rho, h: f\"the pressure is  {0.052*rho*h} psi\"\n",
    "press(10.1, 500)"
   ]
  },
  {
   "cell_type": "code",
   "execution_count": 6,
   "id": "e444b094",
   "metadata": {},
   "outputs": [
    {
     "name": "stdout",
     "output_type": "stream",
     "text": [
      "<function pres at 0x0000020EFF83C3A0>\n",
      "----\n",
      "<function <lambda> at 0x0000020EFF83CC10>\n"
     ]
    }
   ],
   "source": [
    "print(pres)\n",
    "print(\"----\")\n",
    "print(press)"
   ]
  },
  {
   "cell_type": "code",
   "execution_count": 7,
   "id": "73e984cf",
   "metadata": {},
   "outputs": [],
   "source": [
    "frac = lambda por: por/100"
   ]
  },
  {
   "cell_type": "code",
   "execution_count": 8,
   "id": "047bb598",
   "metadata": {},
   "outputs": [
    {
     "data": {
      "text/plain": [
       "1.0"
      ]
     },
     "execution_count": 8,
     "metadata": {},
     "output_type": "execute_result"
    }
   ],
   "source": [
    "frac(100)"
   ]
  },
  {
   "cell_type": "code",
   "execution_count": 10,
   "id": "7c965d86",
   "metadata": {},
   "outputs": [
    {
     "data": {
      "text/plain": [
       "22.220000000000002"
      ]
     },
     "execution_count": 10,
     "metadata": {},
     "output_type": "execute_result"
    }
   ],
   "source": [
    "frac_new = lambda por: por*100\n",
    "frac_new(0.2222)"
   ]
  },
  {
   "cell_type": "code",
   "execution_count": 12,
   "id": "f9de10eb",
   "metadata": {},
   "outputs": [],
   "source": [
    "#darcy's law\n",
    "flow_rate = lambda a, b, c, d, e: ((a*b*c)/(d*e))"
   ]
  },
  {
   "cell_type": "code",
   "execution_count": 13,
   "id": "cc3f8ad7",
   "metadata": {},
   "outputs": [],
   "source": [
    "poro = lambda a: \"realistic value\" if a<0.5 else \"unrealisitic value\""
   ]
  },
  {
   "cell_type": "code",
   "execution_count": 14,
   "id": "64363f8e",
   "metadata": {},
   "outputs": [
    {
     "data": {
      "text/plain": [
       "'realistic value'"
      ]
     },
     "execution_count": 14,
     "metadata": {},
     "output_type": "execute_result"
    }
   ],
   "source": [
    "poro(.2)"
   ]
  },
  {
   "cell_type": "code",
   "execution_count": 21,
   "id": "5fdcdf62",
   "metadata": {},
   "outputs": [],
   "source": [
    "def fun(a):\n",
    "    l = []\n",
    "    for i in a:\n",
    "        if len(i) < 5:\n",
    "            l.append(i[::-1])\n",
    "    return l"
   ]
  },
  {
   "cell_type": "code",
   "execution_count": 23,
   "id": "acc4d0de",
   "metadata": {},
   "outputs": [
    {
     "data": {
      "text/plain": [
       "['eH']"
      ]
     },
     "execution_count": 23,
     "metadata": {},
     "output_type": "execute_result"
    }
   ],
   "source": [
    "lis = [\"He\", \"Ayush\", \"Popat\", \"Gandhi\", \"201083\"]\n",
    "fun(lis)"
   ]
  },
  {
   "cell_type": "code",
   "execution_count": 26,
   "id": "747f3d7e",
   "metadata": {},
   "outputs": [],
   "source": [
    "abc = lambda a: [i[::-1] for i in a if len(i) < 5]"
   ]
  },
  {
   "cell_type": "code",
   "execution_count": 27,
   "id": "a1f8248f",
   "metadata": {},
   "outputs": [
    {
     "data": {
      "text/plain": [
       "['eH']"
      ]
     },
     "execution_count": 27,
     "metadata": {},
     "output_type": "execute_result"
    }
   ],
   "source": [
    "abc(lis)"
   ]
  },
  {
   "cell_type": "code",
   "execution_count": null,
   "id": "42b6e774",
   "metadata": {},
   "outputs": [],
   "source": []
  }
 ],
 "metadata": {
  "kernelspec": {
   "display_name": "Python 3 (ipykernel)",
   "language": "python",
   "name": "python3"
  },
  "language_info": {
   "codemirror_mode": {
    "name": "ipython",
    "version": 3
   },
   "file_extension": ".py",
   "mimetype": "text/x-python",
   "name": "python",
   "nbconvert_exporter": "python",
   "pygments_lexer": "ipython3",
   "version": "3.9.6"
  }
 },
 "nbformat": 4,
 "nbformat_minor": 5
}
