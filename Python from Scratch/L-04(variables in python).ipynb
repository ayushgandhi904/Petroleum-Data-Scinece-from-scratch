{
 "cells": [
  {
   "cell_type": "code",
   "execution_count": 1,
   "id": "926cf5bd",
   "metadata": {},
   "outputs": [
    {
     "name": "stdout",
     "output_type": "stream",
     "text": [
      "4\n",
      "7\n"
     ]
    }
   ],
   "source": [
    "a = 4\n",
    "b = 7 \n",
    "print(a)\n",
    "print(b)"
   ]
  },
  {
   "cell_type": "code",
   "execution_count": 2,
   "id": "e75e3e75",
   "metadata": {},
   "outputs": [
    {
     "name": "stdout",
     "output_type": "stream",
     "text": [
      "28\n"
     ]
    }
   ],
   "source": [
    "print(a*b)"
   ]
  },
  {
   "cell_type": "code",
   "execution_count": 3,
   "id": "766a2642",
   "metadata": {},
   "outputs": [],
   "source": [
    "#update \n",
    "a = 3\n",
    "b = 4"
   ]
  },
  {
   "cell_type": "code",
   "execution_count": 4,
   "id": "689e9383",
   "metadata": {},
   "outputs": [
    {
     "name": "stdout",
     "output_type": "stream",
     "text": [
      "(4.59+3j)\n"
     ]
    }
   ],
   "source": [
    "c = 2.59\n",
    "d = 2 + 3j\n",
    "print(c + d)"
   ]
  },
  {
   "cell_type": "code",
   "execution_count": 5,
   "id": "166e9e1c",
   "metadata": {},
   "outputs": [],
   "source": [
    "e = \"Ayush\""
   ]
  },
  {
   "cell_type": "code",
   "execution_count": null,
   "id": "c54d08f1",
   "metadata": {},
   "outputs": [],
   "source": []
  }
 ],
 "metadata": {
  "kernelspec": {
   "display_name": "Python 3 (ipykernel)",
   "language": "python",
   "name": "python3"
  },
  "language_info": {
   "codemirror_mode": {
    "name": "ipython",
    "version": 3
   },
   "file_extension": ".py",
   "mimetype": "text/x-python",
   "name": "python",
   "nbconvert_exporter": "python",
   "pygments_lexer": "ipython3",
   "version": "3.9.6"
  }
 },
 "nbformat": 4,
 "nbformat_minor": 5
}
