{
 "cells": [
  {
   "cell_type": "code",
   "execution_count": 1,
   "id": "7a643ed7",
   "metadata": {},
   "outputs": [],
   "source": [
    "pressure = [1233, 2153, 1252, 9133, 1833, 8211, 3932]"
   ]
  },
  {
   "cell_type": "code",
   "execution_count": 2,
   "id": "159c8e5f",
   "metadata": {},
   "outputs": [],
   "source": [
    "pqr = [i for i in pressure if i <=3500]"
   ]
  },
  {
   "cell_type": "code",
   "execution_count": 3,
   "id": "ee91fe2b",
   "metadata": {},
   "outputs": [
    {
     "data": {
      "text/plain": [
       "[1233, 2153, 1252, 1833]"
      ]
     },
     "execution_count": 3,
     "metadata": {},
     "output_type": "execute_result"
    }
   ],
   "source": [
    "pqr"
   ]
  },
  {
   "cell_type": "code",
   "execution_count": 8,
   "id": "1f8daf88",
   "metadata": {},
   "outputs": [],
   "source": [
    "#map function\n",
    "\n",
    "def fu(p):\n",
    "    return p<3500"
   ]
  },
  {
   "cell_type": "code",
   "execution_count": 9,
   "id": "97b73508",
   "metadata": {},
   "outputs": [
    {
     "data": {
      "text/plain": [
       "True"
      ]
     },
     "execution_count": 9,
     "metadata": {},
     "output_type": "execute_result"
    }
   ],
   "source": [
    "fu(1355)"
   ]
  },
  {
   "cell_type": "code",
   "execution_count": 10,
   "id": "64035af4",
   "metadata": {},
   "outputs": [
    {
     "data": {
      "text/plain": [
       "(1233, 2153, 1252, 1833)"
      ]
     },
     "execution_count": 10,
     "metadata": {},
     "output_type": "execute_result"
    }
   ],
   "source": [
    "tuple(filter(fu, pressure))"
   ]
  },
  {
   "cell_type": "code",
   "execution_count": 11,
   "id": "aad2fadc",
   "metadata": {},
   "outputs": [
    {
     "data": {
      "text/plain": [
       "(True, True, True, False, True, False, False)"
      ]
     },
     "execution_count": 11,
     "metadata": {},
     "output_type": "execute_result"
    }
   ],
   "source": [
    "tuple(map(fu, pressure)) #"
   ]
  },
  {
   "cell_type": "code",
   "execution_count": null,
   "id": "861229ce",
   "metadata": {},
   "outputs": [],
   "source": []
  }
 ],
 "metadata": {
  "kernelspec": {
   "display_name": "Python 3 (ipykernel)",
   "language": "python",
   "name": "python3"
  },
  "language_info": {
   "codemirror_mode": {
    "name": "ipython",
    "version": 3
   },
   "file_extension": ".py",
   "mimetype": "text/x-python",
   "name": "python",
   "nbconvert_exporter": "python",
   "pygments_lexer": "ipython3",
   "version": "3.9.6"
  }
 },
 "nbformat": 4,
 "nbformat_minor": 5
}
