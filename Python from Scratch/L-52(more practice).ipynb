{
 "cells": [
  {
   "cell_type": "code",
   "execution_count": 23,
   "id": "f6b44424",
   "metadata": {},
   "outputs": [],
   "source": [
    "phi = [0.14, 0.25, 0.11, 0.29, 0.53, 0.41, 0.71, 0.11, 0.02, 0.56, 0.41, 0.25, 0.45, 0.56]"
   ]
  },
  {
   "cell_type": "code",
   "execution_count": 45,
   "id": "8c4a3b0c",
   "metadata": {},
   "outputs": [],
   "source": [
    "por_count = {}"
   ]
  },
  {
   "cell_type": "code",
   "execution_count": 46,
   "id": "c169c54c",
   "metadata": {},
   "outputs": [
    {
     "data": {
      "text/plain": [
       "{0.14: 1,\n",
       " 0.25: 2,\n",
       " 0.11: 2,\n",
       " 0.29: 1,\n",
       " 0.53: 1,\n",
       " 0.41: 2,\n",
       " 0.71: 1,\n",
       " 0.02: 1,\n",
       " 0.56: 2,\n",
       " 0.45: 1}"
      ]
     },
     "execution_count": 46,
     "metadata": {},
     "output_type": "execute_result"
    }
   ],
   "source": [
    "for i in phi:\n",
    "    por_count[i] = phi.count(i)\n",
    "por_count"
   ]
  },
  {
   "cell_type": "code",
   "execution_count": 48,
   "id": "1a9d61e3",
   "metadata": {},
   "outputs": [],
   "source": [
    "lith = [\"Sst\", \"Sha\", \"Sst\", \"Lst\", \"Lst\"]\n"
   ]
  },
  {
   "cell_type": "code",
   "execution_count": 40,
   "id": "56332519",
   "metadata": {},
   "outputs": [],
   "source": [
    "def count(a):\n",
    "    y = {}\n",
    "    for i in a:\n",
    "        y[i] = a.\n",
    "        "
   ]
  },
  {
   "cell_type": "code",
   "execution_count": 44,
   "id": "9af9cb7e",
   "metadata": {},
   "outputs": [
    {
     "name": "stdout",
     "output_type": "stream",
     "text": [
      "None\n"
     ]
    }
   ],
   "source": [
    "print(counter(phi))"
   ]
  },
  {
   "cell_type": "code",
   "execution_count": null,
   "id": "3e053730",
   "metadata": {},
   "outputs": [],
   "source": []
  }
 ],
 "metadata": {
  "kernelspec": {
   "display_name": "Python 3 (ipykernel)",
   "language": "python",
   "name": "python3"
  },
  "language_info": {
   "codemirror_mode": {
    "name": "ipython",
    "version": 3
   },
   "file_extension": ".py",
   "mimetype": "text/x-python",
   "name": "python",
   "nbconvert_exporter": "python",
   "pygments_lexer": "ipython3",
   "version": "3.9.6"
  }
 },
 "nbformat": 4,
 "nbformat_minor": 5
}
