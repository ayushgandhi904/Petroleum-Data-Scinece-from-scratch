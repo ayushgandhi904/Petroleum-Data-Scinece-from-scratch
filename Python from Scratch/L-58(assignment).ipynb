{
 "cells": [
  {
   "cell_type": "code",
   "execution_count": 1,
   "id": "8a871076",
   "metadata": {},
   "outputs": [],
   "source": [
    "flow_rate = [5, 4.2, 6, 10, 3.1]"
   ]
  },
  {
   "cell_type": "code",
   "execution_count": 2,
   "id": "ffb480dd",
   "metadata": {},
   "outputs": [],
   "source": [
    "oil = []"
   ]
  },
  {
   "cell_type": "code",
   "execution_count": 3,
   "id": "e3e86f57",
   "metadata": {},
   "outputs": [],
   "source": [
    "for i in flow_rate:\n",
    "    oil.append(0.543*i)"
   ]
  },
  {
   "cell_type": "code",
   "execution_count": 4,
   "id": "f57bb594",
   "metadata": {},
   "outputs": [
    {
     "data": {
      "text/plain": [
       "[2.7150000000000003, 2.2806, 3.258, 5.430000000000001, 1.6833000000000002]"
      ]
     },
     "execution_count": 4,
     "metadata": {},
     "output_type": "execute_result"
    }
   ],
   "source": [
    "oil"
   ]
  },
  {
   "cell_type": "code",
   "execution_count": 5,
   "id": "d602732d",
   "metadata": {},
   "outputs": [],
   "source": [
    "oil_n = [0.543*i for i in flow_rate]"
   ]
  },
  {
   "cell_type": "code",
   "execution_count": 6,
   "id": "24a4ecae",
   "metadata": {},
   "outputs": [
    {
     "data": {
      "text/plain": [
       "[2.7150000000000003, 2.2806, 3.258, 5.430000000000001, 1.6833000000000002]"
      ]
     },
     "execution_count": 6,
     "metadata": {},
     "output_type": "execute_result"
    }
   ],
   "source": [
    "oil_n"
   ]
  },
  {
   "cell_type": "code",
   "execution_count": 7,
   "id": "70cb1c0f",
   "metadata": {},
   "outputs": [],
   "source": [
    "#assignment \n",
    "\n",
    "my_list = [\"Ayush\", \"Gandhi\", 20, \"Chess\"]"
   ]
  },
  {
   "cell_type": "code",
   "execution_count": 10,
   "id": "c35a88c8",
   "metadata": {},
   "outputs": [],
   "source": [
    "my = []\n",
    "\n",
    "for i in my_list:\n",
    "    if type(i) == str:\n",
    "        my.append(i[2])"
   ]
  },
  {
   "cell_type": "code",
   "execution_count": 11,
   "id": "436c8f8b",
   "metadata": {},
   "outputs": [
    {
     "data": {
      "text/plain": [
       "['u', 'n', 'e']"
      ]
     },
     "execution_count": 11,
     "metadata": {},
     "output_type": "execute_result"
    }
   ],
   "source": [
    "my"
   ]
  },
  {
   "cell_type": "code",
   "execution_count": null,
   "id": "4580c29d",
   "metadata": {},
   "outputs": [],
   "source": [
    "lis = [i[2] if type(i) == str for i]"
   ]
  }
 ],
 "metadata": {
  "kernelspec": {
   "display_name": "Python 3 (ipykernel)",
   "language": "python",
   "name": "python3"
  },
  "language_info": {
   "codemirror_mode": {
    "name": "ipython",
    "version": 3
   },
   "file_extension": ".py",
   "mimetype": "text/x-python",
   "name": "python",
   "nbconvert_exporter": "python",
   "pygments_lexer": "ipython3",
   "version": "3.9.6"
  }
 },
 "nbformat": 4,
 "nbformat_minor": 5
}
