{
 "cells": [
  {
   "cell_type": "code",
   "execution_count": 2,
   "id": "333e916d",
   "metadata": {},
   "outputs": [
    {
     "name": "stdout",
     "output_type": "stream",
     "text": [
      "0\n",
      "1\n",
      "3\n",
      "6\n",
      "10\n",
      "15\n",
      "21\n",
      "28\n",
      "36\n",
      "45\n",
      "55\n"
     ]
    }
   ],
   "source": [
    "i = 0\n",
    "tot = 0\n",
    "while i <=10:\n",
    "    tot = tot + i\n",
    "    print(tot)\n",
    "    i += 1"
   ]
  },
  {
   "cell_type": "code",
   "execution_count": 5,
   "id": "998e8f94",
   "metadata": {},
   "outputs": [
    {
     "name": "stdout",
     "output_type": "stream",
     "text": [
      "Enter any number856\n",
      "366796\n"
     ]
    }
   ],
   "source": [
    "num = int(input(\"Enter any number\"))\n",
    "\n",
    "i = 0\n",
    "tot = 0\n",
    "\n",
    "while i <= num:\n",
    "    tot = tot + i\n",
    "    #print(tot)\n",
    "    i += 1\n",
    "print(tot)"
   ]
  },
  {
   "cell_type": "code",
   "execution_count": 8,
   "id": "55a13119",
   "metadata": {},
   "outputs": [
    {
     "name": "stdout",
     "output_type": "stream",
     "text": [
      "2000 is not abnormal\n",
      "2100 is not abnormal\n",
      "2200 is not abnormal\n",
      "2300 is not abnormal\n",
      "2400 is not abnormal\n",
      "2500 is not abnormal\n",
      "2600 is not abnormal\n",
      "2700 is not abnormal\n",
      "2800 is not abnormal\n",
      "2900 is not abnormal\n",
      "3000 is not abnormal\n",
      "Pressure has become abnormal\n"
     ]
    }
   ],
   "source": [
    "#while else statment \n",
    "\n",
    "press = 2000\n",
    "\n",
    "while press <= 3000: \n",
    "    print(f\"{press} is not abnormal\")\n",
    "    press += 100\n",
    "else:\n",
    "    print(\"Pressure has become abnormal\")"
   ]
  },
  {
   "cell_type": "code",
   "execution_count": 9,
   "id": "ca99dd78",
   "metadata": {},
   "outputs": [
    {
     "name": "stdout",
     "output_type": "stream",
     "text": [
      "2000 is not abnormal\n",
      "2100 is not abnormal\n",
      "2200 is not abnormal\n",
      "2300 is not abnormal\n",
      "2400 is not abnormal\n",
      "2500 is not abnormal\n",
      "2600 is not abnormal\n",
      "2700 is not abnormal\n",
      "2800 is not abnormal\n",
      "2900 is not abnormal\n",
      "3000 is not abnormal\n",
      "Pressure has become abnormal\n"
     ]
    }
   ],
   "source": [
    "#writing other then else\n",
    "\n",
    "press = 2000\n",
    "\n",
    "while press <= 3000: \n",
    "    print(f\"{press} is not abnormal\")\n",
    "    press += 100\n",
    "\n",
    "print(\"Pressure has become abnormal\")"
   ]
  },
  {
   "cell_type": "code",
   "execution_count": 11,
   "id": "796f5c5b",
   "metadata": {},
   "outputs": [
    {
     "name": "stdout",
     "output_type": "stream",
     "text": [
      "1 less then or equal to 5\n",
      "2 less then or equal to 5\n",
      "3 less then or equal to 5\n",
      "4 less then or equal to 5\n",
      "5 less then or equal to 5\n",
      "6 greater then 5\n",
      "7 greater then 5\n",
      "8 greater then 5\n",
      "9 greater then 5\n",
      "10 greater then 5\n"
     ]
    }
   ],
   "source": [
    "n = 1\n",
    "\n",
    "while n<=10:\n",
    "    if n<=5:\n",
    "        print(f\"{n} less then or equal to 5\")\n",
    "    else:\n",
    "        print(f\"{n} greater then 5\")\n",
    "    n += 1"
   ]
  },
  {
   "cell_type": "code",
   "execution_count": null,
   "id": "444beccf",
   "metadata": {},
   "outputs": [],
   "source": []
  }
 ],
 "metadata": {
  "kernelspec": {
   "display_name": "Python 3 (ipykernel)",
   "language": "python",
   "name": "python3"
  },
  "language_info": {
   "codemirror_mode": {
    "name": "ipython",
    "version": 3
   },
   "file_extension": ".py",
   "mimetype": "text/x-python",
   "name": "python",
   "nbconvert_exporter": "python",
   "pygments_lexer": "ipython3",
   "version": "3.9.6"
  }
 },
 "nbformat": 4,
 "nbformat_minor": 5
}
