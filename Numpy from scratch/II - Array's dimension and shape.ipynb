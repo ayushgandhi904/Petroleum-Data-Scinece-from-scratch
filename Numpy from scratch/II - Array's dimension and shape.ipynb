{
 "cells": [
  {
   "cell_type": "code",
   "execution_count": 1,
   "id": "6a901c7f",
   "metadata": {},
   "outputs": [],
   "source": [
    "import numpy as np"
   ]
  },
  {
   "cell_type": "code",
   "execution_count": 2,
   "id": "16fb23da",
   "metadata": {},
   "outputs": [],
   "source": [
    "arr = np.array(20)"
   ]
  },
  {
   "cell_type": "code",
   "execution_count": 6,
   "id": "7f560a33",
   "metadata": {},
   "outputs": [],
   "source": [
    "# checking the dimension of the attribute by the ndim attribute "
   ]
  },
  {
   "cell_type": "code",
   "execution_count": 5,
   "id": "70814356",
   "metadata": {},
   "outputs": [
    {
     "data": {
      "text/plain": [
       "0"
      ]
     },
     "execution_count": 5,
     "metadata": {},
     "output_type": "execute_result"
    }
   ],
   "source": [
    "arr.ndim"
   ]
  },
  {
   "cell_type": "markdown",
   "id": "864b4bf7",
   "metadata": {},
   "source": [
    "### Creating 1-D array"
   ]
  },
  {
   "cell_type": "code",
   "execution_count": 7,
   "id": "c1fe38bd",
   "metadata": {},
   "outputs": [],
   "source": [
    "arr = np.array([1, 5, 19])"
   ]
  },
  {
   "cell_type": "code",
   "execution_count": 8,
   "id": "24b37617",
   "metadata": {},
   "outputs": [
    {
     "data": {
      "text/plain": [
       "1"
      ]
     },
     "execution_count": 8,
     "metadata": {},
     "output_type": "execute_result"
    }
   ],
   "source": [
    "arr.ndim"
   ]
  },
  {
   "cell_type": "code",
   "execution_count": 9,
   "id": "6953fc5e",
   "metadata": {},
   "outputs": [
    {
     "data": {
      "text/plain": [
       "array([ 1,  5, 19])"
      ]
     },
     "execution_count": 9,
     "metadata": {},
     "output_type": "execute_result"
    }
   ],
   "source": [
    "arr"
   ]
  },
  {
   "cell_type": "markdown",
   "id": "06ab0739",
   "metadata": {},
   "source": [
    "### Creating 2-D array"
   ]
  },
  {
   "cell_type": "markdown",
   "id": "f189882a",
   "metadata": {},
   "source": [
    "* Representing Matrix or 2nd order"
   ]
  },
  {
   "cell_type": "code",
   "execution_count": 11,
   "id": "577248dc",
   "metadata": {},
   "outputs": [],
   "source": [
    "arr = np.array([[1, 2, 6], [2, 3, 5]])"
   ]
  },
  {
   "cell_type": "code",
   "execution_count": 12,
   "id": "3a218832",
   "metadata": {},
   "outputs": [
    {
     "data": {
      "text/plain": [
       "2"
      ]
     },
     "execution_count": 12,
     "metadata": {},
     "output_type": "execute_result"
    }
   ],
   "source": [
    "arr.ndim"
   ]
  },
  {
   "cell_type": "code",
   "execution_count": 14,
   "id": "02cce372",
   "metadata": {},
   "outputs": [
    {
     "data": {
      "text/plain": [
       "array([[1, 2, 6],\n",
       "       [2, 3, 5]])"
      ]
     },
     "execution_count": 14,
     "metadata": {},
     "output_type": "execute_result"
    }
   ],
   "source": [
    "arr"
   ]
  },
  {
   "cell_type": "code",
   "execution_count": 17,
   "id": "fc128b96",
   "metadata": {},
   "outputs": [],
   "source": [
    "mat = np.mat(np.array([[5, 1, 15], [1, 81, 1]]))"
   ]
  },
  {
   "cell_type": "code",
   "execution_count": 18,
   "id": "c02c9f66",
   "metadata": {},
   "outputs": [
    {
     "data": {
      "text/plain": [
       "matrix([[ 5,  1, 15],\n",
       "        [ 1, 81,  1]])"
      ]
     },
     "execution_count": 18,
     "metadata": {},
     "output_type": "execute_result"
    }
   ],
   "source": [
    "mat"
   ]
  },
  {
   "cell_type": "code",
   "execution_count": 19,
   "id": "de8d8bbb",
   "metadata": {},
   "outputs": [
    {
     "data": {
      "text/plain": [
       "numpy.matrix"
      ]
     },
     "execution_count": 19,
     "metadata": {},
     "output_type": "execute_result"
    }
   ],
   "source": [
    "type(mat)"
   ]
  },
  {
   "cell_type": "markdown",
   "id": "3e9117d3",
   "metadata": {},
   "source": [
    "### Creating 3-D array"
   ]
  },
  {
   "cell_type": "code",
   "execution_count": 20,
   "id": "c3791c7c",
   "metadata": {},
   "outputs": [],
   "source": [
    "# 2D element behave as a element"
   ]
  },
  {
   "cell_type": "code",
   "execution_count": 25,
   "id": "106d98bc",
   "metadata": {},
   "outputs": [],
   "source": [
    "arr = np.array([[[1, 3, 5], [3, 5, 6], [1, 25, 5]], [[5, 25, 22], [58, 58, 6], [1, 1, 5]]])"
   ]
  },
  {
   "cell_type": "code",
   "execution_count": 26,
   "id": "ef9228ee",
   "metadata": {},
   "outputs": [
    {
     "data": {
      "text/plain": [
       "array([[[ 1,  3,  5],\n",
       "        [ 3,  5,  6],\n",
       "        [ 1, 25,  5]],\n",
       "\n",
       "       [[ 5, 25, 22],\n",
       "        [58, 58,  6],\n",
       "        [ 1,  1,  5]]])"
      ]
     },
     "execution_count": 26,
     "metadata": {},
     "output_type": "execute_result"
    }
   ],
   "source": [
    "arr"
   ]
  },
  {
   "cell_type": "code",
   "execution_count": 27,
   "id": "cb47bc64",
   "metadata": {},
   "outputs": [
    {
     "data": {
      "text/plain": [
       "numpy.ndarray"
      ]
     },
     "execution_count": 27,
     "metadata": {},
     "output_type": "execute_result"
    }
   ],
   "source": [
    "type(arr)"
   ]
  },
  {
   "cell_type": "code",
   "execution_count": 28,
   "id": "b3ab0430",
   "metadata": {},
   "outputs": [
    {
     "data": {
      "text/plain": [
       "3"
      ]
     },
     "execution_count": 28,
     "metadata": {},
     "output_type": "execute_result"
    }
   ],
   "source": [
    "arr.ndim"
   ]
  },
  {
   "cell_type": "markdown",
   "id": "1b510634",
   "metadata": {},
   "source": [
    "## Creating higher dimension arrays"
   ]
  },
  {
   "cell_type": "code",
   "execution_count": 30,
   "id": "79001765",
   "metadata": {},
   "outputs": [],
   "source": [
    "arr = np.array([1, 2, 4], ndmin = 5)"
   ]
  },
  {
   "cell_type": "code",
   "execution_count": 31,
   "id": "1912fe07",
   "metadata": {},
   "outputs": [
    {
     "data": {
      "text/plain": [
       "array([[[[[1, 2, 4]]]]])"
      ]
     },
     "execution_count": 31,
     "metadata": {},
     "output_type": "execute_result"
    }
   ],
   "source": [
    "arr"
   ]
  },
  {
   "cell_type": "code",
   "execution_count": 36,
   "id": "aa5c1ffe",
   "metadata": {},
   "outputs": [
    {
     "data": {
      "text/plain": [
       "5"
      ]
     },
     "execution_count": 36,
     "metadata": {},
     "output_type": "execute_result"
    }
   ],
   "source": [
    "arr.ndim"
   ]
  },
  {
   "cell_type": "markdown",
   "id": "dc77f029",
   "metadata": {},
   "source": [
    "### Knowing the shape "
   ]
  },
  {
   "cell_type": "code",
   "execution_count": 38,
   "id": "de924c8f",
   "metadata": {},
   "outputs": [
    {
     "data": {
      "text/plain": [
       "(1, 1, 1, 1, 3)"
      ]
     },
     "execution_count": 38,
     "metadata": {},
     "output_type": "execute_result"
    }
   ],
   "source": [
    "arr.shape"
   ]
  },
  {
   "cell_type": "code",
   "execution_count": 39,
   "id": "23ae143d",
   "metadata": {},
   "outputs": [],
   "source": [
    "arr = np.array([[[1, 3, 5], [3, 5, 6], [1, 25, 5]], [[5, 25, 22], [58, 58, 6], [1, 1, 5]]])"
   ]
  },
  {
   "cell_type": "code",
   "execution_count": 40,
   "id": "784a3848",
   "metadata": {},
   "outputs": [
    {
     "data": {
      "text/plain": [
       "(2, 3, 3)"
      ]
     },
     "execution_count": 40,
     "metadata": {},
     "output_type": "execute_result"
    }
   ],
   "source": [
    "arr.shape"
   ]
  },
  {
   "cell_type": "code",
   "execution_count": null,
   "id": "e951cc32",
   "metadata": {},
   "outputs": [],
   "source": []
  }
 ],
 "metadata": {
  "kernelspec": {
   "display_name": "Python 3 (ipykernel)",
   "language": "python",
   "name": "python3"
  },
  "language_info": {
   "codemirror_mode": {
    "name": "ipython",
    "version": 3
   },
   "file_extension": ".py",
   "mimetype": "text/x-python",
   "name": "python",
   "nbconvert_exporter": "python",
   "pygments_lexer": "ipython3",
   "version": "3.9.6"
  }
 },
 "nbformat": 4,
 "nbformat_minor": 5
}
