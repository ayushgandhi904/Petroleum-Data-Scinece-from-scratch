{
 "cells": [
  {
   "cell_type": "code",
   "execution_count": 1,
   "id": "ffa15f81",
   "metadata": {},
   "outputs": [],
   "source": [
    "import numpy as np"
   ]
  },
  {
   "cell_type": "code",
   "execution_count": 4,
   "id": "9cb6b7ba",
   "metadata": {},
   "outputs": [],
   "source": [
    "arr = np.array([[1, 5, 9, 92, 56], [59, 512, 83, 62, 21], [49, 28, 14, 41, 15], [155, 58, 63, 23, 24]])"
   ]
  },
  {
   "cell_type": "code",
   "execution_count": 5,
   "id": "7e96bc68",
   "metadata": {},
   "outputs": [
    {
     "data": {
      "text/plain": [
       "array([[ 59, 512,  83,  62,  21],\n",
       "       [ 49,  28,  14,  41,  15],\n",
       "       [155,  58,  63,  23,  24]])"
      ]
     },
     "execution_count": 5,
     "metadata": {},
     "output_type": "execute_result"
    }
   ],
   "source": [
    "arr[1:4]"
   ]
  },
  {
   "cell_type": "code",
   "execution_count": 8,
   "id": "2efcaf1f",
   "metadata": {},
   "outputs": [
    {
     "data": {
      "text/plain": [
       "array([[83, 21],\n",
       "       [14, 15],\n",
       "       [63, 24]])"
      ]
     },
     "execution_count": 8,
     "metadata": {},
     "output_type": "execute_result"
    }
   ],
   "source": [
    "arr[1:4, 2:5:2]"
   ]
  },
  {
   "cell_type": "code",
   "execution_count": 9,
   "id": "64d197f9",
   "metadata": {},
   "outputs": [
    {
     "data": {
      "text/plain": [
       "array([[ 24,  23,  63,  58, 155],\n",
       "       [ 15,  41,  14,  28,  49],\n",
       "       [ 21,  62,  83, 512,  59],\n",
       "       [ 56,  92,   9,   5,   1]])"
      ]
     },
     "execution_count": 9,
     "metadata": {},
     "output_type": "execute_result"
    }
   ],
   "source": [
    "arr[::-1, ::-1]"
   ]
  },
  {
   "cell_type": "code",
   "execution_count": 10,
   "id": "a6742a9d",
   "metadata": {},
   "outputs": [
    {
     "data": {
      "text/plain": [
       "array([[ 56,  92,   9,   5,   1],\n",
       "       [ 21,  62,  83, 512,  59],\n",
       "       [ 15,  41,  14,  28,  49],\n",
       "       [ 24,  23,  63,  58, 155]])"
      ]
     },
     "execution_count": 10,
     "metadata": {},
     "output_type": "execute_result"
    }
   ],
   "source": [
    "arr[:, -1::-1]"
   ]
  },
  {
   "cell_type": "code",
   "execution_count": 11,
   "id": "4ee88bbf",
   "metadata": {},
   "outputs": [
    {
     "data": {
      "text/plain": [
       "array([[  1,   5,   9,  92,  56],\n",
       "       [ 59, 512,  83,  62,  21],\n",
       "       [ 49,  28,  14,  41,  15],\n",
       "       [155,  58,  63,  23,  24]])"
      ]
     },
     "execution_count": 11,
     "metadata": {},
     "output_type": "execute_result"
    }
   ],
   "source": [
    "arr"
   ]
  },
  {
   "cell_type": "code",
   "execution_count": 14,
   "id": "7ae9b7d5",
   "metadata": {},
   "outputs": [],
   "source": [
    "# 3d array\n",
    "\n",
    "ar = np.array([[[338, 328, 381], [390, 882, 901]], [[921, 391, 389], [983, 683, 232]], [[998, 784, 790], [551, 150,  155]]])"
   ]
  },
  {
   "cell_type": "code",
   "execution_count": 15,
   "id": "61d6d00e",
   "metadata": {},
   "outputs": [
    {
     "data": {
      "text/plain": [
       "array([[[338, 328, 381],\n",
       "        [390, 882, 901]],\n",
       "\n",
       "       [[921, 391, 389],\n",
       "        [983, 683, 232]],\n",
       "\n",
       "       [[998, 784, 790],\n",
       "        [551, 150, 155]]])"
      ]
     },
     "execution_count": 15,
     "metadata": {},
     "output_type": "execute_result"
    }
   ],
   "source": [
    "ar"
   ]
  },
  {
   "cell_type": "code",
   "execution_count": 17,
   "id": "d95d992a",
   "metadata": {},
   "outputs": [
    {
     "data": {
      "text/plain": [
       "array([[[983, 683, 232]],\n",
       "\n",
       "       [[551, 150, 155]]])"
      ]
     },
     "execution_count": 17,
     "metadata": {},
     "output_type": "execute_result"
    }
   ],
   "source": [
    "ar[1:3, 1:]"
   ]
  },
  {
   "cell_type": "code",
   "execution_count": 18,
   "id": "5412d353",
   "metadata": {},
   "outputs": [
    {
     "data": {
      "text/plain": [
       "array([[[683, 232]],\n",
       "\n",
       "       [[150, 155]]])"
      ]
     },
     "execution_count": 18,
     "metadata": {},
     "output_type": "execute_result"
    }
   ],
   "source": [
    "ar[1:3, 1:, 1:3]"
   ]
  },
  {
   "cell_type": "code",
   "execution_count": 19,
   "id": "3f3a30d7",
   "metadata": {},
   "outputs": [],
   "source": [
    "# high D arrays\n",
    "\n",
    "aaa = np.array([1, 2, 3, 4, 5], ndmin = 5)"
   ]
  },
  {
   "cell_type": "code",
   "execution_count": 20,
   "id": "43b4178e",
   "metadata": {},
   "outputs": [
    {
     "data": {
      "text/plain": [
       "array([[[[[1, 2, 3, 4, 5]]]]])"
      ]
     },
     "execution_count": 20,
     "metadata": {},
     "output_type": "execute_result"
    }
   ],
   "source": [
    "aaa"
   ]
  },
  {
   "cell_type": "code",
   "execution_count": 22,
   "id": "f77a3b1b",
   "metadata": {},
   "outputs": [
    {
     "data": {
      "text/plain": [
       "array([[[[[2, 3, 4]]]]])"
      ]
     },
     "execution_count": 22,
     "metadata": {},
     "output_type": "execute_result"
    }
   ],
   "source": [
    "aaa[:, :, :, :, 1:4]"
   ]
  },
  {
   "cell_type": "code",
   "execution_count": 23,
   "id": "50deb384",
   "metadata": {},
   "outputs": [],
   "source": [
    "perm = np.array([[49, 92, 18, 20, 18], [20, 22, 25, 41, 51], [61, 52, 6, 8, 10], [46, 51, 50, 60, 70]])"
   ]
  },
  {
   "cell_type": "code",
   "execution_count": 24,
   "id": "410ac000",
   "metadata": {},
   "outputs": [
    {
     "data": {
      "text/plain": [
       "array([[49, 92, 18, 20, 18],\n",
       "       [20, 22, 25, 41, 51],\n",
       "       [61, 52,  6,  8, 10],\n",
       "       [46, 51, 50, 60, 70]])"
      ]
     },
     "execution_count": 24,
     "metadata": {},
     "output_type": "execute_result"
    }
   ],
   "source": [
    "perm"
   ]
  },
  {
   "cell_type": "code",
   "execution_count": 26,
   "id": "7b228e54",
   "metadata": {},
   "outputs": [],
   "source": [
    "import seaborn as sns\n",
    "import matplotlib.pyplot as plt"
   ]
  },
  {
   "cell_type": "code",
   "execution_count": 27,
   "id": "da59ac8e",
   "metadata": {},
   "outputs": [
    {
     "data": {
      "text/plain": [
       "<AxesSubplot:>"
      ]
     },
     "execution_count": 27,
     "metadata": {},
     "output_type": "execute_result"
    },
    {
     "data": {
      "image/png": "[encoded data removed]",
      "text/plain": [
       "<Figure size 576x432 with 2 Axes>"
      ]
     },
     "metadata": {
      "needs_background": "light"
     },
     "output_type": "display_data"
    }
   ],
   "source": [
    "plt.figure(figsize = (8, 6))\n",
    "sns.heatmap(perm)"
   ]
  },
  {
   "cell_type": "code",
   "execution_count": 34,
   "id": "0b80ab6d",
   "metadata": {},
   "outputs": [],
   "source": [
    "new = perm[2:4, 2:6]"
   ]
  },
  {
   "cell_type": "code",
   "execution_count": 35,
   "id": "e4883cbd",
   "metadata": {},
   "outputs": [
    {
     "data": {
      "text/plain": [
       "<AxesSubplot:>"
      ]
     },
     "execution_count": 35,
     "metadata": {},
     "output_type": "execute_result"
    },
    {
     "data": {
      "image/png": "[encoded data removed]",
      "text/plain": [
       "<Figure size 432x288 with 2 Axes>"
      ]
     },
     "metadata": {
      "needs_background": "light"
     },
     "output_type": "display_data"
    }
   ],
   "source": [
    "sns.heatmap(new)"
   ]
  },
  {
   "cell_type": "code",
   "execution_count": null,
   "id": "8ee87374",
   "metadata": {},
   "outputs": [],
   "source": []
  }
 ],
 "metadata": {
  "kernelspec": {
   "display_name": "Python 3 (ipykernel)",
   "language": "python",
   "name": "python3"
  },
  "language_info": {
   "codemirror_mode": {
    "name": "ipython",
    "version": 3
   },
   "file_extension": ".py",
   "mimetype": "text/x-python",
   "name": "python",
   "nbconvert_exporter": "python",
   "pygments_lexer": "ipython3",
   "version": "3.9.6"
  }
 },
 "nbformat": 4,
 "nbformat_minor": 5
}
