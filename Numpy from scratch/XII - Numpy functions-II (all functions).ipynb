{
 "cells": [
  {
   "cell_type": "markdown",
   "id": "b023f8ab",
   "metadata": {},
   "source": [
    "### Infinity and Nan"
   ]
  },
  {
   "cell_type": "code",
   "execution_count": 1,
   "id": "8b8a4c58",
   "metadata": {},
   "outputs": [],
   "source": [
    "import numpy as np"
   ]
  },
  {
   "cell_type": "code",
   "execution_count": 2,
   "id": "c70f9024",
   "metadata": {},
   "outputs": [
    {
     "name": "stderr",
     "output_type": "stream",
     "text": [
      "C:\\Users\\Dell\\AppData\\Local\\Temp/ipykernel_8952/48870926.py:1: RuntimeWarning: divide by zero encountered in true_divide\n",
      "  np.array(3)/0\n"
     ]
    },
    {
     "data": {
      "text/plain": [
       "inf"
      ]
     },
     "execution_count": 2,
     "metadata": {},
     "output_type": "execute_result"
    }
   ],
   "source": [
    "np.array(3)/0"
   ]
  },
  {
   "cell_type": "code",
   "execution_count": 4,
   "id": "ddfcdca3",
   "metadata": {},
   "outputs": [],
   "source": [
    "a = np.inf"
   ]
  },
  {
   "cell_type": "code",
   "execution_count": 5,
   "id": "ef420514",
   "metadata": {},
   "outputs": [
    {
     "data": {
      "text/plain": [
       "inf"
      ]
     },
     "execution_count": 5,
     "metadata": {},
     "output_type": "execute_result"
    }
   ],
   "source": [
    "a"
   ]
  },
  {
   "cell_type": "code",
   "execution_count": 6,
   "id": "fd499ffd",
   "metadata": {},
   "outputs": [],
   "source": [
    "b = np.nan"
   ]
  },
  {
   "cell_type": "code",
   "execution_count": 7,
   "id": "48afc061",
   "metadata": {},
   "outputs": [
    {
     "data": {
      "text/plain": [
       "nan"
      ]
     },
     "execution_count": 7,
     "metadata": {},
     "output_type": "execute_result"
    }
   ],
   "source": [
    "b"
   ]
  },
  {
   "cell_type": "markdown",
   "id": "98eb8b6d",
   "metadata": {},
   "source": [
    "### Dot Product"
   ]
  },
  {
   "cell_type": "code",
   "execution_count": 8,
   "id": "f9f41c5e",
   "metadata": {},
   "outputs": [],
   "source": [
    "ara = np.array([1, 3, 5, 10])\n",
    "arb = np.array([5, 8, 12, 13])\n"
   ]
  },
  {
   "cell_type": "code",
   "execution_count": 9,
   "id": "15d09c56",
   "metadata": {},
   "outputs": [
    {
     "data": {
      "text/plain": [
       "219"
      ]
     },
     "execution_count": 9,
     "metadata": {},
     "output_type": "execute_result"
    }
   ],
   "source": [
    "ara.dot(arb)"
   ]
  },
  {
   "cell_type": "code",
   "execution_count": 11,
   "id": "6941819d",
   "metadata": {},
   "outputs": [],
   "source": [
    "are = np.array([[1, 3, 5, 23], [9, 3, 87, 1]])"
   ]
  },
  {
   "cell_type": "code",
   "execution_count": 12,
   "id": "75b7b4ec",
   "metadata": {},
   "outputs": [
    {
     "data": {
      "text/plain": [
       "array([[ 1,  3,  5, 23],\n",
       "       [ 9,  3, 87,  1]])"
      ]
     },
     "execution_count": 12,
     "metadata": {},
     "output_type": "execute_result"
    }
   ],
   "source": [
    "are"
   ]
  },
  {
   "cell_type": "code",
   "execution_count": 13,
   "id": "48094308",
   "metadata": {},
   "outputs": [
    {
     "data": {
      "text/plain": [
       "array([[ 1,  9],\n",
       "       [ 3,  3],\n",
       "       [ 5, 87],\n",
       "       [23,  1]])"
      ]
     },
     "execution_count": 13,
     "metadata": {},
     "output_type": "execute_result"
    }
   ],
   "source": [
    "are.T"
   ]
  },
  {
   "cell_type": "markdown",
   "id": "89b78133",
   "metadata": {},
   "source": [
    "### min, max, mean, std values"
   ]
  },
  {
   "cell_type": "code",
   "execution_count": 14,
   "id": "54f4ee23",
   "metadata": {},
   "outputs": [],
   "source": [
    "ard = np.array([3, 4, 92, 28, -1, -28, 1448, 1444, -2000])"
   ]
  },
  {
   "cell_type": "code",
   "execution_count": 16,
   "id": "51c4b63b",
   "metadata": {},
   "outputs": [
    {
     "data": {
      "text/plain": [
       "-2000"
      ]
     },
     "execution_count": 16,
     "metadata": {},
     "output_type": "execute_result"
    }
   ],
   "source": [
    "ard.min()"
   ]
  },
  {
   "cell_type": "code",
   "execution_count": 17,
   "id": "87600ab4",
   "metadata": {},
   "outputs": [
    {
     "data": {
      "text/plain": [
       "1448"
      ]
     },
     "execution_count": 17,
     "metadata": {},
     "output_type": "execute_result"
    }
   ],
   "source": [
    "ard.max()"
   ]
  },
  {
   "cell_type": "code",
   "execution_count": 18,
   "id": "f6922424",
   "metadata": {},
   "outputs": [
    {
     "data": {
      "text/plain": [
       "8"
      ]
     },
     "execution_count": 18,
     "metadata": {},
     "output_type": "execute_result"
    }
   ],
   "source": [
    "ard.argmin()"
   ]
  },
  {
   "cell_type": "code",
   "execution_count": 19,
   "id": "57ba0309",
   "metadata": {},
   "outputs": [
    {
     "data": {
      "text/plain": [
       "6"
      ]
     },
     "execution_count": 19,
     "metadata": {},
     "output_type": "execute_result"
    }
   ],
   "source": [
    "ard.argmax()"
   ]
  },
  {
   "cell_type": "code",
   "execution_count": 20,
   "id": "cbe8e266",
   "metadata": {},
   "outputs": [
    {
     "data": {
      "text/plain": [
       "110.0"
      ]
     },
     "execution_count": 20,
     "metadata": {},
     "output_type": "execute_result"
    }
   ],
   "source": [
    "ard.mean()"
   ]
  },
  {
   "cell_type": "code",
   "execution_count": 21,
   "id": "5fb2ad22",
   "metadata": {},
   "outputs": [
    {
     "data": {
      "text/plain": [
       "947.6871260542104"
      ]
     },
     "execution_count": 21,
     "metadata": {},
     "output_type": "execute_result"
    }
   ],
   "source": [
    "ard.std()"
   ]
  },
  {
   "cell_type": "code",
   "execution_count": 22,
   "id": "ea3f628e",
   "metadata": {},
   "outputs": [],
   "source": [
    "ard.sort()"
   ]
  },
  {
   "cell_type": "code",
   "execution_count": 23,
   "id": "b0c8658e",
   "metadata": {},
   "outputs": [
    {
     "data": {
      "text/plain": [
       "array([-2000,   -28,    -1,     3,     4,    28,    92,  1444,  1448])"
      ]
     },
     "execution_count": 23,
     "metadata": {},
     "output_type": "execute_result"
    }
   ],
   "source": [
    "ard"
   ]
  },
  {
   "cell_type": "markdown",
   "id": "7c82401a",
   "metadata": {},
   "source": [
    "### Rounding Function"
   ]
  },
  {
   "cell_type": "code",
   "execution_count": 24,
   "id": "117ad7be",
   "metadata": {},
   "outputs": [],
   "source": [
    "ar = np.array([0.4, 0.21, 0.88881, 0.00000022, 3.58, 88.285389775, -1.8777891266])"
   ]
  },
  {
   "cell_type": "code",
   "execution_count": 25,
   "id": "415421cf",
   "metadata": {},
   "outputs": [
    {
     "data": {
      "text/plain": [
       "array([ 4.00000000e-01,  2.10000000e-01,  8.88810000e-01,  2.20000000e-07,\n",
       "        3.58000000e+00,  8.82853898e+01, -1.87778913e+00])"
      ]
     },
     "execution_count": 25,
     "metadata": {},
     "output_type": "execute_result"
    }
   ],
   "source": [
    "ar"
   ]
  },
  {
   "cell_type": "code",
   "execution_count": 26,
   "id": "78a5ae4f",
   "metadata": {},
   "outputs": [
    {
     "data": {
      "text/plain": [
       "array([ 0.4,  0.2,  0.9,  0. ,  3.6, 88.3, -1.9])"
      ]
     },
     "execution_count": 26,
     "metadata": {},
     "output_type": "execute_result"
    }
   ],
   "source": [
    "ar.round(1)"
   ]
  },
  {
   "cell_type": "code",
   "execution_count": 27,
   "id": "677be32d",
   "metadata": {},
   "outputs": [
    {
     "data": {
      "text/plain": [
       "2.126"
      ]
     },
     "execution_count": 27,
     "metadata": {},
     "output_type": "execute_result"
    }
   ],
   "source": [
    "np.round(2.1255555, 3)"
   ]
  },
  {
   "cell_type": "code",
   "execution_count": 29,
   "id": "de3c002c",
   "metadata": {},
   "outputs": [
    {
     "data": {
      "text/plain": [
       "array([ 0.,  0.,  0.,  0.,  3., 88., -2.])"
      ]
     },
     "execution_count": 29,
     "metadata": {},
     "output_type": "execute_result"
    }
   ],
   "source": [
    "# rounded to nearest smaller integer\n",
    "np.floor(ar)"
   ]
  },
  {
   "cell_type": "code",
   "execution_count": 30,
   "id": "07591db6",
   "metadata": {},
   "outputs": [
    {
     "data": {
      "text/plain": [
       "array([ 1.,  1.,  1.,  1.,  4., 89., -1.])"
      ]
     },
     "execution_count": 30,
     "metadata": {},
     "output_type": "execute_result"
    }
   ],
   "source": [
    "# rounded to nearest largest integer\n",
    "np.ceil(ar)"
   ]
  },
  {
   "cell_type": "markdown",
   "id": "4af546e7",
   "metadata": {},
   "source": [
    "### Trignometric Function"
   ]
  },
  {
   "cell_type": "code",
   "execution_count": 31,
   "id": "0392d0cc",
   "metadata": {},
   "outputs": [
    {
     "data": {
      "text/plain": [
       "array([ 1,  3,  5, 10])"
      ]
     },
     "execution_count": 31,
     "metadata": {},
     "output_type": "execute_result"
    }
   ],
   "source": [
    "ara"
   ]
  },
  {
   "cell_type": "code",
   "execution_count": 32,
   "id": "97a3e889",
   "metadata": {},
   "outputs": [
    {
     "data": {
      "text/plain": [
       "array([ 0.84147098,  0.14112001, -0.95892427, -0.54402111])"
      ]
     },
     "execution_count": 32,
     "metadata": {},
     "output_type": "execute_result"
    }
   ],
   "source": [
    "np.sin(ara)"
   ]
  },
  {
   "cell_type": "code",
   "execution_count": 33,
   "id": "d1d7cdac",
   "metadata": {},
   "outputs": [
    {
     "data": {
      "text/plain": [
       "1.0"
      ]
     },
     "execution_count": 33,
     "metadata": {},
     "output_type": "execute_result"
    }
   ],
   "source": [
    "np.sin(np.pi/2)"
   ]
  },
  {
   "cell_type": "code",
   "execution_count": 34,
   "id": "bf2ff7dc",
   "metadata": {},
   "outputs": [
    {
     "data": {
      "text/plain": [
       "0.0"
      ]
     },
     "execution_count": 34,
     "metadata": {},
     "output_type": "execute_result"
    }
   ],
   "source": [
    "np.sin(0)"
   ]
  },
  {
   "cell_type": "code",
   "execution_count": 35,
   "id": "93364ddb",
   "metadata": {},
   "outputs": [
    {
     "data": {
      "text/plain": [
       "1.0"
      ]
     },
     "execution_count": 35,
     "metadata": {},
     "output_type": "execute_result"
    }
   ],
   "source": [
    "np.cos(0)"
   ]
  },
  {
   "cell_type": "code",
   "execution_count": 36,
   "id": "072b29c7",
   "metadata": {},
   "outputs": [
    {
     "data": {
      "text/plain": [
       "6.123233995736766e-17"
      ]
     },
     "execution_count": 36,
     "metadata": {},
     "output_type": "execute_result"
    }
   ],
   "source": [
    "np.cos(np.pi/2)"
   ]
  },
  {
   "cell_type": "code",
   "execution_count": 37,
   "id": "882e175d",
   "metadata": {},
   "outputs": [],
   "source": [
    "# converting radians into functions"
   ]
  },
  {
   "cell_type": "code",
   "execution_count": 38,
   "id": "b2ffc074",
   "metadata": {},
   "outputs": [
    {
     "data": {
      "text/plain": [
       "180.0"
      ]
     },
     "execution_count": 38,
     "metadata": {},
     "output_type": "execute_result"
    }
   ],
   "source": [
    "np.degrees(np.pi)"
   ]
  },
  {
   "cell_type": "code",
   "execution_count": 39,
   "id": "c50966df",
   "metadata": {},
   "outputs": [
    {
     "data": {
      "text/plain": [
       "1.5707963267948966"
      ]
     },
     "execution_count": 39,
     "metadata": {},
     "output_type": "execute_result"
    }
   ],
   "source": [
    "np.arcsin(1)"
   ]
  },
  {
   "cell_type": "code",
   "execution_count": 40,
   "id": "7b861aa7",
   "metadata": {},
   "outputs": [
    {
     "data": {
      "text/plain": [
       "90.0"
      ]
     },
     "execution_count": 40,
     "metadata": {},
     "output_type": "execute_result"
    }
   ],
   "source": [
    "np.degrees(np.arcsin(1))"
   ]
  },
  {
   "cell_type": "code",
   "execution_count": 41,
   "id": "43109c9e",
   "metadata": {},
   "outputs": [],
   "source": [
    "# hypotenuse function for providing base and taking perpendicular height of triangle"
   ]
  },
  {
   "cell_type": "code",
   "execution_count": 43,
   "id": "244e18da",
   "metadata": {},
   "outputs": [
    {
     "data": {
      "text/plain": [
       "5.0"
      ]
     },
     "execution_count": 43,
     "metadata": {},
     "output_type": "execute_result"
    }
   ],
   "source": [
    "np.hypot(3, 4)"
   ]
  },
  {
   "cell_type": "markdown",
   "id": "f1c235b7",
   "metadata": {},
   "source": [
    "### Logarithmic and Exponential function"
   ]
  },
  {
   "cell_type": "code",
   "execution_count": 45,
   "id": "0f07d02f",
   "metadata": {},
   "outputs": [
    {
     "data": {
      "text/plain": [
       "2.718281828459045"
      ]
     },
     "execution_count": 45,
     "metadata": {},
     "output_type": "execute_result"
    }
   ],
   "source": [
    "np.exp(1)"
   ]
  },
  {
   "cell_type": "code",
   "execution_count": 46,
   "id": "da236fad",
   "metadata": {},
   "outputs": [
    {
     "data": {
      "text/plain": [
       "7.38905609893065"
      ]
     },
     "execution_count": 46,
     "metadata": {},
     "output_type": "execute_result"
    }
   ],
   "source": [
    "np.exp(2)"
   ]
  },
  {
   "cell_type": "code",
   "execution_count": 47,
   "id": "85fcd6a9",
   "metadata": {},
   "outputs": [
    {
     "data": {
      "text/plain": [
       "array([   54.59815003,   403.42879349,  2980.95798704, 22026.46579481])"
      ]
     },
     "execution_count": 47,
     "metadata": {},
     "output_type": "execute_result"
    }
   ],
   "source": [
    "np.exp([4, 6, 8, 10])"
   ]
  },
  {
   "cell_type": "code",
   "execution_count": 48,
   "id": "ba2fbdf4",
   "metadata": {},
   "outputs": [
    {
     "data": {
      "text/plain": [
       "0.0"
      ]
     },
     "execution_count": 48,
     "metadata": {},
     "output_type": "execute_result"
    }
   ],
   "source": [
    "# natural log\n",
    "np.log(1)"
   ]
  },
  {
   "cell_type": "code",
   "execution_count": 49,
   "id": "f84736b8",
   "metadata": {},
   "outputs": [
    {
     "data": {
      "text/plain": [
       "1.0"
      ]
     },
     "execution_count": 49,
     "metadata": {},
     "output_type": "execute_result"
    }
   ],
   "source": [
    "np.log(np.exp(1))"
   ]
  },
  {
   "cell_type": "code",
   "execution_count": 50,
   "id": "b890e411",
   "metadata": {},
   "outputs": [
    {
     "data": {
      "text/plain": [
       "0.0"
      ]
     },
     "execution_count": 50,
     "metadata": {},
     "output_type": "execute_result"
    }
   ],
   "source": [
    "np.log10(1)"
   ]
  },
  {
   "cell_type": "code",
   "execution_count": 51,
   "id": "70a2396f",
   "metadata": {},
   "outputs": [
    {
     "data": {
      "text/plain": [
       "1.0"
      ]
     },
     "execution_count": 51,
     "metadata": {},
     "output_type": "execute_result"
    }
   ],
   "source": [
    "np.log10(10)"
   ]
  },
  {
   "cell_type": "code",
   "execution_count": 52,
   "id": "890ffc31",
   "metadata": {},
   "outputs": [
    {
     "data": {
      "text/plain": [
       "1.0"
      ]
     },
     "execution_count": 52,
     "metadata": {},
     "output_type": "execute_result"
    }
   ],
   "source": [
    "np.log2(2)"
   ]
  },
  {
   "cell_type": "markdown",
   "id": "e7d5ec20",
   "metadata": {},
   "source": [
    "### Matrix multiplication use @"
   ]
  },
  {
   "cell_type": "code",
   "execution_count": 54,
   "id": "c61fee7f",
   "metadata": {},
   "outputs": [],
   "source": [
    "ax = np.array([[4, 6, 8, 19], [7, 67, 22, 45]])"
   ]
  },
  {
   "cell_type": "code",
   "execution_count": 55,
   "id": "65e417cb",
   "metadata": {},
   "outputs": [
    {
     "data": {
      "text/plain": [
       "array([[ 4,  6,  8, 19],\n",
       "       [ 7, 67, 22, 45]])"
      ]
     },
     "execution_count": 55,
     "metadata": {},
     "output_type": "execute_result"
    }
   ],
   "source": [
    "ax"
   ]
  },
  {
   "cell_type": "code",
   "execution_count": 56,
   "id": "337b1524",
   "metadata": {},
   "outputs": [],
   "source": [
    "ay = np.array([[4, 6], [82, 11], [34, 1], [14, 10]])"
   ]
  },
  {
   "cell_type": "code",
   "execution_count": 57,
   "id": "7983ae9e",
   "metadata": {},
   "outputs": [
    {
     "data": {
      "text/plain": [
       "array([[ 4,  6],\n",
       "       [82, 11],\n",
       "       [34,  1],\n",
       "       [14, 10]])"
      ]
     },
     "execution_count": 57,
     "metadata": {},
     "output_type": "execute_result"
    }
   ],
   "source": [
    "ay"
   ]
  },
  {
   "cell_type": "code",
   "execution_count": null,
   "id": "f6069032",
   "metadata": {},
   "outputs": [],
   "source": [
    "ax"
   ]
  }
 ],
 "metadata": {
  "kernelspec": {
   "display_name": "Python 3 (ipykernel)",
   "language": "python",
   "name": "python3"
  },
  "language_info": {
   "codemirror_mode": {
    "name": "ipython",
    "version": 3
   },
   "file_extension": ".py",
   "mimetype": "text/x-python",
   "name": "python",
   "nbconvert_exporter": "python",
   "pygments_lexer": "ipython3",
   "version": "3.9.6"
  }
 },
 "nbformat": 4,
 "nbformat_minor": 5
}
