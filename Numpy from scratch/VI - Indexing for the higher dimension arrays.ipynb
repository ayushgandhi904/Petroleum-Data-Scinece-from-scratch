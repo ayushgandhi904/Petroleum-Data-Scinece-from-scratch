{
 "cells": [
  {
   "cell_type": "markdown",
   "id": "b8186b77",
   "metadata": {},
   "source": [
    "### Indexing the higher dimension arrays"
   ]
  },
  {
   "cell_type": "code",
   "execution_count": 1,
   "id": "a26b4541",
   "metadata": {},
   "outputs": [],
   "source": [
    "import numpy as np"
   ]
  },
  {
   "cell_type": "code",
   "execution_count": 2,
   "id": "31a36ed8",
   "metadata": {},
   "outputs": [],
   "source": [
    "arr = np.array([[1, 5, 11], [33, 91, 9], [25, 91, 92], [86, 65, 42]])"
   ]
  },
  {
   "cell_type": "code",
   "execution_count": 3,
   "id": "312549a7",
   "metadata": {},
   "outputs": [
    {
     "data": {
      "text/plain": [
       "2"
      ]
     },
     "execution_count": 3,
     "metadata": {},
     "output_type": "execute_result"
    }
   ],
   "source": [
    "arr.ndim"
   ]
  },
  {
   "cell_type": "code",
   "execution_count": 4,
   "id": "2c037656",
   "metadata": {},
   "outputs": [
    {
     "data": {
      "text/plain": [
       "array([[ 1,  5, 11],\n",
       "       [33, 91,  9],\n",
       "       [25, 91, 92],\n",
       "       [86, 65, 42]])"
      ]
     },
     "execution_count": 4,
     "metadata": {},
     "output_type": "execute_result"
    }
   ],
   "source": [
    "arr"
   ]
  },
  {
   "cell_type": "code",
   "execution_count": 5,
   "id": "88cad918",
   "metadata": {},
   "outputs": [
    {
     "data": {
      "text/plain": [
       "(4, 3)"
      ]
     },
     "execution_count": 5,
     "metadata": {},
     "output_type": "execute_result"
    }
   ],
   "source": [
    "arr.shape"
   ]
  },
  {
   "cell_type": "code",
   "execution_count": 6,
   "id": "a44907ee",
   "metadata": {},
   "outputs": [
    {
     "data": {
      "text/plain": [
       "array([33, 91,  9])"
      ]
     },
     "execution_count": 6,
     "metadata": {},
     "output_type": "execute_result"
    }
   ],
   "source": [
    "arr[1]"
   ]
  },
  {
   "cell_type": "code",
   "execution_count": 7,
   "id": "b4347ea7",
   "metadata": {},
   "outputs": [
    {
     "data": {
      "text/plain": [
       "91"
      ]
     },
     "execution_count": 7,
     "metadata": {},
     "output_type": "execute_result"
    }
   ],
   "source": [
    "arr[1][1]"
   ]
  },
  {
   "cell_type": "code",
   "execution_count": 8,
   "id": "da48648d",
   "metadata": {},
   "outputs": [
    {
     "data": {
      "text/plain": [
       "91"
      ]
     },
     "execution_count": 8,
     "metadata": {},
     "output_type": "execute_result"
    }
   ],
   "source": [
    "arr[1, 1]"
   ]
  },
  {
   "cell_type": "code",
   "execution_count": 9,
   "id": "e6178c35",
   "metadata": {},
   "outputs": [
    {
     "data": {
      "text/plain": [
       "array([[ 1,  5, 11],\n",
       "       [33, 91,  9],\n",
       "       [25, 91, 92],\n",
       "       [86, 65, 42]])"
      ]
     },
     "execution_count": 9,
     "metadata": {},
     "output_type": "execute_result"
    }
   ],
   "source": [
    "arr"
   ]
  },
  {
   "cell_type": "code",
   "execution_count": 10,
   "id": "c87cf8bb",
   "metadata": {},
   "outputs": [
    {
     "data": {
      "text/plain": [
       "9"
      ]
     },
     "execution_count": 10,
     "metadata": {},
     "output_type": "execute_result"
    }
   ],
   "source": [
    "arr[-3][-1]"
   ]
  },
  {
   "cell_type": "code",
   "execution_count": 11,
   "id": "96b36fc3",
   "metadata": {},
   "outputs": [],
   "source": [
    "# 3d Arrays"
   ]
  },
  {
   "cell_type": "code",
   "execution_count": 12,
   "id": "7a402dd8",
   "metadata": {},
   "outputs": [],
   "source": [
    "ar = np.array([[[48, 97, 46], [14, 82, 14]], [[5, 68, 98], [62, 33, 90]]])"
   ]
  },
  {
   "cell_type": "code",
   "execution_count": 13,
   "id": "efbd5760",
   "metadata": {},
   "outputs": [
    {
     "data": {
      "text/plain": [
       "array([[[48, 97, 46],\n",
       "        [14, 82, 14]],\n",
       "\n",
       "       [[ 5, 68, 98],\n",
       "        [62, 33, 90]]])"
      ]
     },
     "execution_count": 13,
     "metadata": {},
     "output_type": "execute_result"
    }
   ],
   "source": [
    "ar"
   ]
  },
  {
   "cell_type": "code",
   "execution_count": 14,
   "id": "e9b1e964",
   "metadata": {},
   "outputs": [
    {
     "data": {
      "text/plain": [
       "array([[ 5, 68, 98],\n",
       "       [62, 33, 90]])"
      ]
     },
     "execution_count": 14,
     "metadata": {},
     "output_type": "execute_result"
    }
   ],
   "source": [
    "ar[1]"
   ]
  },
  {
   "cell_type": "code",
   "execution_count": 15,
   "id": "6d9de4af",
   "metadata": {},
   "outputs": [
    {
     "data": {
      "text/plain": [
       "array([62, 33, 90])"
      ]
     },
     "execution_count": 15,
     "metadata": {},
     "output_type": "execute_result"
    }
   ],
   "source": [
    "ar[1, 1]"
   ]
  },
  {
   "cell_type": "code",
   "execution_count": 16,
   "id": "4ff4c7a4",
   "metadata": {},
   "outputs": [
    {
     "data": {
      "text/plain": [
       "33"
      ]
     },
     "execution_count": 16,
     "metadata": {},
     "output_type": "execute_result"
    }
   ],
   "source": [
    "ar[1, 1, 1]"
   ]
  },
  {
   "cell_type": "code",
   "execution_count": 18,
   "id": "f40cb9e4",
   "metadata": {},
   "outputs": [],
   "source": [
    "# high dimensinon arry\n",
    "\n",
    "aaa = np.array(([1, 5, 88]), ndmin = 5)"
   ]
  },
  {
   "cell_type": "code",
   "execution_count": 19,
   "id": "7459dcee",
   "metadata": {},
   "outputs": [
    {
     "data": {
      "text/plain": [
       "array([[[[[ 1,  5, 88]]]]])"
      ]
     },
     "execution_count": 19,
     "metadata": {},
     "output_type": "execute_result"
    }
   ],
   "source": [
    "aaa"
   ]
  },
  {
   "cell_type": "code",
   "execution_count": 20,
   "id": "5ef491ef",
   "metadata": {},
   "outputs": [
    {
     "data": {
      "text/plain": [
       "5"
      ]
     },
     "execution_count": 20,
     "metadata": {},
     "output_type": "execute_result"
    }
   ],
   "source": [
    "aaa.ndim"
   ]
  },
  {
   "cell_type": "code",
   "execution_count": 21,
   "id": "456a8ecc",
   "metadata": {},
   "outputs": [
    {
     "data": {
      "text/plain": [
       "5"
      ]
     },
     "execution_count": 21,
     "metadata": {},
     "output_type": "execute_result"
    }
   ],
   "source": [
    "aaa[0, 0, 0, 0, 1]"
   ]
  },
  {
   "cell_type": "code",
   "execution_count": null,
   "id": "d84cb525",
   "metadata": {},
   "outputs": [],
   "source": []
  }
 ],
 "metadata": {
  "kernelspec": {
   "display_name": "Python 3 (ipykernel)",
   "language": "python",
   "name": "python3"
  },
  "language_info": {
   "codemirror_mode": {
    "name": "ipython",
    "version": 3
   },
   "file_extension": ".py",
   "mimetype": "text/x-python",
   "name": "python",
   "nbconvert_exporter": "python",
   "pygments_lexer": "ipython3",
   "version": "3.9.6"
  }
 },
 "nbformat": 4,
 "nbformat_minor": 5
}
