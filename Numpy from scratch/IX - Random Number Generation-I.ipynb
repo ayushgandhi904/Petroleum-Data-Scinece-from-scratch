{
 "cells": [
  {
   "cell_type": "code",
   "execution_count": 1,
   "id": "b852baf6",
   "metadata": {},
   "outputs": [],
   "source": [
    "import numpy as np"
   ]
  },
  {
   "cell_type": "markdown",
   "id": "a3b7646d",
   "metadata": {},
   "source": [
    "## Random number generator "
   ]
  },
  {
   "cell_type": "markdown",
   "id": "5a6fa8c6",
   "metadata": {},
   "source": [
    "### Randit: Generating the random number \n",
    "* provide maximum number"
   ]
  },
  {
   "cell_type": "code",
   "execution_count": 14,
   "id": "8a2a2895",
   "metadata": {},
   "outputs": [
    {
     "data": {
      "text/plain": [
       "-17"
      ]
     },
     "execution_count": 14,
     "metadata": {},
     "output_type": "execute_result"
    }
   ],
   "source": [
    "np.random.randint(-20, -1)"
   ]
  },
  {
   "cell_type": "code",
   "execution_count": 20,
   "id": "57721ede",
   "metadata": {},
   "outputs": [],
   "source": [
    "a = np.random.randint(1, 401, (2, 2, 2))"
   ]
  },
  {
   "cell_type": "code",
   "execution_count": 21,
   "id": "6e1037d6",
   "metadata": {},
   "outputs": [
    {
     "data": {
      "text/plain": [
       "array([[[182,  81],\n",
       "        [ 66,  57]],\n",
       "\n",
       "       [[339, 386],\n",
       "        [297, 296]]])"
      ]
     },
     "execution_count": 21,
     "metadata": {},
     "output_type": "execute_result"
    }
   ],
   "source": [
    "a"
   ]
  },
  {
   "cell_type": "code",
   "execution_count": 22,
   "id": "11be72fd",
   "metadata": {},
   "outputs": [],
   "source": [
    "# rand -------> for generating random float from 0 to 1"
   ]
  },
  {
   "cell_type": "code",
   "execution_count": 26,
   "id": "2aec182a",
   "metadata": {},
   "outputs": [
    {
     "data": {
      "text/plain": [
       "0.6100290567427303"
      ]
     },
     "execution_count": 26,
     "metadata": {},
     "output_type": "execute_result"
    }
   ],
   "source": [
    "np.random.rand()"
   ]
  },
  {
   "cell_type": "code",
   "execution_count": 27,
   "id": "7afca8ea",
   "metadata": {},
   "outputs": [
    {
     "data": {
      "text/plain": [
       "array([[0.44539319, 0.57716032, 0.98147703, 0.78170556],\n",
       "       [0.36923868, 0.80038434, 0.91131206, 0.82122173],\n",
       "       [0.35581732, 0.18101342, 0.91900985, 0.4076452 ],\n",
       "       [0.54678125, 0.27557319, 0.66940926, 0.97327178],\n",
       "       [0.75398879, 0.67121064, 0.38852866, 0.69168491]])"
      ]
     },
     "execution_count": 27,
     "metadata": {},
     "output_type": "execute_result"
    }
   ],
   "source": [
    "np.random.rand(5, 4)"
   ]
  },
  {
   "cell_type": "code",
   "execution_count": 28,
   "id": "b7394eda",
   "metadata": {},
   "outputs": [
    {
     "data": {
      "text/plain": [
       "array([[[0.13620929, 0.0070259 ],\n",
       "        [0.0438617 , 0.29050727]],\n",
       "\n",
       "       [[0.89966458, 0.38529641],\n",
       "        [0.76547729, 0.66948448]],\n",
       "\n",
       "       [[0.90251046, 0.01848622],\n",
       "        [0.51449974, 0.05835638]]])"
      ]
     },
     "execution_count": 28,
     "metadata": {},
     "output_type": "execute_result"
    }
   ],
   "source": [
    "np.random.rand(3, 2, 2)"
   ]
  },
  {
   "cell_type": "code",
   "execution_count": 42,
   "id": "49cd5d73",
   "metadata": {},
   "outputs": [],
   "source": [
    "\n",
    "a    = np.random.randint(200, size = (2, 2))\n",
    "b = np.random.rand(2, 2)"
   ]
  },
  {
   "cell_type": "code",
   "execution_count": 43,
   "id": "172cf68a",
   "metadata": {},
   "outputs": [
    {
     "data": {
      "text/plain": [
       "array([[ 68.36122022,   2.29784181],\n",
       "       [105.23103944, 144.49963329]])"
      ]
     },
     "execution_count": 43,
     "metadata": {},
     "output_type": "execute_result"
    }
   ],
   "source": [
    "a + b"
   ]
  },
  {
   "cell_type": "markdown",
   "id": "528488f9",
   "metadata": {},
   "source": [
    "### Choice"
   ]
  },
  {
   "cell_type": "code",
   "execution_count": 44,
   "id": "57d2f5fb",
   "metadata": {},
   "outputs": [],
   "source": [
    "# choice =========> generating the random value base on the choices"
   ]
  },
  {
   "cell_type": "code",
   "execution_count": 52,
   "id": "b9f0130f",
   "metadata": {},
   "outputs": [],
   "source": [
    "x = np.random.choice([1, 2, 4, 5])"
   ]
  },
  {
   "cell_type": "code",
   "execution_count": 53,
   "id": "3b493c8a",
   "metadata": {},
   "outputs": [
    {
     "data": {
      "text/plain": [
       "2"
      ]
     },
     "execution_count": 53,
     "metadata": {},
     "output_type": "execute_result"
    }
   ],
   "source": [
    "x"
   ]
  },
  {
   "cell_type": "code",
   "execution_count": 57,
   "id": "f2ab5e5b",
   "metadata": {},
   "outputs": [
    {
     "data": {
      "text/plain": [
       "array([[3, 1, 4],\n",
       "       [2, 4, 5],\n",
       "       [3, 3, 2]])"
      ]
     },
     "execution_count": 57,
     "metadata": {},
     "output_type": "execute_result"
    }
   ],
   "source": [
    "y = np.random.choice([1, 2, 3, 4, 5], size = (3, 3))\n",
    "y"
   ]
  },
  {
   "cell_type": "code",
   "execution_count": 58,
   "id": "52c09f9a",
   "metadata": {},
   "outputs": [],
   "source": [
    "# by choice =======> we can specify the probablity of each choice\n",
    "# the sum of probability should be 1"
   ]
  },
  {
   "cell_type": "code",
   "execution_count": 62,
   "id": "27344aa4",
   "metadata": {},
   "outputs": [
    {
     "data": {
      "text/plain": [
       "array([[1, 1, 1],\n",
       "       [1, 9, 1],\n",
       "       [1, 1, 6]])"
      ]
     },
     "execution_count": 62,
     "metadata": {},
     "output_type": "execute_result"
    }
   ],
   "source": [
    "z = np.random.choice([1, 2, 6, 8, 9], p = [0.7, 0.1, 0.1, 0.05, 0.05], size = (3, 3))\n",
    "z"
   ]
  },
  {
   "cell_type": "code",
   "execution_count": null,
   "id": "fe256934",
   "metadata": {},
   "outputs": [],
   "source": []
  },
  {
   "cell_type": "code",
   "execution_count": null,
   "id": "10dedd83",
   "metadata": {},
   "outputs": [],
   "source": []
  }
 ],
 "metadata": {
  "kernelspec": {
   "display_name": "Python 3 (ipykernel)",
   "language": "python",
   "name": "python3"
  },
  "language_info": {
   "codemirror_mode": {
    "name": "ipython",
    "version": 3
   },
   "file_extension": ".py",
   "mimetype": "text/x-python",
   "name": "python",
   "nbconvert_exporter": "python",
   "pygments_lexer": "ipython3",
   "version": "3.9.6"
  }
 },
 "nbformat": 4,
 "nbformat_minor": 5
}
