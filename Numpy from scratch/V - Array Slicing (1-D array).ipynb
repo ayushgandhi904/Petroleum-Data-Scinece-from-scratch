{
 "cells": [
  {
   "cell_type": "code",
   "execution_count": 1,
   "id": "60d31cb9",
   "metadata": {},
   "outputs": [],
   "source": [
    "import numpy as np"
   ]
  },
  {
   "cell_type": "code",
   "execution_count": 2,
   "id": "f862dfca",
   "metadata": {},
   "outputs": [],
   "source": [
    "arr = np.array([15, 95, 92, 50, \"Hello\", \"Ayush\"])"
   ]
  },
  {
   "cell_type": "code",
   "execution_count": 3,
   "id": "59e240fe",
   "metadata": {},
   "outputs": [
    {
     "data": {
      "text/plain": [
       "array(['95', 'Ayush', '50'], dtype='<U11')"
      ]
     },
     "execution_count": 3,
     "metadata": {},
     "output_type": "execute_result"
    }
   ],
   "source": [
    "arr[[1, -1, 3]]"
   ]
  },
  {
   "cell_type": "code",
   "execution_count": 4,
   "id": "b4af0ad7",
   "metadata": {},
   "outputs": [
    {
     "data": {
      "text/plain": [
       "array(['95', '92', '50', 'Hello', 'Ayush'], dtype='<U11')"
      ]
     },
     "execution_count": 4,
     "metadata": {},
     "output_type": "execute_result"
    }
   ],
   "source": [
    "arr[1:8]"
   ]
  },
  {
   "cell_type": "code",
   "execution_count": 5,
   "id": "e5f5aa89",
   "metadata": {},
   "outputs": [
    {
     "data": {
      "text/plain": [
       "array(['15', '92', 'Hello'], dtype='<U11')"
      ]
     },
     "execution_count": 5,
     "metadata": {},
     "output_type": "execute_result"
    }
   ],
   "source": [
    "arr[::2]"
   ]
  },
  {
   "cell_type": "code",
   "execution_count": 6,
   "id": "0d226bf7",
   "metadata": {},
   "outputs": [
    {
     "data": {
      "text/plain": [
       "array(['Ayush', 'Hello', '50', '92', '95', '15'], dtype='<U11')"
      ]
     },
     "execution_count": 6,
     "metadata": {},
     "output_type": "execute_result"
    }
   ],
   "source": [
    "arr[::-1]"
   ]
  },
  {
   "cell_type": "code",
   "execution_count": 7,
   "id": "e4d6f5f5",
   "metadata": {},
   "outputs": [
    {
     "data": {
      "text/plain": [
       "array(['Ayush', 'Hello', '50', '92', '95', '15'], dtype='<U11')"
      ]
     },
     "execution_count": 7,
     "metadata": {},
     "output_type": "execute_result"
    }
   ],
   "source": [
    "arr[-1::-1]"
   ]
  },
  {
   "cell_type": "code",
   "execution_count": 8,
   "id": "10467fa7",
   "metadata": {},
   "outputs": [
    {
     "data": {
      "text/plain": [
       "array(['Ayush', '50', '95'], dtype='<U11')"
      ]
     },
     "execution_count": 8,
     "metadata": {},
     "output_type": "execute_result"
    }
   ],
   "source": [
    "arr[-1::-2]"
   ]
  },
  {
   "cell_type": "code",
   "execution_count": 9,
   "id": "180cd0db",
   "metadata": {},
   "outputs": [],
   "source": [
    "# used in linear reservoir "
   ]
  },
  {
   "cell_type": "code",
   "execution_count": 11,
   "id": "3bd7c6ec",
   "metadata": {},
   "outputs": [],
   "source": [
    "perm = np.array([10, 12, 22, 27, 5, 7])"
   ]
  },
  {
   "cell_type": "code",
   "execution_count": 12,
   "id": "1ec78bac",
   "metadata": {},
   "outputs": [],
   "source": [
    "dp = np.array([25, 15, 183, 128, 283, 322])"
   ]
  },
  {
   "cell_type": "code",
   "execution_count": 13,
   "id": "0df503a8",
   "metadata": {},
   "outputs": [],
   "source": [
    "A = 20\n",
    "vis = 12"
   ]
  },
  {
   "cell_type": "code",
   "execution_count": null,
   "id": "22338762",
   "metadata": {},
   "outputs": [],
   "source": [
    "q = "
   ]
  }
 ],
 "metadata": {
  "kernelspec": {
   "display_name": "Python 3 (ipykernel)",
   "language": "python",
   "name": "python3"
  },
  "language_info": {
   "codemirror_mode": {
    "name": "ipython",
    "version": 3
   },
   "file_extension": ".py",
   "mimetype": "text/x-python",
   "name": "python",
   "nbconvert_exporter": "python",
   "pygments_lexer": "ipython3",
   "version": "3.9.6"
  }
 },
 "nbformat": 4,
 "nbformat_minor": 5
}
