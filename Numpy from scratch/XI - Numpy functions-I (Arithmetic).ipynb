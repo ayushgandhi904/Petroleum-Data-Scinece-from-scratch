{
 "cells": [
  {
   "cell_type": "code",
   "execution_count": 1,
   "id": "5028ddc3",
   "metadata": {},
   "outputs": [],
   "source": [
    "import numpy as np"
   ]
  },
  {
   "cell_type": "markdown",
   "id": "79dc8fcf",
   "metadata": {},
   "source": [
    "### Arithmetic function"
   ]
  },
  {
   "cell_type": "code",
   "execution_count": 2,
   "id": "e54aa74d",
   "metadata": {},
   "outputs": [
    {
     "data": {
      "text/plain": [
       "[2, 9, 10, 11, 12, 1, 2, 4, 8, 19]"
      ]
     },
     "execution_count": 2,
     "metadata": {},
     "output_type": "execute_result"
    }
   ],
   "source": [
    "# addition\n",
    "\n",
    "a = [2, 9, 10, 11, 12]\n",
    "b = [1, 2, 4, 8, 19]\n",
    "\n",
    "c = a+b\n",
    "c"
   ]
  },
  {
   "cell_type": "code",
   "execution_count": 4,
   "id": "cffa6e76",
   "metadata": {},
   "outputs": [
    {
     "data": {
      "text/plain": [
       "[3, 11, 14, 19, 31]"
      ]
     },
     "execution_count": 4,
     "metadata": {},
     "output_type": "execute_result"
    }
   ],
   "source": [
    "d = []\n",
    "\n",
    "for i, j in zip(a, b):\n",
    "    d.append(i+j)\n",
    "d"
   ]
  },
  {
   "cell_type": "code",
   "execution_count": 6,
   "id": "54a4e052",
   "metadata": {},
   "outputs": [
    {
     "data": {
      "text/plain": [
       "array([ 1,  7,  6,  3, -7])"
      ]
     },
     "execution_count": 6,
     "metadata": {},
     "output_type": "execute_result"
    }
   ],
   "source": [
    "ara = np.array(a)\n",
    "arb = np.array(b)\n",
    "arc = ara - arb\n",
    "arc"
   ]
  },
  {
   "cell_type": "code",
   "execution_count": 7,
   "id": "006c44ee",
   "metadata": {},
   "outputs": [
    {
     "data": {
      "text/plain": [
       "array([  2,  18,  40,  88, 228])"
      ]
     },
     "execution_count": 7,
     "metadata": {},
     "output_type": "execute_result"
    }
   ],
   "source": [
    "ard = ara*arb\n",
    "ard"
   ]
  },
  {
   "cell_type": "code",
   "execution_count": 8,
   "id": "a9a37407",
   "metadata": {},
   "outputs": [
    {
     "data": {
      "text/plain": [
       "[2, 18, 40, 88, 228]"
      ]
     },
     "execution_count": 8,
     "metadata": {},
     "output_type": "execute_result"
    }
   ],
   "source": [
    "list(ard)"
   ]
  },
  {
   "cell_type": "code",
   "execution_count": 9,
   "id": "5e0c5b55",
   "metadata": {},
   "outputs": [
    {
     "data": {
      "text/plain": [
       "array([2.        , 4.5       , 2.5       , 1.375     , 0.63157895])"
      ]
     },
     "execution_count": 9,
     "metadata": {},
     "output_type": "execute_result"
    }
   ],
   "source": [
    "are = ara/arb\n",
    "are"
   ]
  },
  {
   "cell_type": "code",
   "execution_count": 10,
   "id": "50d5b255",
   "metadata": {},
   "outputs": [
    {
     "data": {
      "text/plain": [
       "array([        2,        81,     10000, 214358881,         0])"
      ]
     },
     "execution_count": 10,
     "metadata": {},
     "output_type": "execute_result"
    }
   ],
   "source": [
    "arf = ara**arb\n",
    "arf"
   ]
  },
  {
   "cell_type": "code",
   "execution_count": 11,
   "id": "b18a61fb",
   "metadata": {},
   "outputs": [],
   "source": [
    "# it need to have same length"
   ]
  },
  {
   "cell_type": "code",
   "execution_count": 12,
   "id": "9354f7cb",
   "metadata": {},
   "outputs": [],
   "source": [
    "# operations not having same length produce error"
   ]
  },
  {
   "cell_type": "code",
   "execution_count": 13,
   "id": "83943a91",
   "metadata": {},
   "outputs": [
    {
     "data": {
      "text/plain": [
       "array([2, 4, 2, 1, 0])"
      ]
     },
     "execution_count": 13,
     "metadata": {},
     "output_type": "execute_result"
    }
   ],
   "source": [
    "arx = ara//arb\n",
    "arx"
   ]
  },
  {
   "cell_type": "code",
   "execution_count": 14,
   "id": "72f1d305",
   "metadata": {},
   "outputs": [
    {
     "data": {
      "text/plain": [
       "array([2, 0, 1, 2, 0], dtype=int32)"
      ]
     },
     "execution_count": 14,
     "metadata": {},
     "output_type": "execute_result"
    }
   ],
   "source": [
    "ara%3"
   ]
  },
  {
   "cell_type": "code",
   "execution_count": 15,
   "id": "6e6e99e3",
   "metadata": {},
   "outputs": [
    {
     "data": {
      "text/plain": [
       "10.677078252031311"
      ]
     },
     "execution_count": 15,
     "metadata": {},
     "output_type": "execute_result"
    }
   ],
   "source": [
    "np.sqrt(114)"
   ]
  },
  {
   "cell_type": "code",
   "execution_count": 17,
   "id": "2973bbd9",
   "metadata": {},
   "outputs": [],
   "source": [
    "x = np.sqrt(ara)"
   ]
  },
  {
   "cell_type": "code",
   "execution_count": 18,
   "id": "f525615f",
   "metadata": {},
   "outputs": [
    {
     "data": {
      "text/plain": [
       "array([1.41421356, 3.        , 3.16227766, 3.31662479, 3.46410162])"
      ]
     },
     "execution_count": 18,
     "metadata": {},
     "output_type": "execute_result"
    }
   ],
   "source": [
    "x"
   ]
  },
  {
   "cell_type": "code",
   "execution_count": null,
   "id": "750189c7",
   "metadata": {},
   "outputs": [],
   "source": []
  }
 ],
 "metadata": {
  "kernelspec": {
   "display_name": "Python 3 (ipykernel)",
   "language": "python",
   "name": "python3"
  },
  "language_info": {
   "codemirror_mode": {
    "name": "ipython",
    "version": 3
   },
   "file_extension": ".py",
   "mimetype": "text/x-python",
   "name": "python",
   "nbconvert_exporter": "python",
   "pygments_lexer": "ipython3",
   "version": "3.9.6"
  }
 },
 "nbformat": 4,
 "nbformat_minor": 5
}
