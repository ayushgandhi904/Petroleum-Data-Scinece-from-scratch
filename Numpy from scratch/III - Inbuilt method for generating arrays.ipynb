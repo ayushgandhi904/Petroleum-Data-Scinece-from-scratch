{
 "cells": [
  {
   "cell_type": "markdown",
   "id": "0b6d0187",
   "metadata": {},
   "source": [
    "### Inbuild methods to build arrays"
   ]
  },
  {
   "cell_type": "code",
   "execution_count": 3,
   "id": "ccc81cbc",
   "metadata": {},
   "outputs": [],
   "source": [
    "# making an array of pressure from 0 to 5000 psi from step function of 500 psi\n",
    "import numpy as np"
   ]
  },
  {
   "cell_type": "code",
   "execution_count": 6,
   "id": "573fa6f7",
   "metadata": {},
   "outputs": [],
   "source": [
    "pressure = np.arange(0, 5500, 500)"
   ]
  },
  {
   "cell_type": "code",
   "execution_count": 7,
   "id": "e3a583fb",
   "metadata": {},
   "outputs": [
    {
     "data": {
      "text/plain": [
       "array([   0,  500, 1000, 1500, 2000, 2500, 3000, 3500, 4000, 4500, 5000])"
      ]
     },
     "execution_count": 7,
     "metadata": {},
     "output_type": "execute_result"
    }
   ],
   "source": [
    "pressure"
   ]
  },
  {
   "cell_type": "code",
   "execution_count": 9,
   "id": "ecdb68cd",
   "metadata": {},
   "outputs": [
    {
     "data": {
      "text/plain": [
       "1"
      ]
     },
     "execution_count": 9,
     "metadata": {},
     "output_type": "execute_result"
    }
   ],
   "source": [
    "pressure.ndim"
   ]
  },
  {
   "cell_type": "markdown",
   "id": "a6955d7e",
   "metadata": {},
   "source": [
    "### Linespace method"
   ]
  },
  {
   "cell_type": "code",
   "execution_count": 10,
   "id": "bd0d0bfd",
   "metadata": {},
   "outputs": [],
   "source": [
    "#create an array saturation from 0 to 1 having 100 points"
   ]
  },
  {
   "cell_type": "code",
   "execution_count": 13,
   "id": "05bd35dc",
   "metadata": {},
   "outputs": [],
   "source": [
    "saturation = np.linspace(0, 1, 100)"
   ]
  },
  {
   "cell_type": "code",
   "execution_count": 14,
   "id": "2d62517e",
   "metadata": {},
   "outputs": [
    {
     "data": {
      "text/plain": [
       "array([0.        , 0.01010101, 0.02020202, 0.03030303, 0.04040404,\n",
       "       0.05050505, 0.06060606, 0.07070707, 0.08080808, 0.09090909,\n",
       "       0.1010101 , 0.11111111, 0.12121212, 0.13131313, 0.14141414,\n",
       "       0.15151515, 0.16161616, 0.17171717, 0.18181818, 0.19191919,\n",
       "       0.2020202 , 0.21212121, 0.22222222, 0.23232323, 0.24242424,\n",
       "       0.25252525, 0.26262626, 0.27272727, 0.28282828, 0.29292929,\n",
       "       0.3030303 , 0.31313131, 0.32323232, 0.33333333, 0.34343434,\n",
       "       0.35353535, 0.36363636, 0.37373737, 0.38383838, 0.39393939,\n",
       "       0.4040404 , 0.41414141, 0.42424242, 0.43434343, 0.44444444,\n",
       "       0.45454545, 0.46464646, 0.47474747, 0.48484848, 0.49494949,\n",
       "       0.50505051, 0.51515152, 0.52525253, 0.53535354, 0.54545455,\n",
       "       0.55555556, 0.56565657, 0.57575758, 0.58585859, 0.5959596 ,\n",
       "       0.60606061, 0.61616162, 0.62626263, 0.63636364, 0.64646465,\n",
       "       0.65656566, 0.66666667, 0.67676768, 0.68686869, 0.6969697 ,\n",
       "       0.70707071, 0.71717172, 0.72727273, 0.73737374, 0.74747475,\n",
       "       0.75757576, 0.76767677, 0.77777778, 0.78787879, 0.7979798 ,\n",
       "       0.80808081, 0.81818182, 0.82828283, 0.83838384, 0.84848485,\n",
       "       0.85858586, 0.86868687, 0.87878788, 0.88888889, 0.8989899 ,\n",
       "       0.90909091, 0.91919192, 0.92929293, 0.93939394, 0.94949495,\n",
       "       0.95959596, 0.96969697, 0.97979798, 0.98989899, 1.        ])"
      ]
     },
     "execution_count": 14,
     "metadata": {},
     "output_type": "execute_result"
    }
   ],
   "source": [
    "saturation"
   ]
  },
  {
   "cell_type": "code",
   "execution_count": 16,
   "id": "102cb02e",
   "metadata": {},
   "outputs": [
    {
     "data": {
      "text/plain": [
       "(100,)"
      ]
     },
     "execution_count": 16,
     "metadata": {},
     "output_type": "execute_result"
    }
   ],
   "source": [
    "saturation.shape"
   ]
  },
  {
   "cell_type": "markdown",
   "id": "47e3ac13",
   "metadata": {},
   "source": [
    "### zeros, ones and identity matrix"
   ]
  },
  {
   "cell_type": "code",
   "execution_count": 17,
   "id": "77ae22d3",
   "metadata": {},
   "outputs": [],
   "source": [
    "# zeros in place holder, useful in reservoir simulation, placeholder for values of reservoir\n",
    "\n",
    "zero = np.zeros((3, 5))"
   ]
  },
  {
   "cell_type": "code",
   "execution_count": 18,
   "id": "01afc340",
   "metadata": {},
   "outputs": [
    {
     "data": {
      "text/plain": [
       "array([[0., 0., 0., 0., 0.],\n",
       "       [0., 0., 0., 0., 0.],\n",
       "       [0., 0., 0., 0., 0.]])"
      ]
     },
     "execution_count": 18,
     "metadata": {},
     "output_type": "execute_result"
    }
   ],
   "source": [
    "zero"
   ]
  },
  {
   "cell_type": "code",
   "execution_count": 19,
   "id": "28f95b4e",
   "metadata": {},
   "outputs": [],
   "source": [
    "zero[2][2] = 20"
   ]
  },
  {
   "cell_type": "code",
   "execution_count": 20,
   "id": "7e887622",
   "metadata": {},
   "outputs": [
    {
     "data": {
      "text/plain": [
       "array([[ 0.,  0.,  0.,  0.,  0.],\n",
       "       [ 0.,  0.,  0.,  0.,  0.],\n",
       "       [ 0.,  0., 20.,  0.,  0.]])"
      ]
     },
     "execution_count": 20,
     "metadata": {},
     "output_type": "execute_result"
    }
   ],
   "source": [
    "zero"
   ]
  },
  {
   "cell_type": "code",
   "execution_count": 22,
   "id": "8ac1dc48",
   "metadata": {},
   "outputs": [],
   "source": [
    "# ones - operations on the reservoir grids\n",
    "\n",
    "p = np.ones((8, 8))"
   ]
  },
  {
   "cell_type": "code",
   "execution_count": 23,
   "id": "2249f775",
   "metadata": {},
   "outputs": [
    {
     "data": {
      "text/plain": [
       "array([[1., 1., 1., 1., 1., 1., 1., 1.],\n",
       "       [1., 1., 1., 1., 1., 1., 1., 1.],\n",
       "       [1., 1., 1., 1., 1., 1., 1., 1.],\n",
       "       [1., 1., 1., 1., 1., 1., 1., 1.],\n",
       "       [1., 1., 1., 1., 1., 1., 1., 1.],\n",
       "       [1., 1., 1., 1., 1., 1., 1., 1.],\n",
       "       [1., 1., 1., 1., 1., 1., 1., 1.],\n",
       "       [1., 1., 1., 1., 1., 1., 1., 1.]])"
      ]
     },
     "execution_count": 23,
     "metadata": {},
     "output_type": "execute_result"
    }
   ],
   "source": [
    "p"
   ]
  },
  {
   "cell_type": "code",
   "execution_count": 24,
   "id": "047abc39",
   "metadata": {},
   "outputs": [],
   "source": [
    "pi = 500\n",
    "p *= pi"
   ]
  },
  {
   "cell_type": "code",
   "execution_count": 25,
   "id": "10612ad2",
   "metadata": {},
   "outputs": [
    {
     "data": {
      "text/plain": [
       "500"
      ]
     },
     "execution_count": 25,
     "metadata": {},
     "output_type": "execute_result"
    }
   ],
   "source": [
    "pi"
   ]
  },
  {
   "cell_type": "code",
   "execution_count": 26,
   "id": "d118b576",
   "metadata": {},
   "outputs": [
    {
     "data": {
      "text/plain": [
       "array([[500., 500., 500., 500., 500., 500., 500., 500.],\n",
       "       [500., 500., 500., 500., 500., 500., 500., 500.],\n",
       "       [500., 500., 500., 500., 500., 500., 500., 500.],\n",
       "       [500., 500., 500., 500., 500., 500., 500., 500.],\n",
       "       [500., 500., 500., 500., 500., 500., 500., 500.],\n",
       "       [500., 500., 500., 500., 500., 500., 500., 500.],\n",
       "       [500., 500., 500., 500., 500., 500., 500., 500.],\n",
       "       [500., 500., 500., 500., 500., 500., 500., 500.]])"
      ]
     },
     "execution_count": 26,
     "metadata": {},
     "output_type": "execute_result"
    }
   ],
   "source": [
    "p"
   ]
  },
  {
   "cell_type": "code",
   "execution_count": 28,
   "id": "76c7d7aa",
   "metadata": {},
   "outputs": [],
   "source": [
    "# eye ----> creates an identity matriz"
   ]
  },
  {
   "cell_type": "code",
   "execution_count": 29,
   "id": "9d29ce14",
   "metadata": {},
   "outputs": [],
   "source": [
    "i = np.eye(5)"
   ]
  },
  {
   "cell_type": "code",
   "execution_count": 30,
   "id": "f1c3eb52",
   "metadata": {},
   "outputs": [
    {
     "data": {
      "text/plain": [
       "array([[1., 0., 0., 0., 0.],\n",
       "       [0., 1., 0., 0., 0.],\n",
       "       [0., 0., 1., 0., 0.],\n",
       "       [0., 0., 0., 1., 0.],\n",
       "       [0., 0., 0., 0., 1.]])"
      ]
     },
     "execution_count": 30,
     "metadata": {},
     "output_type": "execute_result"
    }
   ],
   "source": [
    "i"
   ]
  },
  {
   "cell_type": "code",
   "execution_count": null,
   "id": "86b87d83",
   "metadata": {},
   "outputs": [],
   "source": []
  }
 ],
 "metadata": {
  "kernelspec": {
   "display_name": "Python 3 (ipykernel)",
   "language": "python",
   "name": "python3"
  },
  "language_info": {
   "codemirror_mode": {
    "name": "ipython",
    "version": 3
   },
   "file_extension": ".py",
   "mimetype": "text/x-python",
   "name": "python",
   "nbconvert_exporter": "python",
   "pygments_lexer": "ipython3",
   "version": "3.9.6"
  }
 },
 "nbformat": 4,
 "nbformat_minor": 5
}
